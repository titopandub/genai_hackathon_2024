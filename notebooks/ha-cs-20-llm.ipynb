{
 "cells": [
  {
   "cell_type": "code",
   "execution_count": 20,
   "metadata": {},
   "outputs": [],
   "source": [
    "import vertexai\n",
    "from vertexai.language_models import TextEmbeddingModel\n",
    "from annoy import AnnoyIndex\n",
    "import pandas as pd\n",
    "\n",
    "import requests\n",
    "import os\n",
    "from dotenv import load_dotenv\n",
    "import json\n",
    "from IPython.display import display, Markdown\n",
    "\n",
    "from langchain_google_vertexai import VertexAI\n",
    "from langchain_core.prompts import PromptTemplate\n",
    "from langchain_core.prompts import ChatPromptTemplate, PromptTemplate\n",
    "from langchain_core.output_parsers import StrOutputParser\n",
    "from langchain_core.prompts import ChatPromptTemplate\n",
    "from langchain_core.runnables import RunnableBranch\n",
    "\n",
    "load_dotenv()\n",
    "\n",
    "vertexai.init(project=\"vidio-quiz-prod\", location=\"asia-southeast1\")\n",
    "embedding_model = TextEmbeddingModel.from_pretrained(\"textembedding-gecko-multilingual\")"
   ]
  },
  {
   "cell_type": "code",
   "execution_count": 4,
   "metadata": {},
   "outputs": [
    {
     "data": {
      "text/plain": [
       "True"
      ]
     },
     "execution_count": 4,
     "metadata": {},
     "output_type": "execute_result"
    }
   ],
   "source": [
    "final_df = pd.read_json('./data/faq_embed.json', lines=True)\n",
    "\n",
    "annoy_index = AnnoyIndex(768, 'dot')\n",
    "for index, row in final_df.iterrows():\n",
    "    annoy_index.add_item(row['id'], row['embedding'])\n",
    "annoy_index.build(10)"
   ]
  },
  {
   "cell_type": "code",
   "execution_count": 21,
   "metadata": {},
   "outputs": [],
   "source": [
    "class Larva:\n",
    "    @staticmethod\n",
    "    def get_play_history_film(user_id):\n",
    "        api_key = os.environ.get(\"LARVA_APPLICATION_KEY\", \"\")\n",
    "        larva_url = os.environ.get(\"LARVA_URL\", \"http://localhost:6000\")\n",
    "        larva_response = requests.get(f\"{larva_url}/vidio/user-play-start-history-films\", params={'user_id': user_id}, headers={'key': api_key})\n",
    "        return [play_history['film_id'] for play_history in json.loads(larva_response.content)['records']][:5]\n",
    "\n",
    "class Embedding:\n",
    "    def __init__(self, model) -> None:\n",
    "        self.model = model\n",
    "\n",
    "    def embedding_text(self, text):\n",
    "        embeddings = self.model.get_embeddings([text])\n",
    "        for embedding in embeddings:\n",
    "            vector = embedding.values\n",
    "            # print(f\"Length of Embedding Vector: {len(vector)}\")\n",
    "        return vector\n",
    "\n",
    "embedding_model = TextEmbeddingModel.from_pretrained(\"textembedding-gecko-multilingual\")\n",
    "embedding = Embedding(embedding_model)\n",
    "\n",
    "class VectorSearchFaq:\n",
    "    def __init__(self, embedding:Embedding) -> None:\n",
    "        self.embedding = embedding\n",
    "\n",
    "        self.final_df = final_df\n",
    "        self.annoy_index = annoy_index\n",
    "\n",
    "        # self.final_df = pd.read_json('./data/faq_embed.json', lines=True)\n",
    "        # self.annoy_index = AnnoyIndex(768, 'dot')\n",
    "        # for index, row in self.final_df.iterrows():\n",
    "        #     self.annoy_index.add_item(row['id'], row['embedding'])\n",
    "        # self.annoy_index.build(10)\n",
    "\n",
    "    def search(self, query, limit=10):\n",
    "        query_vector = self.embedding.embedding_text(query)\n",
    "        return self.annoy_index.get_nns_by_vector(query_vector, limit, search_k=-1)\n",
    "\n",
    "    def lookup_md(self, ids):\n",
    "        return self.final_df[self.final_df['id'].isin(ids)]['markdown'].values.tolist()\n",
    "\n",
    "vector_search = VectorSearchFaq(embedding)"
   ]
  },
  {
   "cell_type": "code",
   "execution_count": 7,
   "metadata": {},
   "outputs": [],
   "source": [
    "# ids = vector_search.search(\"berpa harga langganan\")\n",
    "# # results = vector_search.lookup_md([714399])\n",
    "# results = vector_search.lookup_md(ids)\n",
    "# tmp = \"\"\n",
    "# for result in results:\n",
    "#     tmp = tmp + \"\\n# =========\"+ result\n",
    "# Markdown(tmp)"
   ]
  },
  {
   "cell_type": "code",
   "execution_count": 23,
   "metadata": {},
   "outputs": [],
   "source": [
    "model = VertexAI(model_name=\"gemini-pro\")\n",
    "\n",
    "def tanya(user_query):\n",
    "    prompt = ChatPromptTemplate.from_template(\"\"\"\n",
    "You are customer service for vidio OTT platform.\n",
    "Your task is to answer to user question\n",
    "\n",
    "Here are the useful information:\n",
    "{information} \n",
    "\n",
    "User question: {user_query}\n",
    "    \"\"\")\n",
    "    output_parser = StrOutputParser()\n",
    "\n",
    "    chain = prompt | model | output_parser\n",
    "\n",
    "    ids = vector_search.search(user_query)\n",
    "    results = vector_search.lookup_md(ids)\n",
    "    tmp = \"\"\n",
    "    for result in results:\n",
    "        tmp = tmp + \"\\n\" + result\n",
    "\n",
    "    return Markdown(chain.invoke({\"user_query\": user_query, \"information\": tmp}))"
   ]
  },
  {
   "cell_type": "code",
   "execution_count": 9,
   "metadata": {},
   "outputs": [
    {
     "data": {
      "text/markdown": [
       "Untuk membeli paket Vidio Platinum Mahasiswa, ikuti langkah berikut : \n",
       "\n",
       "1. Masuk atau daftar dengan email kampus\n",
       "2. Pastikan sedang tidak memiliki paket aktif Platinum di Vidio\n",
       "3. Verifikasi email-mu\n",
       "4. Beli paketnya via [Paywall](https://www.vidio.com/plans?fpc=80) atau halaman [Platinum Mahasiswa](https://www.vidio.com/pages/234/paket-mahasiswa?layout=false&utm_source=product&utm_medium=faq_page&utm_campaign=platinum_mahasiswa_2023)\n",
       "5. Langsung nonton di Vidio!"
      ],
      "text/plain": [
       "<IPython.core.display.Markdown object>"
      ]
     },
     "execution_count": 9,
     "metadata": {},
     "output_type": "execute_result"
    }
   ],
   "source": [
    "tanya(\"bagaimana mendaftar paket mahasiswa?\")"
   ]
  },
  {
   "cell_type": "code",
   "execution_count": 10,
   "metadata": {},
   "outputs": [
    {
     "data": {
      "text/markdown": [
       "Informasi yang Anda berikan tidak menyertakan cara main Vidio Arcade, sehingga saya tidak dapat menjawab pertanyaan tersebut."
      ],
      "text/plain": [
       "<IPython.core.display.Markdown object>"
      ]
     },
     "execution_count": 10,
     "metadata": {},
     "output_type": "execute_result"
    }
   ],
   "source": [
    "tanya(\"bagaimana cara main vidio arcade\")"
   ]
  },
  {
   "cell_type": "code",
   "execution_count": 11,
   "metadata": {},
   "outputs": [
    {
     "data": {
      "text/markdown": [
       "Berikut cara untuk melakukan pembelian/top-up Energy:\n",
       "\n",
       "1. Pastikan kamu sudah mempunyai akun dan login di aplikasi Vidio\n",
       "2. Klik icon Energy yang ada di menu Arcade\n",
       "3. Setelah klik, kamu akan diarahkan ke halaman pembelian Energy\n",
       "4. Kamu bisa langsung pilih jumlah Energy yang kamu inginkan dan lakukan pembayaran\n",
       "5. Setelah itu, Energy akan langsung ditambahkan ke akun kamu dan siap kamu pakai untuk bermain games Vidio Arcade!"
      ],
      "text/plain": [
       "<IPython.core.display.Markdown object>"
      ]
     },
     "execution_count": 11,
     "metadata": {},
     "output_type": "execute_result"
    }
   ],
   "source": [
    "tanya(\"bagaimana cara topup energy\")"
   ]
  },
  {
   "cell_type": "code",
   "execution_count": 60,
   "metadata": {},
   "outputs": [],
   "source": [
    "\n",
    "def cs_chain(user_query):\n",
    "    chain = (ChatPromptTemplate.from_template(\n",
    "\"\"\"\n",
    "You are customer service for vidio OTT platform.\n",
    "Your task is to answer to user question\n",
    "\n",
    "Here are the useful information:\n",
    "{information} \n",
    "\n",
    "User question: {user_query}\n",
    "\"\"\"\n",
    "    ) | model | StrOutputParser())\n",
    "\n",
    "    ids = vector_search.search(user_query)\n",
    "    results = vector_search.lookup_md(ids)\n",
    "    tmp = \"\"\n",
    "    for result in results:\n",
    "        tmp = tmp + \"\\n\" + result\n",
    "\n",
    "    return chain.invoke({\"user_query\": user_query, \"information\": tmp})"
   ]
  },
  {
   "cell_type": "code",
   "execution_count": 61,
   "metadata": {},
   "outputs": [],
   "source": [
    "\n",
    "def reco_chain(user_query):\n",
    "    chain = ( PromptTemplate.from_template(\n",
    "\"\"\"\n",
    "You are chatbot for Vidio OTT platform        \n",
    "Recommend film from vidio base on user query\n",
    "\n",
    "<user_query>\n",
    "{user_query}\n",
    "</user_query>\n",
    "\n",
    "Classification:\n",
    "\"\"\"\n",
    "    ) | model | StrOutputParser() ) \n",
    "\n",
    "    return chain"
   ]
  },
  {
   "cell_type": "code",
   "execution_count": 62,
   "metadata": {},
   "outputs": [],
   "source": [
    "\n",
    "route_chain = (\n",
    "    PromptTemplate.from_template(\n",
    "        \"\"\"\n",
    "You are chatbot for Vidio OTT platform        \n",
    "Given the user question below, classify it as either being about `customer service`, recommendation`, or `other`.\n",
    "\n",
    "Do not respond with more than one word.\n",
    "\n",
    "<user_query>\n",
    "{user_query}\n",
    "</user_query>\n",
    "\n",
    "Classification:\n",
    "\"\"\"\n",
    "    ) | model | StrOutputParser() \n",
    ") "
   ]
  },
  {
   "cell_type": "code",
   "execution_count": 63,
   "metadata": {},
   "outputs": [],
   "source": [
    "def run(user_query):\n",
    "    branch = RunnableBranch(\n",
    "        (lambda x: \"customer service\" in x[\"topic\"], lambda x: cs_chain(x[\"user_query\"])),\n",
    "        (lambda x: \"recommendation\" in x[\"topic\"], lambda x: reco_chain(x[\"user_query\"])),\n",
    "        reco_chain\n",
    "    )\n",
    "    full_chain = {\"topic\": route_chain, \"user_query\": lambda x: x[\"user_query\"]} | branch | StrOutputParser()\n",
    "    resp = full_chain.invoke({\"user_query\": user_query}) \n",
    "\n",
    "    return Markdown(resp)"
   ]
  },
  {
   "cell_type": "code",
   "execution_count": 64,
   "metadata": {},
   "outputs": [
    {
     "data": {
      "text/markdown": [
       "Untuk membeli paket Vidio Platinum Mahasiswa, ikuti langkah berikut :\n",
       "\n",
       "1. Masuk atau daftar dengan email kampus\n",
       "2. Pastikan sedang tidak memiliki paket aktif Platinum di Vidio\n",
       "3. Verifikasi email-mu\n",
       "4. Beli paketnya via [Paywall](https://www.vidio.com/plans?fpc=80) atau halaman [Platinum Mahasiswa](https://www.vidio.com/pages/234/paket-mahasiswa?layout=false&utm_source=product&utm_medium=faq_page&utm_campaign=platinum_mahasiswa_2023)\n",
       "5. Langsung nonton di Vidio!"
      ],
      "text/plain": [
       "<IPython.core.display.Markdown object>"
      ]
     },
     "execution_count": 64,
     "metadata": {},
     "output_type": "execute_result"
    }
   ],
   "source": [
    "run(\"bagaimana mendaftar paket mahasiswa\")"
   ]
  },
  {
   "cell_type": "code",
   "execution_count": 54,
   "metadata": {},
   "outputs": [
    {
     "data": {
      "text/markdown": [
       "- Category: Genre\n",
       "- Value: Action"
      ],
      "text/plain": [
       "<IPython.core.display.Markdown object>"
      ]
     },
     "execution_count": 54,
     "metadata": {},
     "output_type": "execute_result"
    }
   ],
   "source": [
    "run(\"saya mau nonton film action\")"
   ]
  }
 ],
 "metadata": {
  "kernelspec": {
   "display_name": "Python 3 (ipykernel)",
   "language": "python",
   "name": "python3"
  },
  "language_info": {
   "codemirror_mode": {
    "name": "ipython",
    "version": 3
   },
   "file_extension": ".py",
   "mimetype": "text/x-python",
   "name": "python",
   "nbconvert_exporter": "python",
   "pygments_lexer": "ipython3",
   "version": "3.10.12"
  }
 },
 "nbformat": 4,
 "nbformat_minor": 2
}
