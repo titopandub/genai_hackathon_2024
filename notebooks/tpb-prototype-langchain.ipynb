{
 "cells": [
  {
   "cell_type": "code",
   "execution_count": 12,
   "metadata": {},
   "outputs": [],
   "source": [
    "import vertexai\n",
    "from vertexai.language_models import TextEmbeddingModel\n",
    "from annoy import AnnoyIndex\n",
    "import pandas as pd\n",
    "from langchain_google_vertexai import VertexAI\n",
    "from langchain_core.output_parsers import StrOutputParser\n",
    "from langchain_core.prompts import ChatPromptTemplate, PromptTemplate\n",
    "from langchain_core.runnables import RunnableLambda\n",
    "\n",
    "vertexai.init(project=\"vidio-quiz-prod\", location=\"asia-southeast1\")\n",
    "embedding_model = TextEmbeddingModel.from_pretrained(\"textembedding-gecko-multilingual\")\n",
    "model = VertexAI(model_name=\"gemini-pro\", temperature=0.4)"
   ]
  },
  {
   "cell_type": "code",
   "execution_count": 13,
   "metadata": {},
   "outputs": [
    {
     "data": {
      "text/plain": [
       "True"
      ]
     },
     "execution_count": 13,
     "metadata": {},
     "output_type": "execute_result"
    }
   ],
   "source": [
    "final_df = pd.read_json('data/film_metadata.json', lines=True)\n",
    "\n",
    "annoy_index = AnnoyIndex(768, 'dot')\n",
    "for index, row in final_df.iterrows():\n",
    "    annoy_index.add_item(row['id'], row['embedding'])\n",
    "annoy_index.build(10)"
   ]
  },
  {
   "cell_type": "code",
   "execution_count": 14,
   "metadata": {},
   "outputs": [],
   "source": [
    "import requests\n",
    "import os\n",
    "from dotenv import load_dotenv\n",
    "import json\n",
    "\n",
    "load_dotenv()\n",
    "\n",
    "class Larva:\n",
    "    @staticmethod\n",
    "    def get_play_history_film(user_id):\n",
    "        api_key = os.environ.get(\"LARVA_APPLICATION_KEY\", \"\")\n",
    "        larva_url = os.environ.get(\"LARVA_URL\", \"http://localhost:6000\")\n",
    "        larva_response = requests.get(f\"{larva_url}/vidio/user-play-start-history-films\", params={'user_id': user_id}, headers={'key': api_key})\n",
    "        return [play_history['film_id'] for play_history in json.loads(larva_response.content)['records']][:5]\n",
    "\n",
    "# please give the interface here:\n",
    "def get_grounding(response, history_film_ids):\n",
    "    vector_search_result = \"\"\n",
    "\n",
    "    if len(response) != 0:\n",
    "        vector_film_ids = vector_search(embedding_model, response)\n",
    "        vector_search_result = lookup_film_complete_text(vector_film_ids)\n",
    "    else:\n",
    "        if len(history_film_ids) > 0:\n",
    "            film_ids = []\n",
    "            vector_search_result\n",
    "            for film_id in history_film_ids:\n",
    "                film_search_query = lookup_film([film_id])\n",
    "                if film_search_query != \"\":\n",
    "                    film_ids += vector_search(embedding_model, film_search_query)\n",
    "            vector_search_result = lookup_film_complete_text(set(film_ids))\n",
    "    return vector_search_result\n",
    "\n",
    "class Embedding:\n",
    "    def __init__(self, model) -> None:\n",
    "        self.model = model\n",
    "\n",
    "    def embedding_text(self, text):\n",
    "        embeddings = self.model.get_embeddings([text])\n",
    "        for embedding in embeddings:\n",
    "            vector = embedding.values\n",
    "            # print(f\"Length of Embedding Vector: {len(vector)}\")\n",
    "        return vector\n",
    "    \n",
    "\n",
    "embedding_model = TextEmbeddingModel.from_pretrained(\"textembedding-gecko-multilingual\")\n",
    "embedding = Embedding(embedding_model)\n",
    "\n",
    "class VectorSearch:\n",
    "    def __init__(self, embedding:Embedding) -> None:\n",
    "        self.embedding = embedding\n",
    "        self.final_df = pd.read_json('./data/film_metadata.json', lines=True)\n",
    "        self.annoy_index = AnnoyIndex(768, 'dot')\n",
    "        for index, row in self.final_df.iterrows():\n",
    "            self.annoy_index.add_item(row['id'], row['embedding'])\n",
    "        self.annoy_index.build(10)\n",
    "\n",
    "    def search(self, query, limit=10):\n",
    "        query_vector = self.embedding.embedding_text(query)\n",
    "        return self.annoy_index.get_nns_by_vector(query_vector, limit, search_k=-1)\n",
    "\n",
    "    def lookup_film(self, film_ids):\n",
    "        return \"\\n\\n\".join([search_text for search_text in self.final_df[self.final_df['id'].isin(film_ids)]['search_text'].values.tolist()])\n",
    "\n",
    "    def lookup_film_complete_text(self, film_ids):\n",
    "        film_search_text = []\n",
    "        for id, search_text in self.final_df[self.final_df['id'].isin(film_ids)][['id', 'search_text']].values.tolist():\n",
    "            film_search_text.append(f\"ID: {str(id)}\\n{search_text}\")\n",
    "        return \"\\n\\n\".join(film_search_text)\n",
    "\n",
    "    def get_grounding(self, response, history_film_ids):\n",
    "        vector_search_result = \"\"\n",
    "\n",
    "        if len(response) != 0:\n",
    "            vector_film_ids = self.search(response)\n",
    "            vector_search_result = self.lookup_film_complete_text(vector_film_ids)\n",
    "        else:\n",
    "            if len(history_film_ids) > 0:\n",
    "                film_ids = []\n",
    "                vector_search_result\n",
    "                for film_id in history_film_ids:\n",
    "                    film_search_query = self.lookup_film([film_id])\n",
    "                    if film_search_query != \"\":\n",
    "                        film_ids += self.search(film_search_query)\n",
    "                vector_search_result = self.lookup_film_complete_text(set(film_ids))\n",
    "        return vector_search_result\n",
    "\n",
    "vector_search = VectorSearch(embedding)"
   ]
  },
  {
   "cell_type": "code",
   "execution_count": 15,
   "metadata": {},
   "outputs": [
    {
     "name": "stdout",
     "output_type": "stream",
     "text": [
      "ID: 9372\n",
      "title: ratu adil\n",
      "description: Lasja mendapati suami dan ayahnya terlibat dalam konflik bisnis mafia. Ia bertekad melindungi keluarganya meski harus mengangkat kembali pistolnya.\n",
      "group: series > vidio original\n",
      "genres: crime, action, crime, drama\n",
      "directors: ginanti rona, tommy dewo\n",
      "actors: abdurrahman arif, andri mashadi, budi ros, dian sastrowardoyo, donny damara, hana malasan, ira wibowo, khiva iskak, muhammad khan, nino fernandez\n",
      "country: indonesia\n",
      "release year: 2024\n",
      "age rating: 18 or more\n",
      "popularity: trending\n"
     ]
    }
   ],
   "source": [
    "result = vector_search.lookup_film_complete_text([9372])\n",
    "print(result)"
   ]
  },
  {
   "cell_type": "code",
   "execution_count": 23,
   "metadata": {},
   "outputs": [],
   "source": [
    "from langchain_core.pydantic_v1 import BaseModel, Field\n",
    "from typing import List\n",
    "from langchain_core.output_parsers import JsonOutputParser\n",
    "\n",
    "\n",
    "class Recommendation(BaseModel):\n",
    "    id: int = Field(description=\"ID of the content\")\n",
    "    title: str = Field(description=\"title of the content, use title case for this\")\n",
    "    explanation: str = Field(description=\"why you recommend this content\")\n",
    "\n",
    "class RecommendationList(BaseModel):\n",
    "    __root__: List[Recommendation]\n",
    "\n",
    "def parse_final_response(final_response):\n",
    "    items = []\n",
    "    for item in final_response['items']:\n",
    "        image, link = final_df[final_df['id'] == item['id']][['image_url', 'content_url']].values[0]\n",
    "        items.append(f\"* Judul: **{item['title']}**\\n\\n  Kenapa kamu suka: {item['explanation']}\\n\\n  [![{item['title']}]({image})]({link})\")\n",
    "    return \"\\n\\n\\n\".join(items)\n",
    "\n",
    "def need_recommendation(text):\n",
    "    return text.lower() in ['true', '1', 't', 'y', 'yes', 'yeah', 'yup', 'certainly', 'uh-huh']\n",
    "\n",
    "output_parser = StrOutputParser()\n",
    "json_parser = JsonOutputParser(pydantic_object=RecommendationList)\n",
    "\n",
    "template_need_recommendation = \"\"\"You are Chat Recommendation Engine. Your task is to determine if user prompt need recommendation of movies or not. Answer False if the prompt not related in your task for recommending movies\n",
    "User prompt: {user_query}\n",
    "You need to answer in True or False only.\"\"\"\n",
    "prompt_need_recommendation = ChatPromptTemplate.from_template(template_need_recommendation)\n",
    "\n",
    "template_need_vector_search = \"\"\"You are Chat Recommendation Engine, your job is to decide if we need to summarize User Query and look up to Vector Search or not.\n",
    "User Query: {user_query}\n",
    "Summarize the User Query as context to look up to Vector Search. If there is no context need to look up, you can answer with empty.\"\"\"\n",
    "prompt_need_vector_search = ChatPromptTemplate.from_template(template_need_vector_search)\n",
    "\n",
    "template_recommendation = \"\"\"You are content expert from OTT company.\n",
    "Your task is to give recommendation based on User Query, Movie Data retrieved from Vector Search and User History.\n",
    "The answer in **Bahasa Indonesia**, give **5 (five)** recommendation, re-rank the recommendation based on User Query and User History relevancy.\n",
    "{format_instructions}\n",
    "Always use title case for title field.\n",
    "Do not recommend content from User History unless it really relevant for them based on their query.\n",
    "Give the explanation for each content why it relevant for the user based on the User Query and User History. The explanation should show only if it is relevant to be shown to user and summarize it based on User Query and User History.\n",
    "\n",
    "Here is the context.\n",
    "User Query: {user_query}\n",
    "\n",
    "Vector Search Result:\n",
    "{vector_search_result}\n",
    "\n",
    "User History:\n",
    "{user_history}\"\"\"\n",
    "prompt_recommendation = PromptTemplate(\n",
    "    template=template_recommendation,\n",
    "    input_variables=[\"user_query\", \"vector_search_result\", \"user_history\"],\n",
    "    partial_variables={\"format_instructions\": json_parser.get_format_instructions()},\n",
    ")\n",
    "unclear_prompt_no_watch_history = \"\"\"Hmm, saya masih belajar menjawab pertanyaan seperti itu. Tapi soal rekomendasi film dan series saya jagonya!\\n\\nCoba tanya 'film komedi romantis yang lucu' atau 'film thriller yang menegangkan'\"\"\"\n",
    "unclear_prompt_has_watch_history = \"\"\"Wah, pertanyaan bagus! Namun saat ini, fokus saya membantu kamu menemukan film dan series terbaik.\\n\\nBerdasarkan film & series yang kamu tonton sebelumnya, sepertinya kamu menyukai film-film berikut ini.\"\"\"\n",
    "\n",
    "chain_need_recommendation = prompt_need_recommendation | model | output_parser | RunnableLambda(need_recommendation)\n",
    "chain_need_vector_search = prompt_need_vector_search | model | output_parser\n",
    "chain_recommendation = prompt_recommendation | model #| json_parser\n",
    "\n",
    "def ask_recommendation(user_query, user_id):\n",
    "    is_need_reco = chain_need_recommendation.invoke({\"user_query\": user_query})\n",
    "\n",
    "    if is_need_reco:\n",
    "        chain_need_vector_search_response = chain_need_vector_search.invoke({\"user_query\": user_query})\n",
    "        history_film_ids = Larva.get_play_history_film(user_id)\n",
    "        user_history = vector_search.lookup_film(history_film_ids)\n",
    "        vector_search_result = vector_search.get_grounding(chain_need_vector_search_response, history_film_ids)\n",
    "        final_response = chain_recommendation.invoke({\"user_query\": user_query, \"vector_search_result\": vector_search_result, \"user_history\": user_history})\n",
    "        # final_response = parse_final_response(final_response)\n",
    "    else:\n",
    "        history_film_ids = Larva.get_play_history_film(user_id)\n",
    "        if len(history_film_ids) > 0:\n",
    "            user_history = vector_search.lookup_film(history_film_ids)\n",
    "            vector_search_result = vector_search.get_grounding(\"\", history_film_ids)\n",
    "            final_response = chain_recommendation.invoke({\"user_query\": user_query, \"vector_search_result\": vector_search_result, \"user_history\": user_history})\n",
    "            # final_response = f\"{unclear_prompt_has_watch_history}\\n\\n{parse_final_response(final_response)}\"\n",
    "        else:\n",
    "            final_response = unclear_prompt_no_watch_history\n",
    "    return final_response"
   ]
  },
  {
   "cell_type": "code",
   "execution_count": 30,
   "metadata": {},
   "outputs": [
    {
     "name": "stdout",
     "output_type": "stream",
     "text": [
      "{\"items\": [{\"id\": 5902, \"title\": \"Cosmopolitan - Exclusive Interview\", \"explanation\": \"Ini adalah konten hiburan yang ringan dan cocok untuk mengisi waktu luang Anda.\"}, {\"id\": 5815, \"title\": \"Keluyuran - Ngeluyurin Bandung\", \"explanation\": \"Konten ini berisi rekomendasi tempat-tempat seru di Bandung, cocok untuk Anda yang sedang mencari hiburan di sekitar kota.\"}, {\"id\": 6698, \"title\": \"Kpop on Class - Koc Clip\", \"explanation\": \"Konten ini berisi cover video klip Korea, cocok untuk Anda yang menyukai musik dan budaya Korea.\"}, {\"id\": 5930, \"title\": \"Love O2O\", \"explanation\": \"Ini adalah drama Mandarin yang ringan dan menghibur, cocok untuk Anda yang suka cerita romantis.\"}, {\"id\": 9590, \"title\": \"Wanted\", \"explanation\": \"Film action yang seru dan menegangkan, cocok untuk Anda yang mencari hiburan yang memacu adrenalin.\"}]}\n"
     ]
    }
   ],
   "source": [
    "user_query = \"gw lagi bosen nih cocoknya nonton film apa ya?\"\n",
    "user_id = 54936340\n",
    "\n",
    "final_response = ask_recommendation(user_query, user_id)\n",
    "print(final_response)"
   ]
  },
  {
   "cell_type": "code",
   "execution_count": 32,
   "metadata": {},
   "outputs": [],
   "source": [
    "template_general = \"\"\"Given a user's query on any topic, use your extensive database and understanding of various subjects to provide a clear, accurate, and helpful answer.\n",
    "Prioritize directness and relevance in your response, ensuring it is informative and accessible to the user. If the question falls outside your expertise, offer guidance on where or how they might find the desired information.\n",
    "Always communicate in a friendly and professional tone, fostering a positive user experience. Please answer according to user's query.\n",
    "\n",
    "User Query: {user_query}\n",
    "Answer: \"\"\"\n",
    "prompt_general = ChatPromptTemplate.from_template(template_general)\n",
    "chain_general = prompt_general | model | output_parser\n",
    "\n",
    "def ask_general_question(user_query, user_id=0):\n",
    "    final_response = chain_general.invoke({\"user_query\": user_query})\n",
    "    return final_response"
   ]
  },
  {
   "cell_type": "code",
   "execution_count": 33,
   "metadata": {},
   "outputs": [
    {
     "data": {
      "text/plain": [
       "'Potato'"
      ]
     },
     "execution_count": 33,
     "metadata": {},
     "output_type": "execute_result"
    }
   ],
   "source": [
    "ask_general_question(\"say potato\")"
   ]
  },
  {
   "cell_type": "code",
   "execution_count": 20,
   "metadata": {},
   "outputs": [
    {
     "name": "stdout",
     "output_type": "stream",
     "text": [
      "* Judul: **No Mercy**\n",
      "\n",
      "  Kenapa kamu suka: Film ini memiliki genre action dan thriller yang sesuai dengan keinginan Anda untuk menonton film yang seru dan menegangkan.\n",
      "\n",
      "  [![No Mercy](https://thumbor.prod.vidiocdn.com/tHAsMdvfP4PVd_kL7z1YlnW2JPE=/223x332/filters:quality(75)/vidio-web-prod-film/uploads/film/image_portrait/7332/no-mercy-eec4d8.jpg)](https://www.vidio.com/premier/7332)\n",
      "\n",
      "\n",
      "* Judul: **She's on Duty**\n",
      "\n",
      "  Kenapa kamu suka: Film ini bergenre action dan komedi yang dapat menghibur Anda dengan adegan-adegan aksi yang seru dan humor yang menggelitik.\n",
      "\n",
      "  [![She's on Duty](https://thumbor.prod.vidiocdn.com/qhUMGd9EV02eJP8Cwap7EkTuW44=/223x332/filters:quality(75)/vidio-web-prod-film/uploads/film/image_portrait/7334/she-s-on-duty-93f542.png)](https://www.vidio.com/premier/7334)\n",
      "\n",
      "\n",
      "* Judul: **The Suspect**\n",
      "\n",
      "  Kenapa kamu suka: Film ini bergenre action dan thriller yang akan membuat Anda tegang dan penasaran dengan alur ceritanya yang menegangkan.\n",
      "\n",
      "  [![The Suspect](https://thumbor.prod.vidiocdn.com/t37WPdAjqKDsy9zOcTn39ISB9V8=/223x332/filters:quality(75)/vidio-web-prod-film/uploads/film/image_portrait/7335/the-suspect-49a813.jpg)](https://www.vidio.com/premier/7335)\n",
      "\n",
      "\n",
      "* Judul: **Emergency Declaration**\n",
      "\n",
      "  Kenapa kamu suka: Film ini bergenre action dan thriller yang akan membuat Anda tegang dan penasaran dengan alur ceritanya yang menegangkan.\n",
      "\n",
      "  [![Emergency Declaration](https://thumbor.prod.vidiocdn.com/WcgXIW3yODD8Qdd5MxdIRxc-dgE=/223x332/filters:quality(75)/vidio-web-prod-film/uploads/film/image_portrait/7234/emergency-declaration-068954.jpg)](https://www.vidio.com/premier/7234)\n",
      "\n",
      "\n",
      "* Judul: **The Witch: Part 2 The Other One**\n",
      "\n",
      "  Kenapa kamu suka: Film ini bergenre action dan thriller yang akan membuat Anda tegang dan penasaran dengan alur ceritanya yang menegangkan.\n",
      "\n",
      "  [![The Witch: Part 2 The Other One](https://thumbor.prod.vidiocdn.com/FsEjMOqlfXPLoSgdRtFVpROO6qs=/223x332/filters:quality(75)/vidio-web-prod-film/uploads/film/image_portrait/7063/the-witch-part-2-the-other-one-1d0768.jpg)](https://www.vidio.com/premier/7063)\n"
     ]
    }
   ],
   "source": []
  },
  {
   "cell_type": "code",
   "execution_count": 191,
   "metadata": {},
   "outputs": [
    {
     "data": {
      "text/markdown": [
       "* Judul: **Serial Indonesia 2024**\n",
       "\n",
       "  Kenapa kamu suka: Kamu baru aja nonton ini, jadi kali ini kita rekomendasikan konten lain ya\n",
       "\n",
       "  [![Serial Indonesia 2024](https://thumbor.prod.vidiocdn.com/8U8zySHN9koEGPXDp_84z_vAgrE=/223x332/filters:quality(75)/vidio-web-prod-film/uploads/film/image_portrait/9642/serial-indonesia-2024-a48abe.jpg)](https://www.vidio.com/premier/9642)\n",
       "\n",
       "\n",
       "* Judul: **Sosmed**\n",
       "\n",
       "  Kenapa kamu suka: Ini series terbaru dari Indonesia, temanya anak muda dan media sosial. Pas banget kayaknya sama yang lagi kamu cari\n",
       "\n",
       "  [![Sosmed](https://thumbor.prod.vidiocdn.com/0zk1vw8DyFKRoX5xqYMz9O23oPE=/223x332/filters:quality(75)/vidio-web-prod-film/uploads/film/image_portrait/2567/sosmed-76e90a.jpg)](https://www.vidio.com/premier/2567)\n",
       "\n",
       "\n",
       "* Judul: **Hotel Del Luna**\n",
       "\n",
       "  Kenapa kamu suka: Hotel Del Luna ini series Korea yang tayang di Vidio. Selain ceritanya yang bagus, aktor dan aktrisnya juga keren-keren, lho\n",
       "\n",
       "  [![Hotel Del Luna](https://thumbor.prod.vidiocdn.com/oIrFVaaUAJDdTEt0hWajK03st70=/223x332/filters:quality(75)/vidio-web-prod-film/uploads/film/image_portrait/1935/hotel-del-luna-964581.jpg)](https://www.vidio.com/premier/1935)\n",
       "\n",
       "\n",
       "* Judul: **Decision to Leave**\n",
       "\n",
       "  Kenapa kamu suka: Kalau kamu suka film action dan misteri, Decision to Leave ini cocok banget. Film ini juga lagi trending di Vidio\n",
       "\n",
       "  [![Decision to Leave](https://thumbor.prod.vidiocdn.com/nyn2kBAwsM_vOVHT8zfKCPJlNG0=/223x332/filters:quality(75)/vidio-web-prod-film/uploads/film/image_portrait/7379/decision-to-leave-62b684.jpg)](https://www.vidio.com/premier/7379)\n",
       "\n",
       "\n",
       "* Judul: **The Accidental Detective**\n",
       "\n",
       "  Kenapa kamu suka: The Accidental Detective ini film Korea yang juga ada di Vidio. Film ini kocak dan seru, cocok buat yang lagi butuh hiburan\n",
       "\n",
       "  [![The Accidental Detective](https://thumbor.prod.vidiocdn.com/-8zd8vxV__oH8D39vDXsbNmF1Kw=/223x332/filters:quality(75)/vidio-web-prod-film/uploads/film/image_portrait/1560/the-accidental-detective-43fea1.jpg)](https://www.vidio.com/premier/1560)"
      ],
      "text/plain": [
       "<IPython.core.display.Markdown object>"
      ]
     },
     "execution_count": 191,
     "metadata": {},
     "output_type": "execute_result"
    }
   ],
   "source": [
    "from IPython.display import display, Markdown\n",
    "\n",
    "Markdown(final_response)"
   ]
  },
  {
   "cell_type": "code",
   "execution_count": 55,
   "metadata": {},
   "outputs": [
    {
     "name": "stdout",
     "output_type": "stream",
     "text": [
      "user prompt: hari senin cocok nonton film apa ya?\n",
      "\n",
      "1. **Descendants of the Sun**\n",
      "- Kisah cinta antara ahli bedah dan kapten pasukan khusus.\n",
      "- Genre: Romance, action, comedy, drama.\n",
      "- Relevan karena sama-sama bertemakan kisah cinta.\n",
      "\n",
      "2. **The Moon**\n",
      "- Seorang astronot yang terdampar di luar angkasa mencoba untuk kembali ke Bumi.\n",
      "- Genre: Adventure, action, adventure, drama, sci-fi.\n",
      "- Relevan karena sama-sama bergenre adventure.\n",
      "\n",
      "3. **The 100**\n",
      "- Sekelompok remaja dikirim ke Bumi untuk menguji kelayakan planet ini setelah perang nuklir.\n",
      "- Genre: Sci-fi, adventure, drama, mystery, sci-fi.\n",
      "- Relevan karena sama-sama bertemakan survival.\n",
      "\n",
      "4. **Bad Teacher**\n",
      "- Seorang guru sekolah yang malas dan tidak kompeten berusaha untuk mendapatkan uang untuk implan payudara.\n",
      "- Genre: Romance, comedy, romance.\n",
      "- Relevan karena sama-sama bertemakan kehidupan sekolah.\n",
      "\n",
      "5. **Resep Masak Dapur Abu Tosca**\n",
      "- Kumpulan resep masakan dari dapur Abu Tosca.\n",
      "- Genre: Cooking, cooking, hobbies.\n",
      "- Relevan karena sama-sama bertemakan memasak, meskipun terdapat perbedaan konteks (masakan fiksi vs masakan nyata).\n"
     ]
    }
   ],
   "source": [
    "print(f\"user prompt: {user_query}\\n\")\n",
    "print(final_response)"
   ]
  },
  {
   "cell_type": "code",
   "execution_count": 56,
   "metadata": {},
   "outputs": [
    {
     "name": "stdout",
     "output_type": "stream",
     "text": [
      "**Ringkasan Chat Sebelumnya:**\n",
      "\n",
      "Kamu sedang mencari film yang cocok untuk ditonton pada hari Senin. Beberapa rekomendasi telah diberikan, mempertimbangkan riwayat tontonan kamu.\n",
      "\n",
      "**Rekomendasi:**\n",
      "\n",
      "1. **Descendants of the Sun** (Serial Korea)\n",
      "2. **The Moon** (Film Korea)\n",
      "3. **The 100** (Serial Barat)\n",
      "4. **Bad Teacher** (Film Barat)\n",
      "5. **Resep Masak Dapur Abu Tosca** (Konten Kuliner)\n",
      "\n",
      "**Penjelasan Relevansi:**\n",
      "\n",
      "**Descendants of the Sun:** Bertemakan kisah cinta, seperti rekomendasi sebelumnya.\n",
      "\n",
      "**The Moon:** Bergenre petualangan, seperti rekomendasi sebelumnya.\n",
      "\n",
      "**The 100:** Bertemakan bertahan hidup, seperti rekomendasi sebelumnya.\n",
      "\n",
      "**Bad Teacher:** Bertemakan kehidupan sekolah, seperti rekomendasi sebelumnya.\n",
      "\n",
      "**Resep Masak Dapur Abu Tosca:** Bertemakan memasak, meski dengan konteks berbeda.\n"
     ]
    }
   ],
   "source": [
    "prompt_summarize_previous_chat = ChatPromptTemplate.from_template(\"\"\"Summarize previous chat and your answer to create context for next user query\n",
    "Previous User Query: {user_query}\n",
    "Prompt: {last_prompt}\n",
    "Your Answer: {final_response}\"\"\")\n",
    "chain_summarize_previous_chat = prompt_summarize_previous_chat | model | output_parser\n",
    "previous_response = chain_summarize_previous_chat.invoke({\n",
    "    \"user_query\": user_query,\n",
    "    \"last_prompt\": prompt_recommendation.format(user_query=user_query, vector_search_result=vector_search_result, user_history=user_history), \n",
    "    \"final_response\": final_response\n",
    "    })\n",
    "print(previous_response)"
   ]
  },
  {
   "cell_type": "code",
   "execution_count": 57,
   "metadata": {},
   "outputs": [
    {
     "name": "stdout",
     "output_type": "stream",
     "text": [
      "Saya merekomendasikan \"Descendants of the Sun\" karena memiliki elemen-elemen yang mirip dengan preferensi menonton Anda sebelumnya, yaitu:\n",
      "\n",
      "* **Kisah Cinta:** Serial ini berfokus pada kisah cinta yang berkembang antara seorang tentara dan seorang dokter.\n",
      "* **Adegan Aksi:** Sebagai serial bertema militer, \"Descendants of the Sun\" memiliki banyak adegan aksi yang menegangkan.\n",
      "* **Drama yang Menyentuh:** Serial ini juga mengeksplorasi tema-tema seperti persahabatan, pengorbanan, dan rasa kehilangan, yang dapat membangkitkan emosi Anda.\n"
     ]
    }
   ],
   "source": [
    "subsequent_query = \"\"\"Mengapa kamu memberikan rekomendasi Descendants of the Sun?\"\"\"\n",
    "prompt_user_follow_up = ChatPromptTemplate.from_template(\"\"\"You are recommendation engine, user ask question again about your answer. Here is user question: {subsequent_query}\n",
    "Please answer user question, you can re-rank or explain based on user question.\n",
    "Previous Prompt:\n",
    "{response}\"\"\")\n",
    "chain_user_follow_up = prompt_user_follow_up | model | output_parser\n",
    "response = chain_user_follow_up.invoke({\"subsequent_query\": subsequent_query, \"response\": previous_response})\n",
    "print(response)"
   ]
  },
  {
   "cell_type": "code",
   "execution_count": null,
   "metadata": {},
   "outputs": [],
   "source": []
  }
 ],
 "metadata": {
  "kernelspec": {
   "display_name": "Python 3 (ipykernel)",
   "language": "python",
   "name": "python3"
  },
  "language_info": {
   "codemirror_mode": {
    "name": "ipython",
    "version": 3
   },
   "file_extension": ".py",
   "mimetype": "text/x-python",
   "name": "python",
   "nbconvert_exporter": "python",
   "pygments_lexer": "ipython3",
   "version": "3.10.12"
  }
 },
 "nbformat": 4,
 "nbformat_minor": 2
}
