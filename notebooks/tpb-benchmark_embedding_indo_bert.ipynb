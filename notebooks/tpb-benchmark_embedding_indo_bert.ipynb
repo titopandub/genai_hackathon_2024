{
 "cells": [
  {
   "cell_type": "code",
   "execution_count": 1,
   "metadata": {},
   "outputs": [
    {
     "name": "stderr",
     "output_type": "stream",
     "text": [
      "/tmp/ipykernel_11640/992287249.py:3: TqdmDeprecationWarning: This function will be removed in tqdm==5.0.0\n",
      "Please use `tqdm.notebook.*` instead of `tqdm._tqdm_notebook.*`\n",
      "  from tqdm._tqdm_notebook import tqdm_notebook\n",
      "The cache for model files in Transformers v4.22.0 has been updated. Migrating your old cache. This is a one-time only operation. You can interrupt this and resume the migration later on by calling `transformers.utils.move_cache()`.\n"
     ]
    },
    {
     "data": {
      "application/vnd.jupyter.widget-view+json": {
       "model_id": "36d82cadf986484d890360893df48c52",
       "version_major": 2,
       "version_minor": 0
      },
      "text/plain": [
       "0it [00:00, ?it/s]"
      ]
     },
     "metadata": {},
     "output_type": "display_data"
    },
    {
     "data": {
      "application/vnd.jupyter.widget-view+json": {
       "model_id": "5e839cff5b3d498fadd6b0f693236fc9",
       "version_major": 2,
       "version_minor": 0
      },
      "text/plain": [
       "modules.json:   0%|          | 0.00/229 [00:00<?, ?B/s]"
      ]
     },
     "metadata": {},
     "output_type": "display_data"
    },
    {
     "data": {
      "application/vnd.jupyter.widget-view+json": {
       "model_id": "0ebbfec52ea44f8e968aa4996a07a36c",
       "version_major": 2,
       "version_minor": 0
      },
      "text/plain": [
       "config_sentence_transformers.json:   0%|          | 0.00/118 [00:00<?, ?B/s]"
      ]
     },
     "metadata": {},
     "output_type": "display_data"
    },
    {
     "data": {
      "application/vnd.jupyter.widget-view+json": {
       "model_id": "c64a2f5674c4490e938a9babcca8bdd4",
       "version_major": 2,
       "version_minor": 0
      },
      "text/plain": [
       "README.md:   0%|          | 0.00/4.88k [00:00<?, ?B/s]"
      ]
     },
     "metadata": {},
     "output_type": "display_data"
    },
    {
     "data": {
      "application/vnd.jupyter.widget-view+json": {
       "model_id": "4c87e3fcd8634671b05c1e789298cc7a",
       "version_major": 2,
       "version_minor": 0
      },
      "text/plain": [
       "sentence_bert_config.json:   0%|          | 0.00/53.0 [00:00<?, ?B/s]"
      ]
     },
     "metadata": {},
     "output_type": "display_data"
    },
    {
     "data": {
      "application/vnd.jupyter.widget-view+json": {
       "model_id": "f69678c274d44f20abf4cff432628752",
       "version_major": 2,
       "version_minor": 0
      },
      "text/plain": [
       "config.json:   0%|          | 0.00/1.10k [00:00<?, ?B/s]"
      ]
     },
     "metadata": {},
     "output_type": "display_data"
    },
    {
     "data": {
      "application/vnd.jupyter.widget-view+json": {
       "model_id": "e4d129ec8cde43ca95e499df9fb4c78e",
       "version_major": 2,
       "version_minor": 0
      },
      "text/plain": [
       "pytorch_model.bin:   0%|          | 0.00/498M [00:00<?, ?B/s]"
      ]
     },
     "metadata": {},
     "output_type": "display_data"
    },
    {
     "data": {
      "application/vnd.jupyter.widget-view+json": {
       "model_id": "db2c900aa42045b2a35fb8924a4f77c1",
       "version_major": 2,
       "version_minor": 0
      },
      "text/plain": [
       "tokenizer_config.json:   0%|          | 0.00/551 [00:00<?, ?B/s]"
      ]
     },
     "metadata": {},
     "output_type": "display_data"
    },
    {
     "data": {
      "application/vnd.jupyter.widget-view+json": {
       "model_id": "94dace749caf40d28568b269ed78bdb6",
       "version_major": 2,
       "version_minor": 0
      },
      "text/plain": [
       "vocab.txt:   0%|          | 0.00/229k [00:00<?, ?B/s]"
      ]
     },
     "metadata": {},
     "output_type": "display_data"
    },
    {
     "data": {
      "application/vnd.jupyter.widget-view+json": {
       "model_id": "33b48187123a407a84b2de4efc412fd0",
       "version_major": 2,
       "version_minor": 0
      },
      "text/plain": [
       "tokenizer.json:   0%|          | 0.00/709k [00:00<?, ?B/s]"
      ]
     },
     "metadata": {},
     "output_type": "display_data"
    },
    {
     "data": {
      "application/vnd.jupyter.widget-view+json": {
       "model_id": "df35f32e838c4b5b80e3b9476e90bf22",
       "version_major": 2,
       "version_minor": 0
      },
      "text/plain": [
       "special_tokens_map.json:   0%|          | 0.00/125 [00:00<?, ?B/s]"
      ]
     },
     "metadata": {},
     "output_type": "display_data"
    },
    {
     "data": {
      "application/vnd.jupyter.widget-view+json": {
       "model_id": "d2def078780d4d0fbb1f9bd18b4d3b69",
       "version_major": 2,
       "version_minor": 0
      },
      "text/plain": [
       "1_Pooling/config.json:   0%|          | 0.00/190 [00:00<?, ?B/s]"
      ]
     },
     "metadata": {},
     "output_type": "display_data"
    }
   ],
   "source": [
    "import pandas as pd\n",
    "import numpy as np\n",
    "from tqdm._tqdm_notebook import tqdm_notebook\n",
    "from sentence_transformers import SentenceTransformer\n",
    "\n",
    "\n",
    "tqdm_notebook.pandas()\n",
    "\n",
    "model = SentenceTransformer(\"firqaaa/indo-sentence-bert-base\")\n",
    "\n",
    "def embedding_text(model, text):\n",
    "    vector = model.encode(text)\n",
    "    return vector"
   ]
  },
  {
   "cell_type": "code",
   "execution_count": 2,
   "metadata": {},
   "outputs": [
    {
     "name": "stderr",
     "output_type": "stream",
     "text": [
      "/home/tito/.venv/genai_hackathon_2024/lib/python3.10/site-packages/openpyxl/styles/stylesheet.py:226: UserWarning: Workbook contains no default style, apply openpyxl's default\n",
      "  warn(\"Workbook contains no default style, apply openpyxl's default\")\n"
     ]
    },
    {
     "data": {
      "text/html": [
       "<div>\n",
       "<style scoped>\n",
       "    .dataframe tbody tr th:only-of-type {\n",
       "        vertical-align: middle;\n",
       "    }\n",
       "\n",
       "    .dataframe tbody tr th {\n",
       "        vertical-align: top;\n",
       "    }\n",
       "\n",
       "    .dataframe thead th {\n",
       "        text-align: right;\n",
       "    }\n",
       "</style>\n",
       "<table border=\"1\" class=\"dataframe\">\n",
       "  <thead>\n",
       "    <tr style=\"text-align: right;\">\n",
       "      <th></th>\n",
       "      <th>query</th>\n",
       "      <th>query_type</th>\n",
       "      <th>content_id</th>\n",
       "      <th>total_click</th>\n",
       "      <th>position</th>\n",
       "      <th>score</th>\n",
       "    </tr>\n",
       "  </thead>\n",
       "  <tbody>\n",
       "    <tr>\n",
       "      <th>15704</th>\n",
       "      <td>yumis cells</td>\n",
       "      <td>search</td>\n",
       "      <td>9572</td>\n",
       "      <td>64</td>\n",
       "      <td>1</td>\n",
       "      <td>1</td>\n",
       "    </tr>\n",
       "    <tr>\n",
       "      <th>15705</th>\n",
       "      <td>zombie</td>\n",
       "      <td>search</td>\n",
       "      <td>1838</td>\n",
       "      <td>261</td>\n",
       "      <td>1</td>\n",
       "      <td>3</td>\n",
       "    </tr>\n",
       "    <tr>\n",
       "      <th>15706</th>\n",
       "      <td>zombie</td>\n",
       "      <td>search</td>\n",
       "      <td>8948</td>\n",
       "      <td>197</td>\n",
       "      <td>2</td>\n",
       "      <td>2</td>\n",
       "    </tr>\n",
       "    <tr>\n",
       "      <th>15707</th>\n",
       "      <td>zombie</td>\n",
       "      <td>search</td>\n",
       "      <td>2466</td>\n",
       "      <td>194</td>\n",
       "      <td>3</td>\n",
       "      <td>1</td>\n",
       "    </tr>\n",
       "    <tr>\n",
       "      <th>15708</th>\n",
       "      <td>zombie detective</td>\n",
       "      <td>search</td>\n",
       "      <td>1838</td>\n",
       "      <td>71</td>\n",
       "      <td>1</td>\n",
       "      <td>1</td>\n",
       "    </tr>\n",
       "  </tbody>\n",
       "</table>\n",
       "</div>"
      ],
      "text/plain": [
       "                  query query_type  content_id  total_click  position  score\n",
       "15704       yumis cells     search        9572           64         1      1\n",
       "15705            zombie     search        1838          261         1      3\n",
       "15706            zombie     search        8948          197         2      2\n",
       "15707            zombie     search        2466          194         3      1\n",
       "15708  zombie detective     search        1838           71         1      1"
      ]
     },
     "execution_count": 2,
     "metadata": {},
     "output_type": "execute_result"
    }
   ],
   "source": [
    "df = pd.read_excel('data/search_ground_truth.xlsx')\n",
    "df.tail()"
   ]
  },
  {
   "cell_type": "code",
   "execution_count": 3,
   "metadata": {},
   "outputs": [
    {
     "data": {
      "application/vnd.jupyter.widget-view+json": {
       "model_id": "6add967322e44278b68f49eff9c86b8d",
       "version_major": 2,
       "version_minor": 0
      },
      "text/plain": [
       "  0%|          | 0/5771 [00:00<?, ?it/s]"
      ]
     },
     "metadata": {},
     "output_type": "display_data"
    },
    {
     "data": {
      "text/html": [
       "<div>\n",
       "<style scoped>\n",
       "    .dataframe tbody tr th:only-of-type {\n",
       "        vertical-align: middle;\n",
       "    }\n",
       "\n",
       "    .dataframe tbody tr th {\n",
       "        vertical-align: top;\n",
       "    }\n",
       "\n",
       "    .dataframe thead th {\n",
       "        text-align: right;\n",
       "    }\n",
       "</style>\n",
       "<table border=\"1\" class=\"dataframe\">\n",
       "  <thead>\n",
       "    <tr style=\"text-align: right;\">\n",
       "      <th></th>\n",
       "      <th>id</th>\n",
       "      <th>description</th>\n",
       "      <th>release_date</th>\n",
       "      <th>total_watchers</th>\n",
       "      <th>age_rating</th>\n",
       "      <th>image_portrait</th>\n",
       "      <th>content_url</th>\n",
       "      <th>image_url</th>\n",
       "      <th>title</th>\n",
       "      <th>group_l1</th>\n",
       "      <th>group_l2</th>\n",
       "      <th>genres</th>\n",
       "      <th>actors</th>\n",
       "      <th>directors</th>\n",
       "      <th>country</th>\n",
       "      <th>release_year</th>\n",
       "      <th>popularity</th>\n",
       "      <th>search_text</th>\n",
       "      <th>embedding</th>\n",
       "    </tr>\n",
       "  </thead>\n",
       "  <tbody>\n",
       "    <tr>\n",
       "      <th>0</th>\n",
       "      <td>9372</td>\n",
       "      <td>Lasja mendapati suami dan ayahnya terlibat dal...</td>\n",
       "      <td>2024-01-27</td>\n",
       "      <td>393890</td>\n",
       "      <td>18 or more</td>\n",
       "      <td>ratu-adil-57125a.jpg</td>\n",
       "      <td>https://www.vidio.com/premier/9372</td>\n",
       "      <td>https://thumbor.prod.vidiocdn.com/xXSubtNx3jiO...</td>\n",
       "      <td>ratu adil</td>\n",
       "      <td>series</td>\n",
       "      <td>vidio original</td>\n",
       "      <td>action, crime, drama</td>\n",
       "      <td>abdurrahman arif, andri mashadi, budi ros, dia...</td>\n",
       "      <td>ginanti rona, tommy dewo</td>\n",
       "      <td>indonesia</td>\n",
       "      <td>2024</td>\n",
       "      <td>trending</td>\n",
       "      <td>title: ratu adil\\ndescription: Lasja mendapati...</td>\n",
       "      <td>[-1.1329925, 1.0779365, 0.1024379, -0.46406662...</td>\n",
       "    </tr>\n",
       "    <tr>\n",
       "      <th>1</th>\n",
       "      <td>9456</td>\n",
       "      <td>Kehidupan sempurna Amara hancur karena malam p...</td>\n",
       "      <td>2024-01-27</td>\n",
       "      <td>340919</td>\n",
       "      <td>18 or more</td>\n",
       "      <td>cinta-pertama-ayah-66e828.jpg</td>\n",
       "      <td>https://www.vidio.com/premier/9456</td>\n",
       "      <td>https://thumbor.prod.vidiocdn.com/ZONjpNuq_CcE...</td>\n",
       "      <td>cinta pertama ayah</td>\n",
       "      <td>series</td>\n",
       "      <td>vidio original</td>\n",
       "      <td>crime, drama, family, mystery</td>\n",
       "      <td>aisha nurra datau, al ghazali, dwi sasono, ers...</td>\n",
       "      <td>hadrah daeng ratu</td>\n",
       "      <td>indonesia</td>\n",
       "      <td>2024</td>\n",
       "      <td>trending</td>\n",
       "      <td>title: cinta pertama ayah\\ndescription: Kehidu...</td>\n",
       "      <td>[-0.72621626, 0.34588635, 0.5074719, -0.377613...</td>\n",
       "    </tr>\n",
       "    <tr>\n",
       "      <th>2</th>\n",
       "      <td>7617</td>\n",
       "      <td>Menceritakan kisah seorang gadis bernama Sakin...</td>\n",
       "      <td>2023-03-13</td>\n",
       "      <td>305402</td>\n",
       "      <td>13 or more</td>\n",
       "      <td>bidadari-surgamu-2bbb68.jpg</td>\n",
       "      <td>https://www.vidio.com/premier/7617</td>\n",
       "      <td>https://thumbor.prod.vidiocdn.com/JxL1jUZmTFdc...</td>\n",
       "      <td>bidadari surgamu</td>\n",
       "      <td>series</td>\n",
       "      <td>tv sinetron</td>\n",
       "      <td>drama, family, religi, romance</td>\n",
       "      <td>josephine firmstone, michelle joan, rizky naza...</td>\n",
       "      <td>anurag vaishnav</td>\n",
       "      <td>indonesia</td>\n",
       "      <td>2023</td>\n",
       "      <td>trending</td>\n",
       "      <td>title: bidadari surgamu\\ndescription: Mencerit...</td>\n",
       "      <td>[-0.6252087, 0.62401366, 1.0615565, -0.8878016...</td>\n",
       "    </tr>\n",
       "    <tr>\n",
       "      <th>3</th>\n",
       "      <td>7576</td>\n",
       "      <td>Naura (Basmalah), Rahsya (Raden Rakha), Adara ...</td>\n",
       "      <td>2023-02-23</td>\n",
       "      <td>263464</td>\n",
       "      <td>13 or more</td>\n",
       "      <td>magic-5-def33f.jpg</td>\n",
       "      <td>https://www.vidio.com/premier/7576</td>\n",
       "      <td>https://thumbor.prod.vidiocdn.com/kha0tcadN-wD...</td>\n",
       "      <td>magic 5</td>\n",
       "      <td>series</td>\n",
       "      <td>tv sinetron</td>\n",
       "      <td>drama, fantasy, friendship</td>\n",
       "      <td>afan da5, basmalah, eby da 5, raden rakha, sri...</td>\n",
       "      <td>a. septian, bobby moeryawan, sondang pratama, ...</td>\n",
       "      <td>indonesia</td>\n",
       "      <td>2023</td>\n",
       "      <td>trending</td>\n",
       "      <td>title: magic 5\\ndescription: Naura (Basmalah),...</td>\n",
       "      <td>[-0.12616773, 0.20779172, 0.7576035, -1.459994...</td>\n",
       "    </tr>\n",
       "    <tr>\n",
       "      <th>4</th>\n",
       "      <td>9535</td>\n",
       "      <td>Alya dan Alyssa adalah anak kembar yang terpis...</td>\n",
       "      <td>2024-01-22</td>\n",
       "      <td>213724</td>\n",
       "      <td>13 or more</td>\n",
       "      <td>tertawan-hati-592778.jpg</td>\n",
       "      <td>https://www.vidio.com/premier/9535</td>\n",
       "      <td>https://thumbor.prod.vidiocdn.com/sXZL0cyvwRdI...</td>\n",
       "      <td>tertawan hati</td>\n",
       "      <td>series</td>\n",
       "      <td>tv sinetron</td>\n",
       "      <td>drama, romance</td>\n",
       "      <td>afifah ifah'nda, jonas rivanno, naysilla mirda...</td>\n",
       "      <td>sanjeev ram kishan</td>\n",
       "      <td>indonesia</td>\n",
       "      <td>2024</td>\n",
       "      <td>trending</td>\n",
       "      <td>title: tertawan hati\\ndescription: Alya dan Al...</td>\n",
       "      <td>[-0.17595638, 0.103318535, 1.2719028, -0.13486...</td>\n",
       "    </tr>\n",
       "  </tbody>\n",
       "</table>\n",
       "</div>"
      ],
      "text/plain": [
       "     id                                        description release_date  \\\n",
       "0  9372  Lasja mendapati suami dan ayahnya terlibat dal...   2024-01-27   \n",
       "1  9456  Kehidupan sempurna Amara hancur karena malam p...   2024-01-27   \n",
       "2  7617  Menceritakan kisah seorang gadis bernama Sakin...   2023-03-13   \n",
       "3  7576  Naura (Basmalah), Rahsya (Raden Rakha), Adara ...   2023-02-23   \n",
       "4  9535  Alya dan Alyssa adalah anak kembar yang terpis...   2024-01-22   \n",
       "\n",
       "   total_watchers  age_rating                 image_portrait  \\\n",
       "0          393890  18 or more           ratu-adil-57125a.jpg   \n",
       "1          340919  18 or more  cinta-pertama-ayah-66e828.jpg   \n",
       "2          305402  13 or more    bidadari-surgamu-2bbb68.jpg   \n",
       "3          263464  13 or more             magic-5-def33f.jpg   \n",
       "4          213724  13 or more       tertawan-hati-592778.jpg   \n",
       "\n",
       "                          content_url  \\\n",
       "0  https://www.vidio.com/premier/9372   \n",
       "1  https://www.vidio.com/premier/9456   \n",
       "2  https://www.vidio.com/premier/7617   \n",
       "3  https://www.vidio.com/premier/7576   \n",
       "4  https://www.vidio.com/premier/9535   \n",
       "\n",
       "                                           image_url               title  \\\n",
       "0  https://thumbor.prod.vidiocdn.com/xXSubtNx3jiO...           ratu adil   \n",
       "1  https://thumbor.prod.vidiocdn.com/ZONjpNuq_CcE...  cinta pertama ayah   \n",
       "2  https://thumbor.prod.vidiocdn.com/JxL1jUZmTFdc...    bidadari surgamu   \n",
       "3  https://thumbor.prod.vidiocdn.com/kha0tcadN-wD...             magic 5   \n",
       "4  https://thumbor.prod.vidiocdn.com/sXZL0cyvwRdI...       tertawan hati   \n",
       "\n",
       "  group_l1        group_l2                          genres  \\\n",
       "0   series  vidio original            action, crime, drama   \n",
       "1   series  vidio original   crime, drama, family, mystery   \n",
       "2   series     tv sinetron  drama, family, religi, romance   \n",
       "3   series     tv sinetron      drama, fantasy, friendship   \n",
       "4   series     tv sinetron                  drama, romance   \n",
       "\n",
       "                                              actors  \\\n",
       "0  abdurrahman arif, andri mashadi, budi ros, dia...   \n",
       "1  aisha nurra datau, al ghazali, dwi sasono, ers...   \n",
       "2  josephine firmstone, michelle joan, rizky naza...   \n",
       "3  afan da5, basmalah, eby da 5, raden rakha, sri...   \n",
       "4  afifah ifah'nda, jonas rivanno, naysilla mirda...   \n",
       "\n",
       "                                           directors    country release_year  \\\n",
       "0                           ginanti rona, tommy dewo  indonesia         2024   \n",
       "1                                  hadrah daeng ratu  indonesia         2024   \n",
       "2                                    anurag vaishnav  indonesia         2023   \n",
       "3  a. septian, bobby moeryawan, sondang pratama, ...  indonesia         2023   \n",
       "4                                 sanjeev ram kishan  indonesia         2024   \n",
       "\n",
       "  popularity                                        search_text  \\\n",
       "0   trending  title: ratu adil\\ndescription: Lasja mendapati...   \n",
       "1   trending  title: cinta pertama ayah\\ndescription: Kehidu...   \n",
       "2   trending  title: bidadari surgamu\\ndescription: Mencerit...   \n",
       "3   trending  title: magic 5\\ndescription: Naura (Basmalah),...   \n",
       "4   trending  title: tertawan hati\\ndescription: Alya dan Al...   \n",
       "\n",
       "                                           embedding  \n",
       "0  [-1.1329925, 1.0779365, 0.1024379, -0.46406662...  \n",
       "1  [-0.72621626, 0.34588635, 0.5074719, -0.377613...  \n",
       "2  [-0.6252087, 0.62401366, 1.0615565, -0.8878016...  \n",
       "3  [-0.12616773, 0.20779172, 0.7576035, -1.459994...  \n",
       "4  [-0.17595638, 0.103318535, 1.2719028, -0.13486...  "
      ]
     },
     "execution_count": 3,
     "metadata": {},
     "output_type": "execute_result"
    }
   ],
   "source": [
    "film_df = pd.read_json('data/film_metadata.json', lines=True)\n",
    "film_df['id'] = film_df['id'].astype(str)\n",
    "film_df['embedding'] = film_df.progress_apply(lambda x: embedding_text(model, x['search_text']), axis=1)\n",
    "film_df.head()"
   ]
  },
  {
   "cell_type": "code",
   "execution_count": 4,
   "metadata": {},
   "outputs": [],
   "source": [
    "joined_df = df.merge(film_df[['id', 'search_text', 'embedding']], left_on='query', right_on='id', how='left')\n",
    "joined_df.drop(columns=['id'], inplace=True)\n",
    "joined_df['search_text'] = np.where(joined_df['query_type'] == 'search', joined_df['query'], joined_df['search_text'])"
   ]
  },
  {
   "cell_type": "code",
   "execution_count": 5,
   "metadata": {},
   "outputs": [],
   "source": [
    "trial_df = joined_df[joined_df['query_type'] != 'film_id'].head()"
   ]
  },
  {
   "cell_type": "code",
   "execution_count": 6,
   "metadata": {},
   "outputs": [
    {
     "data": {
      "application/vnd.jupyter.widget-view+json": {
       "model_id": "b1f237916ffb4e7390da23212edb52aa",
       "version_major": 2,
       "version_minor": 0
      },
      "text/plain": [
       "  0%|          | 0/5 [00:00<?, ?it/s]"
      ]
     },
     "metadata": {},
     "output_type": "display_data"
    },
    {
     "data": {
      "text/html": [
       "<div>\n",
       "<style scoped>\n",
       "    .dataframe tbody tr th:only-of-type {\n",
       "        vertical-align: middle;\n",
       "    }\n",
       "\n",
       "    .dataframe tbody tr th {\n",
       "        vertical-align: top;\n",
       "    }\n",
       "\n",
       "    .dataframe thead th {\n",
       "        text-align: right;\n",
       "    }\n",
       "</style>\n",
       "<table border=\"1\" class=\"dataframe\">\n",
       "  <thead>\n",
       "    <tr style=\"text-align: right;\">\n",
       "      <th></th>\n",
       "      <th>query</th>\n",
       "      <th>query_type</th>\n",
       "      <th>content_id</th>\n",
       "      <th>total_click</th>\n",
       "      <th>position</th>\n",
       "      <th>score</th>\n",
       "      <th>search_text</th>\n",
       "      <th>embedding</th>\n",
       "    </tr>\n",
       "  </thead>\n",
       "  <tbody>\n",
       "    <tr>\n",
       "      <th>930</th>\n",
       "      <td>172 days</td>\n",
       "      <td>search</td>\n",
       "      <td>7337</td>\n",
       "      <td>119</td>\n",
       "      <td>1</td>\n",
       "      <td>1</td>\n",
       "      <td>172 days</td>\n",
       "      <td>[-1.3019621, 1.3802083, 1.0834128, 0.4195484, ...</td>\n",
       "    </tr>\n",
       "    <tr>\n",
       "      <th>1087</th>\n",
       "      <td>18 again</td>\n",
       "      <td>search</td>\n",
       "      <td>1855</td>\n",
       "      <td>355</td>\n",
       "      <td>1</td>\n",
       "      <td>1</td>\n",
       "      <td>18 again</td>\n",
       "      <td>[-2.7144933, 1.431159, 0.736368, 0.7294179, 1....</td>\n",
       "    </tr>\n",
       "    <tr>\n",
       "      <th>1416</th>\n",
       "      <td>1988</td>\n",
       "      <td>search</td>\n",
       "      <td>69</td>\n",
       "      <td>94</td>\n",
       "      <td>1</td>\n",
       "      <td>1</td>\n",
       "      <td>1988</td>\n",
       "      <td>[-2.821161, 1.0671619, 1.245684, 1.0323439, 0....</td>\n",
       "    </tr>\n",
       "    <tr>\n",
       "      <th>1423</th>\n",
       "      <td>2012</td>\n",
       "      <td>search</td>\n",
       "      <td>7752</td>\n",
       "      <td>210</td>\n",
       "      <td>1</td>\n",
       "      <td>1</td>\n",
       "      <td>2012</td>\n",
       "      <td>[-2.009883, 1.0725511, 1.3877519, 1.3103644, 0...</td>\n",
       "    </tr>\n",
       "    <tr>\n",
       "      <th>2974</th>\n",
       "      <td>3 semprul</td>\n",
       "      <td>search</td>\n",
       "      <td>710</td>\n",
       "      <td>158</td>\n",
       "      <td>1</td>\n",
       "      <td>1</td>\n",
       "      <td>3 semprul</td>\n",
       "      <td>[-0.70724994, 0.94179726, 0.45750237, 1.845892...</td>\n",
       "    </tr>\n",
       "  </tbody>\n",
       "</table>\n",
       "</div>"
      ],
      "text/plain": [
       "          query query_type  content_id  total_click  position  score  \\\n",
       "930    172 days     search        7337          119         1      1   \n",
       "1087   18 again     search        1855          355         1      1   \n",
       "1416       1988     search          69           94         1      1   \n",
       "1423       2012     search        7752          210         1      1   \n",
       "2974  3 semprul     search         710          158         1      1   \n",
       "\n",
       "     search_text                                          embedding  \n",
       "930     172 days  [-1.3019621, 1.3802083, 1.0834128, 0.4195484, ...  \n",
       "1087    18 again  [-2.7144933, 1.431159, 0.736368, 0.7294179, 1....  \n",
       "1416        1988  [-2.821161, 1.0671619, 1.245684, 1.0323439, 0....  \n",
       "1423        2012  [-2.009883, 1.0725511, 1.3877519, 1.3103644, 0...  \n",
       "2974   3 semprul  [-0.70724994, 0.94179726, 0.45750237, 1.845892...  "
      ]
     },
     "execution_count": 6,
     "metadata": {},
     "output_type": "execute_result"
    }
   ],
   "source": [
    "trial_df['embedding'] = trial_df.progress_apply(lambda x: embedding_text(model, x['search_text']), axis=1)\n",
    "trial_df"
   ]
  },
  {
   "cell_type": "code",
   "execution_count": 7,
   "metadata": {},
   "outputs": [
    {
     "data": {
      "application/vnd.jupyter.widget-view+json": {
       "model_id": "03f0f6d1c37940c987193772e65332de",
       "version_major": 2,
       "version_minor": 0
      },
      "text/plain": [
       "  0%|          | 0/15709 [00:00<?, ?it/s]"
      ]
     },
     "metadata": {},
     "output_type": "display_data"
    }
   ],
   "source": [
    "# slow operation\n",
    "joined_df['embedding'] = joined_df.progress_apply(lambda x: embedding_text(model, x['search_text']) if x['query_type'] == 'search' else x['embedding'], axis=1)"
   ]
  },
  {
   "cell_type": "code",
   "execution_count": 8,
   "metadata": {},
   "outputs": [],
   "source": [
    "joined_df = joined_df.dropna(subset=['search_text', 'embedding'])"
   ]
  },
  {
   "cell_type": "code",
   "execution_count": 9,
   "metadata": {},
   "outputs": [],
   "source": [
    "from annoy import AnnoyIndex\n",
    "annoy_index = AnnoyIndex(768, 'dot')\n",
    "for index, row in film_df.iterrows():\n",
    "    annoy_index.add_item(int(row['id']), row['embedding'])\n",
    "annoy_index.build(30)\n",
    "\n",
    "def retrieve_by_embedding(embedding):\n",
    "    if len(embedding) > 0:\n",
    "        return annoy_index.get_nns_by_vector(embedding, 20, search_k=-1)\n",
    "    else:\n",
    "        return []"
   ]
  },
  {
   "cell_type": "code",
   "execution_count": 10,
   "metadata": {},
   "outputs": [
    {
     "data": {
      "application/vnd.jupyter.widget-view+json": {
       "model_id": "f6c6dd9759aa45c3a642ae6a383e940d",
       "version_major": 2,
       "version_minor": 0
      },
      "text/plain": [
       "  0%|          | 0/5 [00:00<?, ?it/s]"
      ]
     },
     "metadata": {},
     "output_type": "display_data"
    },
    {
     "data": {
      "text/html": [
       "<div>\n",
       "<style scoped>\n",
       "    .dataframe tbody tr th:only-of-type {\n",
       "        vertical-align: middle;\n",
       "    }\n",
       "\n",
       "    .dataframe tbody tr th {\n",
       "        vertical-align: top;\n",
       "    }\n",
       "\n",
       "    .dataframe thead th {\n",
       "        text-align: right;\n",
       "    }\n",
       "</style>\n",
       "<table border=\"1\" class=\"dataframe\">\n",
       "  <thead>\n",
       "    <tr style=\"text-align: right;\">\n",
       "      <th></th>\n",
       "      <th>query</th>\n",
       "      <th>query_type</th>\n",
       "      <th>content_id</th>\n",
       "      <th>total_click</th>\n",
       "      <th>position</th>\n",
       "      <th>score</th>\n",
       "      <th>search_text</th>\n",
       "      <th>embedding</th>\n",
       "      <th>search_result</th>\n",
       "    </tr>\n",
       "  </thead>\n",
       "  <tbody>\n",
       "    <tr>\n",
       "      <th>930</th>\n",
       "      <td>172 days</td>\n",
       "      <td>search</td>\n",
       "      <td>7337</td>\n",
       "      <td>119</td>\n",
       "      <td>1</td>\n",
       "      <td>1</td>\n",
       "      <td>172 days</td>\n",
       "      <td>[-1.3019621, 1.3802083, 1.0834128, 0.4195484, ...</td>\n",
       "      <td>[8117, 5638, 4703, 4841, 6001, 4882, 4773, 661...</td>\n",
       "    </tr>\n",
       "    <tr>\n",
       "      <th>1087</th>\n",
       "      <td>18 again</td>\n",
       "      <td>search</td>\n",
       "      <td>1855</td>\n",
       "      <td>355</td>\n",
       "      <td>1</td>\n",
       "      <td>1</td>\n",
       "      <td>18 again</td>\n",
       "      <td>[-2.7144933, 1.431159, 0.736368, 0.7294179, 1....</td>\n",
       "      <td>[5380, 1951, 3797, 9544, 3833, 3592, 3834, 837...</td>\n",
       "    </tr>\n",
       "    <tr>\n",
       "      <th>1416</th>\n",
       "      <td>1988</td>\n",
       "      <td>search</td>\n",
       "      <td>69</td>\n",
       "      <td>94</td>\n",
       "      <td>1</td>\n",
       "      <td>1</td>\n",
       "      <td>1988</td>\n",
       "      <td>[-2.821161, 1.0671619, 1.245684, 1.0323439, 0....</td>\n",
       "      <td>[9303, 8052, 3797, 3834, 1295, 9302, 8373, 805...</td>\n",
       "    </tr>\n",
       "    <tr>\n",
       "      <th>1423</th>\n",
       "      <td>2012</td>\n",
       "      <td>search</td>\n",
       "      <td>7752</td>\n",
       "      <td>210</td>\n",
       "      <td>1</td>\n",
       "      <td>1</td>\n",
       "      <td>2012</td>\n",
       "      <td>[-2.009883, 1.0725511, 1.3877519, 1.3103644, 0...</td>\n",
       "      <td>[3797, 3768, 3634, 3796, 3675, 3635, 3834, 383...</td>\n",
       "    </tr>\n",
       "    <tr>\n",
       "      <th>2974</th>\n",
       "      <td>3 semprul</td>\n",
       "      <td>search</td>\n",
       "      <td>710</td>\n",
       "      <td>158</td>\n",
       "      <td>1</td>\n",
       "      <td>1</td>\n",
       "      <td>3 semprul</td>\n",
       "      <td>[-0.70724994, 0.94179726, 0.45750237, 1.845892...</td>\n",
       "      <td>[2761, 1295, 6607, 1938, 8488, 5874, 4012, 121...</td>\n",
       "    </tr>\n",
       "  </tbody>\n",
       "</table>\n",
       "</div>"
      ],
      "text/plain": [
       "          query query_type  content_id  total_click  position  score  \\\n",
       "930    172 days     search        7337          119         1      1   \n",
       "1087   18 again     search        1855          355         1      1   \n",
       "1416       1988     search          69           94         1      1   \n",
       "1423       2012     search        7752          210         1      1   \n",
       "2974  3 semprul     search         710          158         1      1   \n",
       "\n",
       "     search_text                                          embedding  \\\n",
       "930     172 days  [-1.3019621, 1.3802083, 1.0834128, 0.4195484, ...   \n",
       "1087    18 again  [-2.7144933, 1.431159, 0.736368, 0.7294179, 1....   \n",
       "1416        1988  [-2.821161, 1.0671619, 1.245684, 1.0323439, 0....   \n",
       "1423        2012  [-2.009883, 1.0725511, 1.3877519, 1.3103644, 0...   \n",
       "2974   3 semprul  [-0.70724994, 0.94179726, 0.45750237, 1.845892...   \n",
       "\n",
       "                                          search_result  \n",
       "930   [8117, 5638, 4703, 4841, 6001, 4882, 4773, 661...  \n",
       "1087  [5380, 1951, 3797, 9544, 3833, 3592, 3834, 837...  \n",
       "1416  [9303, 8052, 3797, 3834, 1295, 9302, 8373, 805...  \n",
       "1423  [3797, 3768, 3634, 3796, 3675, 3635, 3834, 383...  \n",
       "2974  [2761, 1295, 6607, 1938, 8488, 5874, 4012, 121...  "
      ]
     },
     "execution_count": 10,
     "metadata": {},
     "output_type": "execute_result"
    }
   ],
   "source": [
    "trial_df['search_result'] = trial_df.progress_apply(lambda x: retrieve_by_embedding(x['embedding']), axis=1)\n",
    "trial_df"
   ]
  },
  {
   "cell_type": "code",
   "execution_count": 11,
   "metadata": {},
   "outputs": [
    {
     "data": {
      "application/vnd.jupyter.widget-view+json": {
       "model_id": "01f397855a7e449d83a8b71b8f938ec3",
       "version_major": 2,
       "version_minor": 0
      },
      "text/plain": [
       "  0%|          | 0/15623 [00:00<?, ?it/s]"
      ]
     },
     "metadata": {},
     "output_type": "display_data"
    }
   ],
   "source": [
    "joined_df['search_result'] = joined_df.progress_apply(lambda x: retrieve_by_embedding(x['embedding']), axis=1)"
   ]
  },
  {
   "cell_type": "code",
   "execution_count": 12,
   "metadata": {},
   "outputs": [
    {
     "data": {
      "text/html": [
       "<div>\n",
       "<style scoped>\n",
       "    .dataframe tbody tr th:only-of-type {\n",
       "        vertical-align: middle;\n",
       "    }\n",
       "\n",
       "    .dataframe tbody tr th {\n",
       "        vertical-align: top;\n",
       "    }\n",
       "\n",
       "    .dataframe thead th {\n",
       "        text-align: right;\n",
       "    }\n",
       "</style>\n",
       "<table border=\"1\" class=\"dataframe\">\n",
       "  <thead>\n",
       "    <tr style=\"text-align: right;\">\n",
       "      <th></th>\n",
       "      <th>query</th>\n",
       "      <th>query_type</th>\n",
       "      <th>content_id</th>\n",
       "      <th>total_click</th>\n",
       "      <th>position</th>\n",
       "      <th>score</th>\n",
       "      <th>search_text</th>\n",
       "      <th>embedding</th>\n",
       "      <th>search_result</th>\n",
       "    </tr>\n",
       "  </thead>\n",
       "  <tbody>\n",
       "    <tr>\n",
       "      <th>0</th>\n",
       "      <td>1003</td>\n",
       "      <td>film_id</td>\n",
       "      <td>1027</td>\n",
       "      <td>93</td>\n",
       "      <td>1</td>\n",
       "      <td>3</td>\n",
       "      <td>title: hot young bloods\\ndescription: Berlatar...</td>\n",
       "      <td>[-1.3941768, -0.10611966, 1.50536, -0.19193202...</td>\n",
       "      <td>[1003, 4461, 1314, 917, 1555, 1606, 1554, 131,...</td>\n",
       "    </tr>\n",
       "    <tr>\n",
       "      <th>1</th>\n",
       "      <td>1003</td>\n",
       "      <td>film_id</td>\n",
       "      <td>1559</td>\n",
       "      <td>54</td>\n",
       "      <td>2</td>\n",
       "      <td>2</td>\n",
       "      <td>title: hot young bloods\\ndescription: Berlatar...</td>\n",
       "      <td>[-1.3941768, -0.10611966, 1.50536, -0.19193202...</td>\n",
       "      <td>[1003, 4461, 1314, 917, 1555, 1606, 1554, 131,...</td>\n",
       "    </tr>\n",
       "    <tr>\n",
       "      <th>2</th>\n",
       "      <td>1003</td>\n",
       "      <td>film_id</td>\n",
       "      <td>831</td>\n",
       "      <td>46</td>\n",
       "      <td>3</td>\n",
       "      <td>1</td>\n",
       "      <td>title: hot young bloods\\ndescription: Berlatar...</td>\n",
       "      <td>[-1.3941768, -0.10611966, 1.50536, -0.19193202...</td>\n",
       "      <td>[1003, 4461, 1314, 917, 1555, 1606, 1554, 131,...</td>\n",
       "    </tr>\n",
       "    <tr>\n",
       "      <th>3</th>\n",
       "      <td>1011</td>\n",
       "      <td>film_id</td>\n",
       "      <td>999</td>\n",
       "      <td>5</td>\n",
       "      <td>1</td>\n",
       "      <td>3</td>\n",
       "      <td>title: the fatal encounter\\ndescription: Usaha...</td>\n",
       "      <td>[-1.2800311, 0.65853673, 0.666397, 0.33867934,...</td>\n",
       "      <td>[1011, 5000, 5475, 5274, 6118, 5650, 8821, 131...</td>\n",
       "    </tr>\n",
       "    <tr>\n",
       "      <th>4</th>\n",
       "      <td>1011</td>\n",
       "      <td>film_id</td>\n",
       "      <td>2329</td>\n",
       "      <td>3</td>\n",
       "      <td>2</td>\n",
       "      <td>2</td>\n",
       "      <td>title: the fatal encounter\\ndescription: Usaha...</td>\n",
       "      <td>[-1.2800311, 0.65853673, 0.666397, 0.33867934,...</td>\n",
       "      <td>[1011, 5000, 5475, 5274, 6118, 5650, 8821, 131...</td>\n",
       "    </tr>\n",
       "  </tbody>\n",
       "</table>\n",
       "</div>"
      ],
      "text/plain": [
       "  query query_type  content_id  total_click  position  score  \\\n",
       "0  1003    film_id        1027           93         1      3   \n",
       "1  1003    film_id        1559           54         2      2   \n",
       "2  1003    film_id         831           46         3      1   \n",
       "3  1011    film_id         999            5         1      3   \n",
       "4  1011    film_id        2329            3         2      2   \n",
       "\n",
       "                                         search_text  \\\n",
       "0  title: hot young bloods\\ndescription: Berlatar...   \n",
       "1  title: hot young bloods\\ndescription: Berlatar...   \n",
       "2  title: hot young bloods\\ndescription: Berlatar...   \n",
       "3  title: the fatal encounter\\ndescription: Usaha...   \n",
       "4  title: the fatal encounter\\ndescription: Usaha...   \n",
       "\n",
       "                                           embedding  \\\n",
       "0  [-1.3941768, -0.10611966, 1.50536, -0.19193202...   \n",
       "1  [-1.3941768, -0.10611966, 1.50536, -0.19193202...   \n",
       "2  [-1.3941768, -0.10611966, 1.50536, -0.19193202...   \n",
       "3  [-1.2800311, 0.65853673, 0.666397, 0.33867934,...   \n",
       "4  [-1.2800311, 0.65853673, 0.666397, 0.33867934,...   \n",
       "\n",
       "                                       search_result  \n",
       "0  [1003, 4461, 1314, 917, 1555, 1606, 1554, 131,...  \n",
       "1  [1003, 4461, 1314, 917, 1555, 1606, 1554, 131,...  \n",
       "2  [1003, 4461, 1314, 917, 1555, 1606, 1554, 131,...  \n",
       "3  [1011, 5000, 5475, 5274, 6118, 5650, 8821, 131...  \n",
       "4  [1011, 5000, 5475, 5274, 6118, 5650, 8821, 131...  "
      ]
     },
     "execution_count": 12,
     "metadata": {},
     "output_type": "execute_result"
    }
   ],
   "source": [
    "joined_df.head()"
   ]
  },
  {
   "cell_type": "code",
   "execution_count": 13,
   "metadata": {},
   "outputs": [],
   "source": [
    "def is_true_positive(row):\n",
    "    return 1 if row['content_id'] in row['search_result'] else 0"
   ]
  },
  {
   "cell_type": "code",
   "execution_count": 14,
   "metadata": {},
   "outputs": [
    {
     "data": {
      "application/vnd.jupyter.widget-view+json": {
       "model_id": "6ab2db84f4a34c27ac7dc4627e8c7c8a",
       "version_major": 2,
       "version_minor": 0
      },
      "text/plain": [
       "  0%|          | 0/15623 [00:00<?, ?it/s]"
      ]
     },
     "metadata": {},
     "output_type": "display_data"
    }
   ],
   "source": [
    "joined_df['is_tp'] = joined_df.progress_apply(is_true_positive, axis=1)"
   ]
  },
  {
   "cell_type": "code",
   "execution_count": 15,
   "metadata": {},
   "outputs": [
    {
     "data": {
      "text/html": [
       "<div>\n",
       "<style scoped>\n",
       "    .dataframe tbody tr th:only-of-type {\n",
       "        vertical-align: middle;\n",
       "    }\n",
       "\n",
       "    .dataframe tbody tr th {\n",
       "        vertical-align: top;\n",
       "    }\n",
       "\n",
       "    .dataframe thead th {\n",
       "        text-align: right;\n",
       "    }\n",
       "</style>\n",
       "<table border=\"1\" class=\"dataframe\">\n",
       "  <thead>\n",
       "    <tr style=\"text-align: right;\">\n",
       "      <th></th>\n",
       "      <th>is_tp</th>\n",
       "    </tr>\n",
       "  </thead>\n",
       "  <tbody>\n",
       "    <tr>\n",
       "      <th>count</th>\n",
       "      <td>15623.000000</td>\n",
       "    </tr>\n",
       "    <tr>\n",
       "      <th>mean</th>\n",
       "      <td>0.114831</td>\n",
       "    </tr>\n",
       "    <tr>\n",
       "      <th>std</th>\n",
       "      <td>0.318828</td>\n",
       "    </tr>\n",
       "    <tr>\n",
       "      <th>min</th>\n",
       "      <td>0.000000</td>\n",
       "    </tr>\n",
       "    <tr>\n",
       "      <th>25%</th>\n",
       "      <td>0.000000</td>\n",
       "    </tr>\n",
       "    <tr>\n",
       "      <th>50%</th>\n",
       "      <td>0.000000</td>\n",
       "    </tr>\n",
       "    <tr>\n",
       "      <th>75%</th>\n",
       "      <td>0.000000</td>\n",
       "    </tr>\n",
       "    <tr>\n",
       "      <th>max</th>\n",
       "      <td>1.000000</td>\n",
       "    </tr>\n",
       "  </tbody>\n",
       "</table>\n",
       "</div>"
      ],
      "text/plain": [
       "              is_tp\n",
       "count  15623.000000\n",
       "mean       0.114831\n",
       "std        0.318828\n",
       "min        0.000000\n",
       "25%        0.000000\n",
       "50%        0.000000\n",
       "75%        0.000000\n",
       "max        1.000000"
      ]
     },
     "execution_count": 15,
     "metadata": {},
     "output_type": "execute_result"
    }
   ],
   "source": [
    "joined_df[['is_tp']].describe()"
   ]
  },
  {
   "cell_type": "code",
   "execution_count": 16,
   "metadata": {},
   "outputs": [
    {
     "data": {
      "text/html": [
       "<div>\n",
       "<style scoped>\n",
       "    .dataframe tbody tr th:only-of-type {\n",
       "        vertical-align: middle;\n",
       "    }\n",
       "\n",
       "    .dataframe tbody tr th {\n",
       "        vertical-align: top;\n",
       "    }\n",
       "\n",
       "    .dataframe thead th {\n",
       "        text-align: right;\n",
       "    }\n",
       "</style>\n",
       "<table border=\"1\" class=\"dataframe\">\n",
       "  <thead>\n",
       "    <tr style=\"text-align: right;\">\n",
       "      <th></th>\n",
       "      <th>query</th>\n",
       "      <th>query_type</th>\n",
       "      <th>content_id</th>\n",
       "      <th>total_click</th>\n",
       "      <th>position</th>\n",
       "      <th>score</th>\n",
       "      <th>search_text</th>\n",
       "      <th>embedding</th>\n",
       "      <th>search_result</th>\n",
       "      <th>is_tp</th>\n",
       "    </tr>\n",
       "  </thead>\n",
       "  <tbody>\n",
       "    <tr>\n",
       "      <th>15537</th>\n",
       "      <td>spiderman</td>\n",
       "      <td>search</td>\n",
       "      <td>3426</td>\n",
       "      <td>240</td>\n",
       "      <td>1</td>\n",
       "      <td>3</td>\n",
       "      <td>spiderman</td>\n",
       "      <td>[-0.16065839, 0.23628533, 0.039257906, 0.16031...</td>\n",
       "      <td>[6261, 9371, 4062, 2245, 6189, 8883, 3933, 850...</td>\n",
       "      <td>1</td>\n",
       "    </tr>\n",
       "    <tr>\n",
       "      <th>15538</th>\n",
       "      <td>spiderman</td>\n",
       "      <td>search</td>\n",
       "      <td>7747</td>\n",
       "      <td>152</td>\n",
       "      <td>2</td>\n",
       "      <td>2</td>\n",
       "      <td>spiderman</td>\n",
       "      <td>[-0.16065839, 0.23628533, 0.039257906, 0.16031...</td>\n",
       "      <td>[6261, 9371, 4062, 2245, 6189, 8883, 3933, 850...</td>\n",
       "      <td>0</td>\n",
       "    </tr>\n",
       "    <tr>\n",
       "      <th>15539</th>\n",
       "      <td>spiderman</td>\n",
       "      <td>search</td>\n",
       "      <td>9354</td>\n",
       "      <td>134</td>\n",
       "      <td>3</td>\n",
       "      <td>1</td>\n",
       "      <td>spiderman</td>\n",
       "      <td>[-0.16065839, 0.23628533, 0.039257906, 0.16031...</td>\n",
       "      <td>[6261, 9371, 4062, 2245, 6189, 8883, 3933, 850...</td>\n",
       "      <td>0</td>\n",
       "    </tr>\n",
       "  </tbody>\n",
       "</table>\n",
       "</div>"
      ],
      "text/plain": [
       "           query query_type  content_id  total_click  position  score  \\\n",
       "15537  spiderman     search        3426          240         1      3   \n",
       "15538  spiderman     search        7747          152         2      2   \n",
       "15539  spiderman     search        9354          134         3      1   \n",
       "\n",
       "      search_text                                          embedding  \\\n",
       "15537   spiderman  [-0.16065839, 0.23628533, 0.039257906, 0.16031...   \n",
       "15538   spiderman  [-0.16065839, 0.23628533, 0.039257906, 0.16031...   \n",
       "15539   spiderman  [-0.16065839, 0.23628533, 0.039257906, 0.16031...   \n",
       "\n",
       "                                           search_result  is_tp  \n",
       "15537  [6261, 9371, 4062, 2245, 6189, 8883, 3933, 850...      1  \n",
       "15538  [6261, 9371, 4062, 2245, 6189, 8883, 3933, 850...      0  \n",
       "15539  [6261, 9371, 4062, 2245, 6189, 8883, 3933, 850...      0  "
      ]
     },
     "execution_count": 16,
     "metadata": {},
     "output_type": "execute_result"
    }
   ],
   "source": [
    "joined_df[joined_df['query'] == 'spiderman']"
   ]
  },
  {
   "cell_type": "code",
   "execution_count": 17,
   "metadata": {},
   "outputs": [
    {
     "data": {
      "text/html": [
       "<div>\n",
       "<style scoped>\n",
       "    .dataframe tbody tr th:only-of-type {\n",
       "        vertical-align: middle;\n",
       "    }\n",
       "\n",
       "    .dataframe tbody tr th {\n",
       "        vertical-align: top;\n",
       "    }\n",
       "\n",
       "    .dataframe thead th {\n",
       "        text-align: right;\n",
       "    }\n",
       "</style>\n",
       "<table border=\"1\" class=\"dataframe\">\n",
       "  <thead>\n",
       "    <tr style=\"text-align: right;\">\n",
       "      <th></th>\n",
       "      <th>id</th>\n",
       "      <th>description</th>\n",
       "      <th>release_date</th>\n",
       "      <th>total_watchers</th>\n",
       "      <th>age_rating</th>\n",
       "      <th>image_portrait</th>\n",
       "      <th>content_url</th>\n",
       "      <th>image_url</th>\n",
       "      <th>title</th>\n",
       "      <th>group_l1</th>\n",
       "      <th>group_l2</th>\n",
       "      <th>genres</th>\n",
       "      <th>actors</th>\n",
       "      <th>directors</th>\n",
       "      <th>country</th>\n",
       "      <th>release_year</th>\n",
       "      <th>popularity</th>\n",
       "      <th>search_text</th>\n",
       "      <th>embedding</th>\n",
       "    </tr>\n",
       "  </thead>\n",
       "  <tbody>\n",
       "    <tr>\n",
       "      <th>287</th>\n",
       "      <td>3426</td>\n",
       "      <td>Peter Parker menyeimbangkan hidupnya sebagai s...</td>\n",
       "      <td>2017-07-07</td>\n",
       "      <td>1739</td>\n",
       "      <td>13 or more</td>\n",
       "      <td>spider-man-homecoming-e4b5ed.jpg</td>\n",
       "      <td>https://www.vidio.com/premier/3426</td>\n",
       "      <td>https://thumbor.prod.vidiocdn.com/TBeIDDTwf35r...</td>\n",
       "      <td>spider-man: homecoming</td>\n",
       "      <td>movies</td>\n",
       "      <td>western</td>\n",
       "      <td>action, adventure, comedy, fantasy, sci-fi</td>\n",
       "      <td>marisa tomei, michael keaton, robert downey jr...</td>\n",
       "      <td>jon watts</td>\n",
       "      <td>western</td>\n",
       "      <td>2017</td>\n",
       "      <td>average</td>\n",
       "      <td>title: spider-man: homecoming\\ndescription: Pe...</td>\n",
       "      <td>[-0.09195865, 0.06048768, 1.5135238, -1.38603,...</td>\n",
       "    </tr>\n",
       "  </tbody>\n",
       "</table>\n",
       "</div>"
      ],
      "text/plain": [
       "       id                                        description release_date  \\\n",
       "287  3426  Peter Parker menyeimbangkan hidupnya sebagai s...   2017-07-07   \n",
       "\n",
       "     total_watchers  age_rating                    image_portrait  \\\n",
       "287            1739  13 or more  spider-man-homecoming-e4b5ed.jpg   \n",
       "\n",
       "                            content_url  \\\n",
       "287  https://www.vidio.com/premier/3426   \n",
       "\n",
       "                                             image_url  \\\n",
       "287  https://thumbor.prod.vidiocdn.com/TBeIDDTwf35r...   \n",
       "\n",
       "                      title group_l1 group_l2  \\\n",
       "287  spider-man: homecoming   movies  western   \n",
       "\n",
       "                                         genres  \\\n",
       "287  action, adventure, comedy, fantasy, sci-fi   \n",
       "\n",
       "                                                actors  directors  country  \\\n",
       "287  marisa tomei, michael keaton, robert downey jr...  jon watts  western   \n",
       "\n",
       "    release_year popularity  \\\n",
       "287         2017    average   \n",
       "\n",
       "                                           search_text  \\\n",
       "287  title: spider-man: homecoming\\ndescription: Pe...   \n",
       "\n",
       "                                             embedding  \n",
       "287  [-0.09195865, 0.06048768, 1.5135238, -1.38603,...  "
      ]
     },
     "execution_count": 17,
     "metadata": {},
     "output_type": "execute_result"
    }
   ],
   "source": [
    "film_df[film_df['id'] == '3426']"
   ]
  },
  {
   "cell_type": "code",
   "execution_count": null,
   "metadata": {},
   "outputs": [],
   "source": [
    "joined_df.drop(columns=['search_result', 'is_tp']).to_json('data/benchmark_indo_bert.json', orient='records', lines=True)"
   ]
  },
  {
   "cell_type": "code",
   "execution_count": null,
   "metadata": {},
   "outputs": [],
   "source": []
  }
 ],
 "metadata": {
  "kernelspec": {
   "display_name": "genai_hackathon_2024",
   "language": "python",
   "name": "python3"
  },
  "language_info": {
   "codemirror_mode": {
    "name": "ipython",
    "version": 3
   },
   "file_extension": ".py",
   "mimetype": "text/x-python",
   "name": "python",
   "nbconvert_exporter": "python",
   "pygments_lexer": "ipython3",
   "version": "3.10.12"
  }
 },
 "nbformat": 4,
 "nbformat_minor": 2
}
