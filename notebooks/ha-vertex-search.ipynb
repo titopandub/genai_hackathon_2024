{
 "cells": [
  {
   "cell_type": "code",
   "execution_count": 31,
   "metadata": {},
   "outputs": [],
   "source": [
    "from google.cloud import discoveryengine_v1beta as discoveryengine_v1\n",
    "from google.protobuf.json_format import MessageToDict\n",
    "\n",
    "project_id =328583281153\n",
    "location_global = 'global'\n",
    "collection = 'default_collection'\n",
    "# data_store = 'film-metadata-b2_1709192252087'\n",
    "data_store = 'film-metadata-2024-03-19_1710826473633'"
   ]
  },
  {
   "cell_type": "code",
   "execution_count": null,
   "metadata": {},
   "outputs": [],
   "source": []
  },
  {
   "cell_type": "code",
   "execution_count": 130,
   "metadata": {},
   "outputs": [],
   "source": [
    "\n",
    "import requests\n",
    "import json\n",
    "def vertex_search(query):\n",
    "    client = discoveryengine_v1.SearchServiceClient()\n",
    "\n",
    "    request = discoveryengine_v1.SearchRequest(\n",
    "        serving_config=f\"projects/{project_id}/locations/{location_global}/collections/{collection}/dataStores/{data_store}/servingConfigs/default_search:search\",\n",
    "        query=query,\n",
    "        page_size=1\n",
    "    )\n",
    "\n",
    "    page_result = client.search(request=request)\n",
    "\n",
    "    return page_result\n",
    "    # result = list(map(lambda x: MessageToDict(x.document._pb)['structData'],page_result))\n",
    "    # return result"
   ]
  },
  {
   "cell_type": "code",
   "execution_count": 153,
   "metadata": {},
   "outputs": [],
   "source": [
    "import google.auth\n",
    "import google.auth.transport.requests\n",
    "# creds, project = google.auth.default()\n",
    "# creds= google.auth.default()\n",
    "\n",
    "# creds.valid is False, and creds.token is None\n",
    "# Need to refresh credentials to populate those\n",
    "\n",
    "# auth_req = google.auth.transport.requests.Request()\n",
    "# creds.refresh(auth_req)\n",
    "\n",
    "from google.auth import compute_engine\n",
    "\n",
    "cred = compute_engine.Credentials()\n"
   ]
  },
  {
   "cell_type": "code",
   "execution_count": 159,
   "metadata": {},
   "outputs": [],
   "source": [
    "cred.token"
   ]
  },
  {
   "cell_type": "code",
   "execution_count": 137,
   "metadata": {},
   "outputs": [],
   "source": [
    "data_store = \"film-metadata-2024-03-19_1710826473633\"\n",
    "project_id = \"328583281153\"\n",
    "location = \"global\"\n",
    "token = \"ya29.a0Ad52N3_2HpiiLqc-1UTWCejoyhxjZnVbgJ0eiu1pGqLrXNnBprcPdlEeaU9EHIOj1YEJqWgliL8sFdOQQPuTAAK7zUzrTM21iBfVE38pslYnMXcPNEPN2tDcLcx6y98IJScAcBLs7tnOLPiCESrUaMdDyzUjyWROoiZlgpfINXcaCgYKASkSARISFQHGX2MiZuk121rhEB8YTWN1rmr-tw0178\"\n",
    "\n",
    "def vertex_search_http(query):\n",
    "    url = f\"https://discoveryengine.googleapis.com/v1alpha/projects/{project_id}/locations/{location}/collections/default_collection/dataStores/{data_store}/servingConfigs/default_search:search\"\n",
    "    data = {\"query\": query, \"pageSize\": 10}\n",
    "    headers = {\"Authorization\": f\"Bearer {token}\"}\n",
    "    response = requests.post(url, json=data, headers=headers)\n",
    "    response_json = json.loads(response.text)\n",
    "\n",
    "    result = list(map(lambda x: x[\"document\"][\"structData\"], response_json[\"results\"]))\n",
    "    ids = list(map(lambda x: int(x['id']), result))\n",
    "\n",
    "    return ids"
   ]
  },
  {
   "cell_type": "code",
   "execution_count": 139,
   "metadata": {},
   "outputs": [
    {
     "data": {
      "text/plain": [
       "[9372, 6147, 6100, 6701, 3672, 629, 2593, 731, 9060, 3965]"
      ]
     },
     "execution_count": 139,
     "metadata": {},
     "output_type": "execute_result"
    }
   ],
   "source": [
    "vertex_search_http('ratu adil')"
   ]
  },
  {
   "cell_type": "code",
   "execution_count": 104,
   "metadata": {},
   "outputs": [
    {
     "ename": "ResourceExhausted",
     "evalue": "429 Quota exceeded for quota metric 'Search requests' and limit 'Search requests per minute' of service 'discoveryengine.googleapis.com' for consumer 'project_number:328583281153'. [reason: \"RATE_LIMIT_EXCEEDED\"\ndomain: \"googleapis.com\"\nmetadata {\n  key: \"service\"\n  value: \"discoveryengine.googleapis.com\"\n}\nmetadata {\n  key: \"quota_metric\"\n  value: \"discoveryengine.googleapis.com/search_requests\"\n}\nmetadata {\n  key: \"quota_location\"\n  value: \"global\"\n}\nmetadata {\n  key: \"quota_limit\"\n  value: \"SearchRequestsPerMinutePerProject\"\n}\nmetadata {\n  key: \"quota_limit_value\"\n  value: \"300\"\n}\nmetadata {\n  key: \"consumer\"\n  value: \"projects/328583281153\"\n}\n, links {\n  description: \"Request a higher quota limit.\"\n  url: \"https://cloud.google.com/docs/quota#requesting_higher_quota\"\n}\n]",
     "output_type": "error",
     "traceback": [
      "\u001b[0;31m---------------------------------------------------------------------------\u001b[0m",
      "\u001b[0;31m_InactiveRpcError\u001b[0m                         Traceback (most recent call last)",
      "File \u001b[0;32m~/.pyenv/versions/genai_hackathon_2024/lib/python3.10/site-packages/google/api_core/grpc_helpers.py:72\u001b[0m, in \u001b[0;36m_wrap_unary_errors.<locals>.error_remapped_callable\u001b[0;34m(*args, **kwargs)\u001b[0m\n\u001b[1;32m     71\u001b[0m \u001b[38;5;28;01mtry\u001b[39;00m:\n\u001b[0;32m---> 72\u001b[0m     \u001b[38;5;28;01mreturn\u001b[39;00m \u001b[43mcallable_\u001b[49m\u001b[43m(\u001b[49m\u001b[38;5;241;43m*\u001b[39;49m\u001b[43margs\u001b[49m\u001b[43m,\u001b[49m\u001b[43m \u001b[49m\u001b[38;5;241;43m*\u001b[39;49m\u001b[38;5;241;43m*\u001b[39;49m\u001b[43mkwargs\u001b[49m\u001b[43m)\u001b[49m\n\u001b[1;32m     73\u001b[0m \u001b[38;5;28;01mexcept\u001b[39;00m grpc\u001b[38;5;241m.\u001b[39mRpcError \u001b[38;5;28;01mas\u001b[39;00m exc:\n",
      "File \u001b[0;32m~/.pyenv/versions/genai_hackathon_2024/lib/python3.10/site-packages/grpc/_channel.py:1030\u001b[0m, in \u001b[0;36m_UnaryUnaryMultiCallable.__call__\u001b[0;34m(self, request, timeout, metadata, credentials, wait_for_ready, compression)\u001b[0m\n\u001b[1;32m   1028\u001b[0m state, call, \u001b[38;5;241m=\u001b[39m \u001b[38;5;28mself\u001b[39m\u001b[38;5;241m.\u001b[39m_blocking(request, timeout, metadata, credentials,\n\u001b[1;32m   1029\u001b[0m                               wait_for_ready, compression)\n\u001b[0;32m-> 1030\u001b[0m \u001b[38;5;28;01mreturn\u001b[39;00m \u001b[43m_end_unary_response_blocking\u001b[49m\u001b[43m(\u001b[49m\u001b[43mstate\u001b[49m\u001b[43m,\u001b[49m\u001b[43m \u001b[49m\u001b[43mcall\u001b[49m\u001b[43m,\u001b[49m\u001b[43m \u001b[49m\u001b[38;5;28;43;01mFalse\u001b[39;49;00m\u001b[43m,\u001b[49m\u001b[43m \u001b[49m\u001b[38;5;28;43;01mNone\u001b[39;49;00m\u001b[43m)\u001b[49m\n",
      "File \u001b[0;32m~/.pyenv/versions/genai_hackathon_2024/lib/python3.10/site-packages/grpc/_channel.py:910\u001b[0m, in \u001b[0;36m_end_unary_response_blocking\u001b[0;34m(state, call, with_call, deadline)\u001b[0m\n\u001b[1;32m    909\u001b[0m \u001b[38;5;28;01melse\u001b[39;00m:\n\u001b[0;32m--> 910\u001b[0m     \u001b[38;5;28;01mraise\u001b[39;00m _InactiveRpcError(state)\n",
      "\u001b[0;31m_InactiveRpcError\u001b[0m: <_InactiveRpcError of RPC that terminated with:\n\tstatus = StatusCode.RESOURCE_EXHAUSTED\n\tdetails = \"Quota exceeded for quota metric 'Search requests' and limit 'Search requests per minute' of service 'discoveryengine.googleapis.com' for consumer 'project_number:328583281153'.\"\n\tdebug_error_string = \"UNKNOWN:Error received from peer ipv4:142.251.12.95:443 {grpc_message:\"Quota exceeded for quota metric \\'Search requests\\' and limit \\'Search requests per minute\\' of service \\'discoveryengine.googleapis.com\\' for consumer \\'project_number:328583281153\\'.\", grpc_status:8, created_time:\"2024-03-19T14:52:34.854194979+07:00\"}\"\n>",
      "\nThe above exception was the direct cause of the following exception:\n",
      "\u001b[0;31mResourceExhausted\u001b[0m                         Traceback (most recent call last)",
      "Cell \u001b[0;32mIn[104], line 1\u001b[0m\n\u001b[0;32m----> 1\u001b[0m \u001b[43mvertex_search\u001b[49m\u001b[43m(\u001b[49m\u001b[38;5;124;43m'\u001b[39;49m\u001b[38;5;124;43mratu adil\u001b[39;49m\u001b[38;5;124;43m'\u001b[39;49m\u001b[43m)\u001b[49m\n",
      "Cell \u001b[0;32mIn[32], line 11\u001b[0m, in \u001b[0;36mvertex_search\u001b[0;34m(query)\u001b[0m\n\u001b[1;32m      4\u001b[0m \u001b[38;5;66;03m# Initialize request argument(s)\u001b[39;00m\n\u001b[1;32m      5\u001b[0m request \u001b[38;5;241m=\u001b[39m discoveryengine_v1\u001b[38;5;241m.\u001b[39mSearchRequest(\n\u001b[1;32m      6\u001b[0m     serving_config\u001b[38;5;241m=\u001b[39m\u001b[38;5;124mf\u001b[39m\u001b[38;5;124m\"\u001b[39m\u001b[38;5;124mprojects/\u001b[39m\u001b[38;5;132;01m{\u001b[39;00mproject_id\u001b[38;5;132;01m}\u001b[39;00m\u001b[38;5;124m/locations/\u001b[39m\u001b[38;5;132;01m{\u001b[39;00mlocation_global\u001b[38;5;132;01m}\u001b[39;00m\u001b[38;5;124m/collections/\u001b[39m\u001b[38;5;132;01m{\u001b[39;00mcollection\u001b[38;5;132;01m}\u001b[39;00m\u001b[38;5;124m/dataStores/\u001b[39m\u001b[38;5;132;01m{\u001b[39;00mdata_store\u001b[38;5;132;01m}\u001b[39;00m\u001b[38;5;124m/servingConfigs/default_search:search\u001b[39m\u001b[38;5;124m\"\u001b[39m,\n\u001b[1;32m      7\u001b[0m     query\u001b[38;5;241m=\u001b[39mquery,\n\u001b[1;32m      8\u001b[0m     page_size\u001b[38;5;241m=\u001b[39m\u001b[38;5;241m1\u001b[39m\n\u001b[1;32m      9\u001b[0m )\n\u001b[0;32m---> 11\u001b[0m page_result \u001b[38;5;241m=\u001b[39m \u001b[43mclient\u001b[49m\u001b[38;5;241;43m.\u001b[39;49m\u001b[43msearch\u001b[49m\u001b[43m(\u001b[49m\u001b[43mrequest\u001b[49m\u001b[38;5;241;43m=\u001b[39;49m\u001b[43mrequest\u001b[49m\u001b[43m)\u001b[49m\n\u001b[1;32m     13\u001b[0m \u001b[38;5;28;01mreturn\u001b[39;00m page_result\n",
      "File \u001b[0;32m~/.pyenv/versions/genai_hackathon_2024/lib/python3.10/site-packages/google/cloud/discoveryengine_v1beta/services/search_service/client.py:825\u001b[0m, in \u001b[0;36mSearchServiceClient.search\u001b[0;34m(self, request, retry, timeout, metadata)\u001b[0m\n\u001b[1;32m    822\u001b[0m \u001b[38;5;28mself\u001b[39m\u001b[38;5;241m.\u001b[39m_validate_universe_domain()\n\u001b[1;32m    824\u001b[0m \u001b[38;5;66;03m# Send the request.\u001b[39;00m\n\u001b[0;32m--> 825\u001b[0m response \u001b[38;5;241m=\u001b[39m \u001b[43mrpc\u001b[49m\u001b[43m(\u001b[49m\n\u001b[1;32m    826\u001b[0m \u001b[43m    \u001b[49m\u001b[43mrequest\u001b[49m\u001b[43m,\u001b[49m\n\u001b[1;32m    827\u001b[0m \u001b[43m    \u001b[49m\u001b[43mretry\u001b[49m\u001b[38;5;241;43m=\u001b[39;49m\u001b[43mretry\u001b[49m\u001b[43m,\u001b[49m\n\u001b[1;32m    828\u001b[0m \u001b[43m    \u001b[49m\u001b[43mtimeout\u001b[49m\u001b[38;5;241;43m=\u001b[39;49m\u001b[43mtimeout\u001b[49m\u001b[43m,\u001b[49m\n\u001b[1;32m    829\u001b[0m \u001b[43m    \u001b[49m\u001b[43mmetadata\u001b[49m\u001b[38;5;241;43m=\u001b[39;49m\u001b[43mmetadata\u001b[49m\u001b[43m,\u001b[49m\n\u001b[1;32m    830\u001b[0m \u001b[43m\u001b[49m\u001b[43m)\u001b[49m\n\u001b[1;32m    832\u001b[0m \u001b[38;5;66;03m# This method is paged; wrap the response in a pager, which provides\u001b[39;00m\n\u001b[1;32m    833\u001b[0m \u001b[38;5;66;03m# an `__iter__` convenience method.\u001b[39;00m\n\u001b[1;32m    834\u001b[0m response \u001b[38;5;241m=\u001b[39m pagers\u001b[38;5;241m.\u001b[39mSearchPager(\n\u001b[1;32m    835\u001b[0m     method\u001b[38;5;241m=\u001b[39mrpc,\n\u001b[1;32m    836\u001b[0m     request\u001b[38;5;241m=\u001b[39mrequest,\n\u001b[1;32m    837\u001b[0m     response\u001b[38;5;241m=\u001b[39mresponse,\n\u001b[1;32m    838\u001b[0m     metadata\u001b[38;5;241m=\u001b[39mmetadata,\n\u001b[1;32m    839\u001b[0m )\n",
      "File \u001b[0;32m~/.pyenv/versions/genai_hackathon_2024/lib/python3.10/site-packages/google/api_core/gapic_v1/method.py:113\u001b[0m, in \u001b[0;36m_GapicCallable.__call__\u001b[0;34m(self, timeout, retry, *args, **kwargs)\u001b[0m\n\u001b[1;32m    110\u001b[0m     metadata\u001b[38;5;241m.\u001b[39mextend(\u001b[38;5;28mself\u001b[39m\u001b[38;5;241m.\u001b[39m_metadata)\n\u001b[1;32m    111\u001b[0m     kwargs[\u001b[38;5;124m\"\u001b[39m\u001b[38;5;124mmetadata\u001b[39m\u001b[38;5;124m\"\u001b[39m] \u001b[38;5;241m=\u001b[39m metadata\n\u001b[0;32m--> 113\u001b[0m \u001b[38;5;28;01mreturn\u001b[39;00m \u001b[43mwrapped_func\u001b[49m\u001b[43m(\u001b[49m\u001b[38;5;241;43m*\u001b[39;49m\u001b[43margs\u001b[49m\u001b[43m,\u001b[49m\u001b[43m \u001b[49m\u001b[38;5;241;43m*\u001b[39;49m\u001b[38;5;241;43m*\u001b[39;49m\u001b[43mkwargs\u001b[49m\u001b[43m)\u001b[49m\n",
      "File \u001b[0;32m~/.pyenv/versions/genai_hackathon_2024/lib/python3.10/site-packages/google/api_core/grpc_helpers.py:74\u001b[0m, in \u001b[0;36m_wrap_unary_errors.<locals>.error_remapped_callable\u001b[0;34m(*args, **kwargs)\u001b[0m\n\u001b[1;32m     72\u001b[0m     \u001b[38;5;28;01mreturn\u001b[39;00m callable_(\u001b[38;5;241m*\u001b[39margs, \u001b[38;5;241m*\u001b[39m\u001b[38;5;241m*\u001b[39mkwargs)\n\u001b[1;32m     73\u001b[0m \u001b[38;5;28;01mexcept\u001b[39;00m grpc\u001b[38;5;241m.\u001b[39mRpcError \u001b[38;5;28;01mas\u001b[39;00m exc:\n\u001b[0;32m---> 74\u001b[0m     \u001b[38;5;28;01mraise\u001b[39;00m exceptions\u001b[38;5;241m.\u001b[39mfrom_grpc_error(exc) \u001b[38;5;28;01mfrom\u001b[39;00m \u001b[38;5;21;01mexc\u001b[39;00m\n",
      "\u001b[0;31mResourceExhausted\u001b[0m: 429 Quota exceeded for quota metric 'Search requests' and limit 'Search requests per minute' of service 'discoveryengine.googleapis.com' for consumer 'project_number:328583281153'. [reason: \"RATE_LIMIT_EXCEEDED\"\ndomain: \"googleapis.com\"\nmetadata {\n  key: \"service\"\n  value: \"discoveryengine.googleapis.com\"\n}\nmetadata {\n  key: \"quota_metric\"\n  value: \"discoveryengine.googleapis.com/search_requests\"\n}\nmetadata {\n  key: \"quota_location\"\n  value: \"global\"\n}\nmetadata {\n  key: \"quota_limit\"\n  value: \"SearchRequestsPerMinutePerProject\"\n}\nmetadata {\n  key: \"quota_limit_value\"\n  value: \"300\"\n}\nmetadata {\n  key: \"consumer\"\n  value: \"projects/328583281153\"\n}\n, links {\n  description: \"Request a higher quota limit.\"\n  url: \"https://cloud.google.com/docs/quota#requesting_higher_quota\"\n}\n]"
     ]
    }
   ],
   "source": [
    "vertex_search('ratu adil')"
   ]
  },
  {
   "cell_type": "code",
   "execution_count": 4,
   "metadata": {},
   "outputs": [],
   "source": [
    "import vertexai\n",
    "from vertexai.language_models import TextEmbeddingModel\n",
    "from annoy import AnnoyIndex\n",
    "import pandas as pd\n",
    "\n",
    "class Embedding:\n",
    "    def __init__(self, model) -> None:\n",
    "        self.model = model\n",
    "\n",
    "    def embedding_text(self, text):\n",
    "        embeddings = self.model.get_embeddings([text])\n",
    "        for embedding in embeddings:\n",
    "            vector = embedding.values\n",
    "            # print(f\"Length of Embedding Vector: {len(vector)}\")\n",
    "        return vector\n",
    "\n",
    "class FilmVertexSearch:\n",
    "    def __init__(self, embedding:Embedding) -> None:\n",
    "        self.embedding = embedding\n",
    "        self.final_df = pd.read_json('./data/film_metadata.json', lines=True)\n",
    "        self.annoy_index = AnnoyIndex(768, 'dot')\n",
    "        for index, row in self.final_df.iterrows():\n",
    "            self.annoy_index.add_item(row['id'], row['embedding'])\n",
    "        self.annoy_index.build(10)\n",
    "\n",
    "    def search(self, query, limit=10):\n",
    "        project_id =328583281153\n",
    "        location_global = 'global'\n",
    "        collection = 'default_collection'\n",
    "        data_store = 'film-metadata-b2_1709192252087'\n",
    "\n",
    "        client = discoveryengine_v1.SearchServiceClient()\n",
    "\n",
    "        # Initialize request argument(s)\n",
    "        request = discoveryengine_v1.SearchRequest(\n",
    "            serving_config=f\"projects/{project_id}/locations/{location_global}/collections/{collection}/dataStores/{data_store}/servingConfigs/default_search:search\",\n",
    "            query=query,\n",
    "            page_size=10\n",
    "        )\n",
    "\n",
    "        page_result = client.search(request=request)\n",
    "\n",
    "        result = list(map(lambda x: MessageToDict(x.document._pb)['structData'],page_result))\n",
    "        result_ids = list(map(lambda x: int(x['id']),result))\n",
    "        return result_ids\n",
    "        # query_vector = self.embedding.embedding_text(query)\n",
    "        # return self.annoy_index.get_nns_by_vector(query_vector, limit, search_k=-1)\n",
    "\n",
    "    def lookup_film(self, film_ids):\n",
    "        return \"\\n\\n\".join([search_text for search_text in self.final_df[self.final_df['id'].isin(film_ids)]['search_text'].values.tolist()])\n",
    "\n",
    "    def lookup_film_complete_text(self, film_ids):\n",
    "        film_search_text = []\n",
    "        for id, search_text in self.final_df[self.final_df['id'].isin(film_ids)][['id', 'search_text']].values.tolist():\n",
    "            film_search_text.append(f\"ID: {str(id)}\\n{search_text}\")\n",
    "        return \"\\n\\n\".join(film_search_text)\n",
    "\n",
    "    def get_grounding(self, response, history_film_ids):\n",
    "        vector_search_result = \"\"\n",
    "\n",
    "        if len(response) != 0:\n",
    "            vector_film_ids = self.search(response)\n",
    "            vector_search_result = self.lookup_film_complete_text(vector_film_ids)\n",
    "        else:\n",
    "            if len(history_film_ids) > 0:\n",
    "                film_ids = []\n",
    "                vector_search_result\n",
    "                for film_id in history_film_ids:\n",
    "                    film_search_query = self.lookup_film([film_id])\n",
    "                    if film_search_query != \"\":\n",
    "                        film_ids += self.search(film_search_query)\n",
    "                vector_search_result = self.lookup_film_complete_text(set(film_ids))\n",
    "        return vector_search_result\n",
    "\n",
    "embedding_model = TextEmbeddingModel.from_pretrained(\"textembedding-gecko-multilingual\")\n",
    "embedding = Embedding(embedding_model)\n",
    "film_vertex_search = FilmVertexSearch(embedding)"
   ]
  },
  {
   "cell_type": "code",
   "execution_count": 6,
   "metadata": {},
   "outputs": [
    {
     "ename": "ResourceExhausted",
     "evalue": "429 Quota exceeded for quota metric 'Search requests' and limit 'Search requests per minute' of service 'discoveryengine.googleapis.com' for consumer 'project_number:328583281153'. [reason: \"RATE_LIMIT_EXCEEDED\"\ndomain: \"googleapis.com\"\nmetadata {\n  key: \"service\"\n  value: \"discoveryengine.googleapis.com\"\n}\nmetadata {\n  key: \"quota_metric\"\n  value: \"discoveryengine.googleapis.com/search_requests\"\n}\nmetadata {\n  key: \"quota_location\"\n  value: \"global\"\n}\nmetadata {\n  key: \"quota_limit\"\n  value: \"SearchRequestsPerMinutePerProject\"\n}\nmetadata {\n  key: \"quota_limit_value\"\n  value: \"300\"\n}\nmetadata {\n  key: \"consumer\"\n  value: \"projects/328583281153\"\n}\n, links {\n  description: \"Request a higher quota limit.\"\n  url: \"https://cloud.google.com/docs/quota#requesting_higher_quota\"\n}\n]",
     "output_type": "error",
     "traceback": [
      "\u001b[0;31m---------------------------------------------------------------------------\u001b[0m",
      "\u001b[0;31m_InactiveRpcError\u001b[0m                         Traceback (most recent call last)",
      "File \u001b[0;32m~/.pyenv/versions/genai_hackathon_2024/lib/python3.10/site-packages/google/api_core/grpc_helpers.py:72\u001b[0m, in \u001b[0;36m_wrap_unary_errors.<locals>.error_remapped_callable\u001b[0;34m(*args, **kwargs)\u001b[0m\n\u001b[1;32m     71\u001b[0m \u001b[38;5;28;01mtry\u001b[39;00m:\n\u001b[0;32m---> 72\u001b[0m     \u001b[38;5;28;01mreturn\u001b[39;00m \u001b[43mcallable_\u001b[49m\u001b[43m(\u001b[49m\u001b[38;5;241;43m*\u001b[39;49m\u001b[43margs\u001b[49m\u001b[43m,\u001b[49m\u001b[43m \u001b[49m\u001b[38;5;241;43m*\u001b[39;49m\u001b[38;5;241;43m*\u001b[39;49m\u001b[43mkwargs\u001b[49m\u001b[43m)\u001b[49m\n\u001b[1;32m     73\u001b[0m \u001b[38;5;28;01mexcept\u001b[39;00m grpc\u001b[38;5;241m.\u001b[39mRpcError \u001b[38;5;28;01mas\u001b[39;00m exc:\n",
      "File \u001b[0;32m~/.pyenv/versions/genai_hackathon_2024/lib/python3.10/site-packages/grpc/_channel.py:1030\u001b[0m, in \u001b[0;36m_UnaryUnaryMultiCallable.__call__\u001b[0;34m(self, request, timeout, metadata, credentials, wait_for_ready, compression)\u001b[0m\n\u001b[1;32m   1028\u001b[0m state, call, \u001b[38;5;241m=\u001b[39m \u001b[38;5;28mself\u001b[39m\u001b[38;5;241m.\u001b[39m_blocking(request, timeout, metadata, credentials,\n\u001b[1;32m   1029\u001b[0m                               wait_for_ready, compression)\n\u001b[0;32m-> 1030\u001b[0m \u001b[38;5;28;01mreturn\u001b[39;00m \u001b[43m_end_unary_response_blocking\u001b[49m\u001b[43m(\u001b[49m\u001b[43mstate\u001b[49m\u001b[43m,\u001b[49m\u001b[43m \u001b[49m\u001b[43mcall\u001b[49m\u001b[43m,\u001b[49m\u001b[43m \u001b[49m\u001b[38;5;28;43;01mFalse\u001b[39;49;00m\u001b[43m,\u001b[49m\u001b[43m \u001b[49m\u001b[38;5;28;43;01mNone\u001b[39;49;00m\u001b[43m)\u001b[49m\n",
      "File \u001b[0;32m~/.pyenv/versions/genai_hackathon_2024/lib/python3.10/site-packages/grpc/_channel.py:910\u001b[0m, in \u001b[0;36m_end_unary_response_blocking\u001b[0;34m(state, call, with_call, deadline)\u001b[0m\n\u001b[1;32m    909\u001b[0m \u001b[38;5;28;01melse\u001b[39;00m:\n\u001b[0;32m--> 910\u001b[0m     \u001b[38;5;28;01mraise\u001b[39;00m _InactiveRpcError(state)\n",
      "\u001b[0;31m_InactiveRpcError\u001b[0m: <_InactiveRpcError of RPC that terminated with:\n\tstatus = StatusCode.RESOURCE_EXHAUSTED\n\tdetails = \"Quota exceeded for quota metric 'Search requests' and limit 'Search requests per minute' of service 'discoveryengine.googleapis.com' for consumer 'project_number:328583281153'.\"\n\tdebug_error_string = \"UNKNOWN:Error received from peer ipv4:142.250.4.95:443 {grpc_message:\"Quota exceeded for quota metric \\'Search requests\\' and limit \\'Search requests per minute\\' of service \\'discoveryengine.googleapis.com\\' for consumer \\'project_number:328583281153\\'.\", grpc_status:8, created_time:\"2024-03-19T12:41:08.750833881+07:00\"}\"\n>",
      "\nThe above exception was the direct cause of the following exception:\n",
      "\u001b[0;31mResourceExhausted\u001b[0m                         Traceback (most recent call last)",
      "Cell \u001b[0;32mIn[6], line 1\u001b[0m\n\u001b[0;32m----> 1\u001b[0m \u001b[38;5;28mprint\u001b[39m(film_vertex_search\u001b[38;5;241m.\u001b[39mlookup_film(\u001b[43mfilm_vertex_search\u001b[49m\u001b[38;5;241;43m.\u001b[39;49m\u001b[43msearch\u001b[49m\u001b[43m(\u001b[49m\u001b[38;5;124;43m\"\u001b[39;49m\u001b[38;5;124;43mdian sastrowardoyo\u001b[39;49m\u001b[38;5;124;43m\"\u001b[39;49m\u001b[43m)\u001b[49m))\n",
      "Cell \u001b[0;32mIn[4], line 43\u001b[0m, in \u001b[0;36mFilmVertexSearch.search\u001b[0;34m(self, query, limit)\u001b[0m\n\u001b[1;32m     35\u001b[0m request \u001b[38;5;241m=\u001b[39m discoveryengine_v1\u001b[38;5;241m.\u001b[39mSearchRequest(\n\u001b[1;32m     36\u001b[0m     serving_config\u001b[38;5;241m=\u001b[39m\u001b[38;5;124mf\u001b[39m\u001b[38;5;124m\"\u001b[39m\u001b[38;5;124mprojects/\u001b[39m\u001b[38;5;132;01m{\u001b[39;00mproject_id\u001b[38;5;132;01m}\u001b[39;00m\u001b[38;5;124m/locations/\u001b[39m\u001b[38;5;132;01m{\u001b[39;00mlocation_global\u001b[38;5;132;01m}\u001b[39;00m\u001b[38;5;124m/collections/\u001b[39m\u001b[38;5;132;01m{\u001b[39;00mcollection\u001b[38;5;132;01m}\u001b[39;00m\u001b[38;5;124m/dataStores/\u001b[39m\u001b[38;5;132;01m{\u001b[39;00mdata_store\u001b[38;5;132;01m}\u001b[39;00m\u001b[38;5;124m/servingConfigs/default_search:search\u001b[39m\u001b[38;5;124m\"\u001b[39m,\n\u001b[1;32m     37\u001b[0m     query\u001b[38;5;241m=\u001b[39mquery,\n\u001b[1;32m     38\u001b[0m     page_size\u001b[38;5;241m=\u001b[39m\u001b[38;5;241m10\u001b[39m\n\u001b[1;32m     39\u001b[0m )\n\u001b[1;32m     41\u001b[0m page_result \u001b[38;5;241m=\u001b[39m client\u001b[38;5;241m.\u001b[39msearch(request\u001b[38;5;241m=\u001b[39mrequest)\n\u001b[0;32m---> 43\u001b[0m result \u001b[38;5;241m=\u001b[39m \u001b[38;5;28;43mlist\u001b[39;49m\u001b[43m(\u001b[49m\u001b[38;5;28;43mmap\u001b[39;49m\u001b[43m(\u001b[49m\u001b[38;5;28;43;01mlambda\u001b[39;49;00m\u001b[43m \u001b[49m\u001b[43mx\u001b[49m\u001b[43m:\u001b[49m\u001b[43m \u001b[49m\u001b[43mMessageToDict\u001b[49m\u001b[43m(\u001b[49m\u001b[43mx\u001b[49m\u001b[38;5;241;43m.\u001b[39;49m\u001b[43mdocument\u001b[49m\u001b[38;5;241;43m.\u001b[39;49m\u001b[43m_pb\u001b[49m\u001b[43m)\u001b[49m\u001b[43m[\u001b[49m\u001b[38;5;124;43m'\u001b[39;49m\u001b[38;5;124;43mstructData\u001b[39;49m\u001b[38;5;124;43m'\u001b[39;49m\u001b[43m]\u001b[49m\u001b[43m,\u001b[49m\u001b[43mpage_result\u001b[49m\u001b[43m)\u001b[49m\u001b[43m)\u001b[49m\n\u001b[1;32m     44\u001b[0m result_ids \u001b[38;5;241m=\u001b[39m \u001b[38;5;28mlist\u001b[39m(\u001b[38;5;28mmap\u001b[39m(\u001b[38;5;28;01mlambda\u001b[39;00m x: \u001b[38;5;28mint\u001b[39m(x[\u001b[38;5;124m'\u001b[39m\u001b[38;5;124mid\u001b[39m\u001b[38;5;124m'\u001b[39m]),result))\n\u001b[1;32m     45\u001b[0m \u001b[38;5;28;01mreturn\u001b[39;00m result_ids\n",
      "File \u001b[0;32m~/.pyenv/versions/genai_hackathon_2024/lib/python3.10/site-packages/google/cloud/discoveryengine_v1beta/services/search_service/pagers.py:85\u001b[0m, in \u001b[0;36mSearchPager.__iter__\u001b[0;34m(self)\u001b[0m\n\u001b[1;32m     84\u001b[0m \u001b[38;5;28;01mdef\u001b[39;00m \u001b[38;5;21m__iter__\u001b[39m(\u001b[38;5;28mself\u001b[39m) \u001b[38;5;241m-\u001b[39m\u001b[38;5;241m>\u001b[39m Iterator[search_service\u001b[38;5;241m.\u001b[39mSearchResponse\u001b[38;5;241m.\u001b[39mSearchResult]:\n\u001b[0;32m---> 85\u001b[0m     \u001b[38;5;28;01mfor\u001b[39;00m page \u001b[38;5;129;01min\u001b[39;00m \u001b[38;5;28mself\u001b[39m\u001b[38;5;241m.\u001b[39mpages:\n\u001b[1;32m     86\u001b[0m         \u001b[38;5;28;01myield from\u001b[39;00m page\u001b[38;5;241m.\u001b[39mresults\n",
      "File \u001b[0;32m~/.pyenv/versions/genai_hackathon_2024/lib/python3.10/site-packages/google/cloud/discoveryengine_v1beta/services/search_service/pagers.py:81\u001b[0m, in \u001b[0;36mSearchPager.pages\u001b[0;34m(self)\u001b[0m\n\u001b[1;32m     79\u001b[0m \u001b[38;5;28;01mwhile\u001b[39;00m \u001b[38;5;28mself\u001b[39m\u001b[38;5;241m.\u001b[39m_response\u001b[38;5;241m.\u001b[39mnext_page_token:\n\u001b[1;32m     80\u001b[0m     \u001b[38;5;28mself\u001b[39m\u001b[38;5;241m.\u001b[39m_request\u001b[38;5;241m.\u001b[39mpage_token \u001b[38;5;241m=\u001b[39m \u001b[38;5;28mself\u001b[39m\u001b[38;5;241m.\u001b[39m_response\u001b[38;5;241m.\u001b[39mnext_page_token\n\u001b[0;32m---> 81\u001b[0m     \u001b[38;5;28mself\u001b[39m\u001b[38;5;241m.\u001b[39m_response \u001b[38;5;241m=\u001b[39m \u001b[38;5;28;43mself\u001b[39;49m\u001b[38;5;241;43m.\u001b[39;49m\u001b[43m_method\u001b[49m\u001b[43m(\u001b[49m\u001b[38;5;28;43mself\u001b[39;49m\u001b[38;5;241;43m.\u001b[39;49m\u001b[43m_request\u001b[49m\u001b[43m,\u001b[49m\u001b[43m \u001b[49m\u001b[43mmetadata\u001b[49m\u001b[38;5;241;43m=\u001b[39;49m\u001b[38;5;28;43mself\u001b[39;49m\u001b[38;5;241;43m.\u001b[39;49m\u001b[43m_metadata\u001b[49m\u001b[43m)\u001b[49m\n\u001b[1;32m     82\u001b[0m     \u001b[38;5;28;01myield\u001b[39;00m \u001b[38;5;28mself\u001b[39m\u001b[38;5;241m.\u001b[39m_response\n",
      "File \u001b[0;32m~/.pyenv/versions/genai_hackathon_2024/lib/python3.10/site-packages/google/api_core/gapic_v1/method.py:113\u001b[0m, in \u001b[0;36m_GapicCallable.__call__\u001b[0;34m(self, timeout, retry, *args, **kwargs)\u001b[0m\n\u001b[1;32m    110\u001b[0m     metadata\u001b[38;5;241m.\u001b[39mextend(\u001b[38;5;28mself\u001b[39m\u001b[38;5;241m.\u001b[39m_metadata)\n\u001b[1;32m    111\u001b[0m     kwargs[\u001b[38;5;124m\"\u001b[39m\u001b[38;5;124mmetadata\u001b[39m\u001b[38;5;124m\"\u001b[39m] \u001b[38;5;241m=\u001b[39m metadata\n\u001b[0;32m--> 113\u001b[0m \u001b[38;5;28;01mreturn\u001b[39;00m \u001b[43mwrapped_func\u001b[49m\u001b[43m(\u001b[49m\u001b[38;5;241;43m*\u001b[39;49m\u001b[43margs\u001b[49m\u001b[43m,\u001b[49m\u001b[43m \u001b[49m\u001b[38;5;241;43m*\u001b[39;49m\u001b[38;5;241;43m*\u001b[39;49m\u001b[43mkwargs\u001b[49m\u001b[43m)\u001b[49m\n",
      "File \u001b[0;32m~/.pyenv/versions/genai_hackathon_2024/lib/python3.10/site-packages/google/api_core/grpc_helpers.py:74\u001b[0m, in \u001b[0;36m_wrap_unary_errors.<locals>.error_remapped_callable\u001b[0;34m(*args, **kwargs)\u001b[0m\n\u001b[1;32m     72\u001b[0m     \u001b[38;5;28;01mreturn\u001b[39;00m callable_(\u001b[38;5;241m*\u001b[39margs, \u001b[38;5;241m*\u001b[39m\u001b[38;5;241m*\u001b[39mkwargs)\n\u001b[1;32m     73\u001b[0m \u001b[38;5;28;01mexcept\u001b[39;00m grpc\u001b[38;5;241m.\u001b[39mRpcError \u001b[38;5;28;01mas\u001b[39;00m exc:\n\u001b[0;32m---> 74\u001b[0m     \u001b[38;5;28;01mraise\u001b[39;00m exceptions\u001b[38;5;241m.\u001b[39mfrom_grpc_error(exc) \u001b[38;5;28;01mfrom\u001b[39;00m \u001b[38;5;21;01mexc\u001b[39;00m\n",
      "\u001b[0;31mResourceExhausted\u001b[0m: 429 Quota exceeded for quota metric 'Search requests' and limit 'Search requests per minute' of service 'discoveryengine.googleapis.com' for consumer 'project_number:328583281153'. [reason: \"RATE_LIMIT_EXCEEDED\"\ndomain: \"googleapis.com\"\nmetadata {\n  key: \"service\"\n  value: \"discoveryengine.googleapis.com\"\n}\nmetadata {\n  key: \"quota_metric\"\n  value: \"discoveryengine.googleapis.com/search_requests\"\n}\nmetadata {\n  key: \"quota_location\"\n  value: \"global\"\n}\nmetadata {\n  key: \"quota_limit\"\n  value: \"SearchRequestsPerMinutePerProject\"\n}\nmetadata {\n  key: \"quota_limit_value\"\n  value: \"300\"\n}\nmetadata {\n  key: \"consumer\"\n  value: \"projects/328583281153\"\n}\n, links {\n  description: \"Request a higher quota limit.\"\n  url: \"https://cloud.google.com/docs/quota#requesting_higher_quota\"\n}\n]"
     ]
    }
   ],
   "source": [
    "print(film_vertex_search.lookup_film(film_vertex_search.search(\"dian sastrowardoyo\")))"
   ]
  },
  {
   "cell_type": "code",
   "execution_count": null,
   "metadata": {},
   "outputs": [],
   "source": []
  }
 ],
 "metadata": {
  "kernelspec": {
   "display_name": "genai_hackathon_2024",
   "language": "python",
   "name": "python3"
  },
  "language_info": {
   "codemirror_mode": {
    "name": "ipython",
    "version": 3
   },
   "file_extension": ".py",
   "mimetype": "text/x-python",
   "name": "python",
   "nbconvert_exporter": "python",
   "pygments_lexer": "ipython3",
   "version": "3.10.12"
  }
 },
 "nbformat": 4,
 "nbformat_minor": 2
}
