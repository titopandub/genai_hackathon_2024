{
 "cells": [
  {
   "cell_type": "code",
   "execution_count": 7,
   "metadata": {},
   "outputs": [
    {
     "data": {
      "text/plain": [
       "True"
      ]
     },
     "execution_count": 7,
     "metadata": {},
     "output_type": "execute_result"
    }
   ],
   "source": [
    "import requests\n",
    "import os\n",
    "import dotenv\n",
    "dotenv.load_dotenv()"
   ]
  },
  {
   "cell_type": "code",
   "execution_count": 12,
   "metadata": {},
   "outputs": [],
   "source": [
    "api_key = os.environ.get(\"VIDIO_X_API_AUTH\", \"\")\n",
    "params = {\n",
    "    'content_size': 20,\n",
    "    'filter[state]': 'upcoming'\n",
    "}\n",
    "headers = {\n",
    "    'x-api-key': api_key,\n",
    "    'x-secure-level': '2', \n",
    "    'x-api-platform': 'app-js', \n",
    "    'x-api-app-info': 'js/www.vidio.com', \n",
    "    'accept': 'application/json'\n",
    "}\n",
    "response = requests.get(f\"https://api.vidio.com/sport_events\", params=params, headers=headers)"
   ]
  },
  {
   "cell_type": "code",
   "execution_count": 13,
   "metadata": {},
   "outputs": [
    {
     "name": "stdout",
     "output_type": "stream",
     "text": [
      "<Response [200]>\n"
     ]
    }
   ],
   "source": [
    "def join_included_data(data, included):\n",
    "    included_map = {(item['type'], item['id']): item for item in included}\n",
    "    \n",
    "    for item in data:\n",
    "        for relation_key, relation_value in item.get('relationships', {}).items():\n",
    "            relation_data = relation_value.get('data')\n",
    "            if relation_data:\n",
    "                key = (relation_data['type'], relation_data['id'])\n",
    "                if key in included_map:\n",
    "                    item[relation_key] = included_map[key]['attributes']\n",
    "    \n",
    "    return data\n",
    "\n",
    "# Assuming 'response' is your JSON object from above\n",
    "print(response)\n",
    "data = response.json()['data']\n",
    "included = response.json()['included']\n",
    "result = join_included_data(data, included)"
   ]
  },
  {
   "cell_type": "code",
   "execution_count": 14,
   "metadata": {},
   "outputs": [],
   "source": [
    "from datetime import datetime\n",
    "\n",
    "\n",
    "def parse_result(result):\n",
    "    date_format = '%Y-%m-%dT%H:%M:%S%z'\n",
    "    output_date_format = '%d %B %Y %H:%M'\n",
    "    return (\n",
    "        f\"{result['home_team']['name']}\"\n",
    "        \" vs \"\n",
    "        f\"{result['away_team']['name']}\"\n",
    "        \" - \"\n",
    "        f\"{datetime.strptime(result['attributes']['start_time'], date_format).strftime(output_date_format)}\"\n",
    "    )\n",
    "\n",
    "parsed_result = [parse_result(i) for i in result]"
   ]
  },
  {
   "cell_type": "code",
   "execution_count": 15,
   "metadata": {},
   "outputs": [
    {
     "data": {
      "text/plain": [
       "['ACF Fiorentina vs Viktoria Plzeň - 18 April 2024 23:45',\n",
       " 'Lille OSC Métropole vs Aston Villa - 18 April 2024 23:45',\n",
       " 'Fenerbahce S.K. vs Olympiacos F.C. - 19 April 2024 02:00',\n",
       " 'PAOK FC vs Club Brugge KV - 19 April 2024 02:00',\n",
       " 'AS Roma vs A.C. Milan - 19 April 2024 02:00',\n",
       " 'Atalanta B.C. vs Liverpool - 19 April 2024 02:00',\n",
       " 'Olympique de Marseille vs S.L. Benfica - 19 April 2024 02:00',\n",
       " 'West Ham United vs Bayer 04 Leverkusen - 19 April 2024 02:00',\n",
       " 'Bima Perkasa Jogja vs Pelita Jaya Bakrie Jakarta - 19 April 2024 18:00',\n",
       " 'Prawira Harum Bandung vs Bali United Basketball - 19 April 2024 20:00',\n",
       " 'Amartha Hangtuah Jakarta vs Kesatria Bengawan Solo - 20 April 2024 14:00',\n",
       " 'Dewa United Banten vs Rajawali Medan - 20 April 2024 16:00',\n",
       " 'Satria Muda Pertamina Jakarta vs Satya Wacana Salatiga - 20 April 2024 18:00',\n",
       " 'Prawira Harum Bandung vs RANS Simba Bogor - 20 April 2024 20:00',\n",
       " 'Borneo Hornbills vs Pelita Jaya Bakrie Jakarta - 21 April 2024 14:00',\n",
       " 'Dewa United Banten vs Bali United Basketball - 21 April 2024 16:00',\n",
       " 'Amartha Hangtuah Jakarta vs Satya Wacana Salatiga - 21 April 2024 18:00',\n",
       " 'Satria Muda Pertamina Jakarta vs Kesatria Bengawan Solo - 21 April 2024 20:00',\n",
       " 'Genoa CFC vs Lazio - 19 April 2024 23:30',\n",
       " 'Cagliari Calcio vs Juventus - 20 April 2024 01:45',\n",
       " 'Empoli FC vs SSC Napoli - 20 April 2024 23:00',\n",
       " 'Hellas Verona vs Udinese Calcio - 21 April 2024 01:45',\n",
       " 'Sassuolo Calcio vs Lecce - 21 April 2024 17:30',\n",
       " 'Torino FC vs Frosinone Calcio - 21 April 2024 20:00',\n",
       " 'U.S. Salernitana 1919 vs ACF Fiorentina - 21 April 2024 23:00',\n",
       " 'A.C. Monza vs Atalanta B.C. - 22 April 2024 01:45',\n",
       " 'AS Roma vs Bologna FC - 22 April 2024 23:30',\n",
       " 'A.C. Milan vs Inter Milan - 23 April 2024 01:45',\n",
       " 'Athletic Bilbao vs Granada CF - 20 April 2024 02:00',\n",
       " 'Celta Vigo vs UD Las Palmas - 20 April 2024 19:00',\n",
       " 'Girona FC vs Cadiz CF - 21 April 2024 02:00',\n",
       " 'Getafe vs Real Sociedad de Fútbol - 21 April 2024 19:00',\n",
       " 'UD Almería vs Villarreal CF - 21 April 2024 21:15',\n",
       " 'Deportivo Alavés vs Atletico Madrid - 21 April 2024 23:30',\n",
       " 'Real Madrid CF vs Barcelona - 22 April 2024 02:00',\n",
       " 'Sevilla vs Mallorca - 23 April 2024 02:00',\n",
       " \"OGC Nice Côte d'Azur vs FC Lorient  - 20 April 2024 02:00\",\n",
       " 'Nantes vs Stade Rennais - 20 April 2024 22:00',\n",
       " 'Racing Club de Lens vs Clermont Foot 63 - 21 April 2024 02:00',\n",
       " 'Stade Brestois 29 vs AS Monaco - 21 April 2024 22:05',\n",
       " 'Toulouse FC vs Olympique de Marseille - 22 April 2024 00:00',\n",
       " 'Paris Saint-Germain vs Olympique Lyonnais - 22 April 2024 02:00',\n",
       " 'Chicago Bulls vs Miami Heat - 20 April 2024 06:00',\n",
       " 'Sacramento Kings vs New Orleans Pelicans - 20 April 2024 08:30',\n",
       " 'LA Lakers vs Denver Nuggets - 21 April 2024 07:30',\n",
       " 'Indiana Pacers vs Milwaukee Bucks - 22 April 2024 06:00',\n",
       " 'Philadelphia 76ers vs New York Knicks - 23 April 2024 06:30',\n",
       " 'Dallas Mavericks vs LA Clippers - 24 April 2024 09:00',\n",
       " 'LA Lakers vs Oklahoma City Thunder - 25 April 2024 08:30',\n",
       " 'Luton Town FC vs Brentford - 20 April 2024 21:00',\n",
       " 'Sheffield United FC vs Burnley FC - 20 April 2024 21:00',\n",
       " 'Wolverhampton Wanderers vs Arsenal - 21 April 2024 01:30',\n",
       " 'Everton vs Nottingham Forest - 21 April 2024 19:30',\n",
       " 'Aston Villa vs AFC Bournemouth - 21 April 2024 21:00',\n",
       " 'Crystal Palace vs West Ham United - 21 April 2024 21:00',\n",
       " 'Fulham vs Liverpool - 21 April 2024 22:30',\n",
       " 'Arsenal vs Chelsea - 24 April 2024 02:00',\n",
       " 'Wolverhampton Wanderers vs AFC Bournemouth - 25 April 2024 01:45',\n",
       " 'Crystal Palace vs Newcastle United - 25 April 2024 02:00',\n",
       " 'Everton vs Liverpool - 25 April 2024 02:00',\n",
       " 'Manchester United vs Sheffield United FC - 25 April 2024 02:00']"
      ]
     },
     "execution_count": 15,
     "metadata": {},
     "output_type": "execute_result"
    }
   ],
   "source": [
    "parsed_result"
   ]
  },
  {
   "cell_type": "code",
   "execution_count": 43,
   "metadata": {},
   "outputs": [],
   "source": [
    "from langchain_google_vertexai import VertexAI\n",
    "from langchain_core.output_parsers import StrOutputParser\n",
    "from langchain_core.prompts import ChatPromptTemplate, PromptTemplate\n",
    "from langchain_core.runnables import RunnableLambda\n",
    "import vertexai\n",
    "\n",
    "\n",
    "vertexai.init(project=\"vidio-quiz-prod\", location=\"asia-southeast1\")\n",
    "model = VertexAI(model_name=\"gemini-pro\", temperature=0.4)\n",
    "joined_result = \"\\n\".join(parsed_result)\n",
    "\n",
    "template_schedule_question = \"\"\"\"Given the following list of matches with their scheduled dates:\n",
    "\n",
    "{context}\n",
    "\n",
    "Considering today's date is {today}, and given the user's question: \"{user_question}\", please identify and list only the future matches that involve the team mentioned in the user's question. Answer you don't know if no match that you identify from user_question.\n",
    "\"\"\"\n",
    "\n",
    "prompt_schedule = ChatPromptTemplate.from_template(template_schedule_question)\n",
    "chain_schedule = prompt_schedule | model | StrOutputParser()"
   ]
  },
  {
   "cell_type": "code",
   "execution_count": 46,
   "metadata": {},
   "outputs": [
    {
     "data": {
      "text/plain": [
       "'05 April 2024 - Liverpool vs Sheffield United FC\\n07 April 2024 - Manchester United vs Liverpool'"
      ]
     },
     "execution_count": 46,
     "metadata": {},
     "output_type": "execute_result"
    }
   ],
   "source": [
    "today = '03 April 2024'\n",
    "chain_schedule.invoke({\"user_question\": \"kapan liverpool berlaga dan melawan siapa?\", \"context\": joined_result, \"today\": today})"
   ]
  },
  {
   "cell_type": "code",
   "execution_count": 35,
   "metadata": {},
   "outputs": [
    {
     "name": "stdout",
     "output_type": "stream",
     "text": [
      "File data/schedule.txt uploaded to data/schedule.txt.\n"
     ]
    }
   ],
   "source": [
    "from google.cloud import storage\n",
    "\n",
    "def upload_blob(bucket_name, source_file_name, destination_blob_name):\n",
    "  storage.blob._DEFAULT_CHUNKSIZE = 35 * 1024 * 1024  # 35 MB\n",
    "  storage.blob._MAX_MULTIPART_SIZE = 35 * 1024 * 1024  # 35 MB\n",
    "  \n",
    "  storage_client = storage.Client()\n",
    "  bucket = storage_client.bucket(bucket_name)\n",
    "  blob = bucket.blob(destination_blob_name)\n",
    "\n",
    "  blob.upload_from_filename(source_file_name)\n",
    "\n",
    "  print(\n",
    "      \"File {} uploaded to {}.\".format(\n",
    "          source_file_name, destination_blob_name\n",
    "      )\n",
    "  )\n",
    "\n",
    "with open('data/schedule.txt', 'w') as file:\n",
    "  # Writing the string to the file\n",
    "  file.write(joined_result)\n",
    "\n",
    "\n",
    "upload_blob(\"genai_hackathon_2024\", \"data/schedule.txt\", \"data/schedule.txt\")"
   ]
  },
  {
   "cell_type": "code",
   "execution_count": 64,
   "metadata": {},
   "outputs": [],
   "source": [
    "from base64 import b64encode\n",
    "import json\n",
    "import google.auth\n",
    "import google.auth.transport.requests\n",
    "creds, project = google.auth.default()\n",
    "\n",
    "# creds.valid is False, and creds.token is None\n",
    "# Need to refresh credentials to populate those\n",
    "\n",
    "auth_req = google.auth.transport.requests.Request()\n",
    "creds.refresh(auth_req)\n",
    "token = creds.token\n",
    "\n",
    "\n",
    "project_id = \"vidio-quiz-prod\"\n",
    "location = \"global\"\n",
    "data_store_id = \"vidio-info-v3_1711610635224\"\n"
   ]
  },
  {
   "cell_type": "code",
   "execution_count": 63,
   "metadata": {},
   "outputs": [],
   "source": [
    "def reindex_from_gcs(token, project_id, location, data_store_id, gcs_url):\n",
    "    headers={\n",
    "        \"Authorization\": f\"Bearer {token}\",\n",
    "        \"Content-Type\": \"application/json\"\n",
    "    }\n",
    "    data={\n",
    "      \"reconciliationMode\": \"INCREMENTAL\",\n",
    "      \"gcsSource\":{\n",
    "        \"inputUris\": [\n",
    "          gcs_url\n",
    "        ],\n",
    "        \"dataSchema\": \"content\"\n",
    "      }\n",
    "    }\n",
    "    response = requests.post(\n",
    "        f\"https://discoveryengine.googleapis.com/v1beta/projects/{project_id}/locations/{location}/collections/default_collection/dataStores/{data_store_id}/branches/0/documents:import\",\n",
    "        headers=headers,\n",
    "        json=data\n",
    "    )\n",
    "    return response"
   ]
  },
  {
   "cell_type": "code",
   "execution_count": 65,
   "metadata": {},
   "outputs": [
    {
     "data": {
      "text/plain": [
       "<Response [200]>"
      ]
     },
     "execution_count": 65,
     "metadata": {},
     "output_type": "execute_result"
    }
   ],
   "source": [
    "reindex_from_gcs(token, project_id, location, data_store_id, \"gs://genai_hackathon_2024/data/schedule.txt\")"
   ]
  },
  {
   "cell_type": "code",
   "execution_count": 61,
   "metadata": {},
   "outputs": [
    {
     "data": {
      "text/plain": [
       "'762b7cb3d9c418b5722d707a61aa3f72'"
      ]
     },
     "execution_count": 61,
     "metadata": {},
     "output_type": "execute_result"
    }
   ],
   "source": [
    "from hashlib import sha256\n",
    "\n",
    "\n",
    "sha256(\"gs://genai_hackathon_2024/data/vidio_info/2024-03-28b/43000713400.html\".encode('utf-8')).hexdigest()[:32]"
   ]
  },
  {
   "cell_type": "code",
   "execution_count": null,
   "metadata": {},
   "outputs": [],
   "source": []
  }
 ],
 "metadata": {
  "kernelspec": {
   "display_name": "genai_hackathon_2024",
   "language": "python",
   "name": "python3"
  },
  "language_info": {
   "codemirror_mode": {
    "name": "ipython",
    "version": 3
   },
   "file_extension": ".py",
   "mimetype": "text/x-python",
   "name": "python",
   "nbconvert_exporter": "python",
   "pygments_lexer": "ipython3",
   "version": "3.10.12"
  }
 },
 "nbformat": 4,
 "nbformat_minor": 2
}
