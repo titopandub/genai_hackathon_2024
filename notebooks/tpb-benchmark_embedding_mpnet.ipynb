{
 "cells": [
  {
   "cell_type": "code",
   "execution_count": 1,
   "metadata": {},
   "outputs": [
    {
     "name": "stderr",
     "output_type": "stream",
     "text": [
      "/tmp/ipykernel_1532480/1463778267.py:3: TqdmDeprecationWarning: This function will be removed in tqdm==5.0.0\n",
      "Please use `tqdm.notebook.*` instead of `tqdm._tqdm_notebook.*`\n",
      "  from tqdm._tqdm_notebook import tqdm_notebook\n"
     ]
    },
    {
     "data": {
      "application/vnd.jupyter.widget-view+json": {
       "model_id": "f966a818bbe54c6dba60acc8d267e5f3",
       "version_major": 2,
       "version_minor": 0
      },
      "text/plain": [
       "modules.json:   0%|          | 0.00/349 [00:00<?, ?B/s]"
      ]
     },
     "metadata": {},
     "output_type": "display_data"
    },
    {
     "data": {
      "application/vnd.jupyter.widget-view+json": {
       "model_id": "6a2d1eb79b2e45aea483194d4e9be8ed",
       "version_major": 2,
       "version_minor": 0
      },
      "text/plain": [
       "config_sentence_transformers.json:   0%|          | 0.00/116 [00:00<?, ?B/s]"
      ]
     },
     "metadata": {},
     "output_type": "display_data"
    },
    {
     "data": {
      "application/vnd.jupyter.widget-view+json": {
       "model_id": "9a4848d507b04586bbb290b76af6f339",
       "version_major": 2,
       "version_minor": 0
      },
      "text/plain": [
       "README.md:   0%|          | 0.00/10.6k [00:00<?, ?B/s]"
      ]
     },
     "metadata": {},
     "output_type": "display_data"
    },
    {
     "data": {
      "application/vnd.jupyter.widget-view+json": {
       "model_id": "e20ad999f4624b1ba07803f110c1a746",
       "version_major": 2,
       "version_minor": 0
      },
      "text/plain": [
       "sentence_bert_config.json:   0%|          | 0.00/53.0 [00:00<?, ?B/s]"
      ]
     },
     "metadata": {},
     "output_type": "display_data"
    },
    {
     "data": {
      "application/vnd.jupyter.widget-view+json": {
       "model_id": "52ab95b43dd74d69bdfd902df350717b",
       "version_major": 2,
       "version_minor": 0
      },
      "text/plain": [
       "config.json:   0%|          | 0.00/571 [00:00<?, ?B/s]"
      ]
     },
     "metadata": {},
     "output_type": "display_data"
    },
    {
     "data": {
      "application/vnd.jupyter.widget-view+json": {
       "model_id": "77ec39bf490b4a1a8a855decbfd16321",
       "version_major": 2,
       "version_minor": 0
      },
      "text/plain": [
       "pytorch_model.bin:   0%|          | 0.00/438M [00:00<?, ?B/s]"
      ]
     },
     "metadata": {},
     "output_type": "display_data"
    },
    {
     "data": {
      "application/vnd.jupyter.widget-view+json": {
       "model_id": "f2876e9c8e7e4ee6938718ec4a2806a6",
       "version_major": 2,
       "version_minor": 0
      },
      "text/plain": [
       "tokenizer_config.json:   0%|          | 0.00/363 [00:00<?, ?B/s]"
      ]
     },
     "metadata": {},
     "output_type": "display_data"
    },
    {
     "data": {
      "application/vnd.jupyter.widget-view+json": {
       "model_id": "a5b7ada722a14a13bf8f3c2142f88701",
       "version_major": 2,
       "version_minor": 0
      },
      "text/plain": [
       "vocab.txt:   0%|          | 0.00/232k [00:00<?, ?B/s]"
      ]
     },
     "metadata": {},
     "output_type": "display_data"
    },
    {
     "data": {
      "application/vnd.jupyter.widget-view+json": {
       "model_id": "084eb3d1caf944e5b7ac35aa5ac5cabb",
       "version_major": 2,
       "version_minor": 0
      },
      "text/plain": [
       "tokenizer.json:   0%|          | 0.00/466k [00:00<?, ?B/s]"
      ]
     },
     "metadata": {},
     "output_type": "display_data"
    },
    {
     "data": {
      "application/vnd.jupyter.widget-view+json": {
       "model_id": "e69d3fd5eb414d31ba79bfa898a3c2d1",
       "version_major": 2,
       "version_minor": 0
      },
      "text/plain": [
       "special_tokens_map.json:   0%|          | 0.00/239 [00:00<?, ?B/s]"
      ]
     },
     "metadata": {},
     "output_type": "display_data"
    },
    {
     "data": {
      "application/vnd.jupyter.widget-view+json": {
       "model_id": "93dad25df70e43f1b2dccf9e3f6e4a71",
       "version_major": 2,
       "version_minor": 0
      },
      "text/plain": [
       "1_Pooling/config.json:   0%|          | 0.00/190 [00:00<?, ?B/s]"
      ]
     },
     "metadata": {},
     "output_type": "display_data"
    }
   ],
   "source": [
    "import pandas as pd\n",
    "import numpy as np\n",
    "from tqdm._tqdm_notebook import tqdm_notebook\n",
    "from sentence_transformers import SentenceTransformer\n",
    "\n",
    "\n",
    "tqdm_notebook.pandas()\n",
    "\n",
    "model = SentenceTransformer(\"all-mpnet-base-v2\")\n",
    "\n",
    "def embedding_text(model, text):\n",
    "    vector = model.encode(text)\n",
    "    return vector"
   ]
  },
  {
   "cell_type": "code",
   "execution_count": 2,
   "metadata": {},
   "outputs": [
    {
     "name": "stderr",
     "output_type": "stream",
     "text": [
      "/home/tito/.venv/genai_hackathon_2024/lib/python3.10/site-packages/openpyxl/styles/stylesheet.py:226: UserWarning: Workbook contains no default style, apply openpyxl's default\n",
      "  warn(\"Workbook contains no default style, apply openpyxl's default\")\n"
     ]
    },
    {
     "data": {
      "text/html": [
       "<div>\n",
       "<style scoped>\n",
       "    .dataframe tbody tr th:only-of-type {\n",
       "        vertical-align: middle;\n",
       "    }\n",
       "\n",
       "    .dataframe tbody tr th {\n",
       "        vertical-align: top;\n",
       "    }\n",
       "\n",
       "    .dataframe thead th {\n",
       "        text-align: right;\n",
       "    }\n",
       "</style>\n",
       "<table border=\"1\" class=\"dataframe\">\n",
       "  <thead>\n",
       "    <tr style=\"text-align: right;\">\n",
       "      <th></th>\n",
       "      <th>query</th>\n",
       "      <th>query_type</th>\n",
       "      <th>content_id</th>\n",
       "      <th>total_click</th>\n",
       "      <th>position</th>\n",
       "      <th>score</th>\n",
       "    </tr>\n",
       "  </thead>\n",
       "  <tbody>\n",
       "    <tr>\n",
       "      <th>15704</th>\n",
       "      <td>yumis cells</td>\n",
       "      <td>search</td>\n",
       "      <td>9572</td>\n",
       "      <td>64</td>\n",
       "      <td>1</td>\n",
       "      <td>1</td>\n",
       "    </tr>\n",
       "    <tr>\n",
       "      <th>15705</th>\n",
       "      <td>zombie</td>\n",
       "      <td>search</td>\n",
       "      <td>1838</td>\n",
       "      <td>261</td>\n",
       "      <td>1</td>\n",
       "      <td>3</td>\n",
       "    </tr>\n",
       "    <tr>\n",
       "      <th>15706</th>\n",
       "      <td>zombie</td>\n",
       "      <td>search</td>\n",
       "      <td>8948</td>\n",
       "      <td>197</td>\n",
       "      <td>2</td>\n",
       "      <td>2</td>\n",
       "    </tr>\n",
       "    <tr>\n",
       "      <th>15707</th>\n",
       "      <td>zombie</td>\n",
       "      <td>search</td>\n",
       "      <td>2466</td>\n",
       "      <td>194</td>\n",
       "      <td>3</td>\n",
       "      <td>1</td>\n",
       "    </tr>\n",
       "    <tr>\n",
       "      <th>15708</th>\n",
       "      <td>zombie detective</td>\n",
       "      <td>search</td>\n",
       "      <td>1838</td>\n",
       "      <td>71</td>\n",
       "      <td>1</td>\n",
       "      <td>1</td>\n",
       "    </tr>\n",
       "  </tbody>\n",
       "</table>\n",
       "</div>"
      ],
      "text/plain": [
       "                  query query_type  content_id  total_click  position  score\n",
       "15704       yumis cells     search        9572           64         1      1\n",
       "15705            zombie     search        1838          261         1      3\n",
       "15706            zombie     search        8948          197         2      2\n",
       "15707            zombie     search        2466          194         3      1\n",
       "15708  zombie detective     search        1838           71         1      1"
      ]
     },
     "execution_count": 2,
     "metadata": {},
     "output_type": "execute_result"
    }
   ],
   "source": [
    "df = pd.read_excel('data/search_ground_truth.xlsx')\n",
    "df.tail()"
   ]
  },
  {
   "cell_type": "code",
   "execution_count": 3,
   "metadata": {},
   "outputs": [
    {
     "data": {
      "application/vnd.jupyter.widget-view+json": {
       "model_id": "0a9c95e439e64200af1d8dc0ad1e4ad0",
       "version_major": 2,
       "version_minor": 0
      },
      "text/plain": [
       "  0%|          | 0/5771 [00:00<?, ?it/s]"
      ]
     },
     "metadata": {},
     "output_type": "display_data"
    },
    {
     "data": {
      "text/html": [
       "<div>\n",
       "<style scoped>\n",
       "    .dataframe tbody tr th:only-of-type {\n",
       "        vertical-align: middle;\n",
       "    }\n",
       "\n",
       "    .dataframe tbody tr th {\n",
       "        vertical-align: top;\n",
       "    }\n",
       "\n",
       "    .dataframe thead th {\n",
       "        text-align: right;\n",
       "    }\n",
       "</style>\n",
       "<table border=\"1\" class=\"dataframe\">\n",
       "  <thead>\n",
       "    <tr style=\"text-align: right;\">\n",
       "      <th></th>\n",
       "      <th>id</th>\n",
       "      <th>description</th>\n",
       "      <th>release_date</th>\n",
       "      <th>total_watchers</th>\n",
       "      <th>age_rating</th>\n",
       "      <th>image_portrait</th>\n",
       "      <th>content_url</th>\n",
       "      <th>image_url</th>\n",
       "      <th>title</th>\n",
       "      <th>group_l1</th>\n",
       "      <th>group_l2</th>\n",
       "      <th>genres</th>\n",
       "      <th>actors</th>\n",
       "      <th>directors</th>\n",
       "      <th>country</th>\n",
       "      <th>release_year</th>\n",
       "      <th>popularity</th>\n",
       "      <th>search_text</th>\n",
       "      <th>embedding</th>\n",
       "    </tr>\n",
       "  </thead>\n",
       "  <tbody>\n",
       "    <tr>\n",
       "      <th>0</th>\n",
       "      <td>9372</td>\n",
       "      <td>Lasja mendapati suami dan ayahnya terlibat dal...</td>\n",
       "      <td>2024-01-27</td>\n",
       "      <td>393890</td>\n",
       "      <td>18 or more</td>\n",
       "      <td>ratu-adil-57125a.jpg</td>\n",
       "      <td>https://www.vidio.com/premier/9372</td>\n",
       "      <td>https://thumbor.prod.vidiocdn.com/xXSubtNx3jiO...</td>\n",
       "      <td>ratu adil</td>\n",
       "      <td>series</td>\n",
       "      <td>vidio original</td>\n",
       "      <td>action, crime, drama</td>\n",
       "      <td>abdurrahman arif, andri mashadi, budi ros, dia...</td>\n",
       "      <td>ginanti rona, tommy dewo</td>\n",
       "      <td>indonesia</td>\n",
       "      <td>2024</td>\n",
       "      <td>trending</td>\n",
       "      <td>title: ratu adil\\ndescription: Lasja mendapati...</td>\n",
       "      <td>[0.030466655, 0.018408641, 0.012963527, 0.0011...</td>\n",
       "    </tr>\n",
       "    <tr>\n",
       "      <th>1</th>\n",
       "      <td>9456</td>\n",
       "      <td>Kehidupan sempurna Amara hancur karena malam p...</td>\n",
       "      <td>2024-01-27</td>\n",
       "      <td>340919</td>\n",
       "      <td>18 or more</td>\n",
       "      <td>cinta-pertama-ayah-66e828.jpg</td>\n",
       "      <td>https://www.vidio.com/premier/9456</td>\n",
       "      <td>https://thumbor.prod.vidiocdn.com/ZONjpNuq_CcE...</td>\n",
       "      <td>cinta pertama ayah</td>\n",
       "      <td>series</td>\n",
       "      <td>vidio original</td>\n",
       "      <td>crime, drama, family, mystery</td>\n",
       "      <td>aisha nurra datau, al ghazali, dwi sasono, ers...</td>\n",
       "      <td>hadrah daeng ratu</td>\n",
       "      <td>indonesia</td>\n",
       "      <td>2024</td>\n",
       "      <td>trending</td>\n",
       "      <td>title: cinta pertama ayah\\ndescription: Kehidu...</td>\n",
       "      <td>[0.048275698, 0.0023676585, 0.005258224, -0.01...</td>\n",
       "    </tr>\n",
       "    <tr>\n",
       "      <th>2</th>\n",
       "      <td>7617</td>\n",
       "      <td>Menceritakan kisah seorang gadis bernama Sakin...</td>\n",
       "      <td>2023-03-13</td>\n",
       "      <td>305402</td>\n",
       "      <td>13 or more</td>\n",
       "      <td>bidadari-surgamu-2bbb68.jpg</td>\n",
       "      <td>https://www.vidio.com/premier/7617</td>\n",
       "      <td>https://thumbor.prod.vidiocdn.com/JxL1jUZmTFdc...</td>\n",
       "      <td>bidadari surgamu</td>\n",
       "      <td>series</td>\n",
       "      <td>tv sinetron</td>\n",
       "      <td>drama, family, religi, romance</td>\n",
       "      <td>josephine firmstone, michelle joan, rizky naza...</td>\n",
       "      <td>anurag vaishnav</td>\n",
       "      <td>indonesia</td>\n",
       "      <td>2023</td>\n",
       "      <td>trending</td>\n",
       "      <td>title: bidadari surgamu\\ndescription: Mencerit...</td>\n",
       "      <td>[0.04674258, 0.010911187, -0.0026938717, -0.01...</td>\n",
       "    </tr>\n",
       "    <tr>\n",
       "      <th>3</th>\n",
       "      <td>7576</td>\n",
       "      <td>Naura (Basmalah), Rahsya (Raden Rakha), Adara ...</td>\n",
       "      <td>2023-02-23</td>\n",
       "      <td>263464</td>\n",
       "      <td>13 or more</td>\n",
       "      <td>magic-5-def33f.jpg</td>\n",
       "      <td>https://www.vidio.com/premier/7576</td>\n",
       "      <td>https://thumbor.prod.vidiocdn.com/kha0tcadN-wD...</td>\n",
       "      <td>magic 5</td>\n",
       "      <td>series</td>\n",
       "      <td>tv sinetron</td>\n",
       "      <td>drama, fantasy, friendship</td>\n",
       "      <td>afan da5, basmalah, eby da 5, raden rakha, sri...</td>\n",
       "      <td>a. septian, bobby moeryawan, sondang pratama, ...</td>\n",
       "      <td>indonesia</td>\n",
       "      <td>2023</td>\n",
       "      <td>trending</td>\n",
       "      <td>title: magic 5\\ndescription: Naura (Basmalah),...</td>\n",
       "      <td>[0.075597435, -0.020434327, -0.0043219486, 0.0...</td>\n",
       "    </tr>\n",
       "    <tr>\n",
       "      <th>4</th>\n",
       "      <td>9535</td>\n",
       "      <td>Alya dan Alyssa adalah anak kembar yang terpis...</td>\n",
       "      <td>2024-01-22</td>\n",
       "      <td>213724</td>\n",
       "      <td>13 or more</td>\n",
       "      <td>tertawan-hati-592778.jpg</td>\n",
       "      <td>https://www.vidio.com/premier/9535</td>\n",
       "      <td>https://thumbor.prod.vidiocdn.com/sXZL0cyvwRdI...</td>\n",
       "      <td>tertawan hati</td>\n",
       "      <td>series</td>\n",
       "      <td>tv sinetron</td>\n",
       "      <td>drama, romance</td>\n",
       "      <td>afifah ifah'nda, jonas rivanno, naysilla mirda...</td>\n",
       "      <td>sanjeev ram kishan</td>\n",
       "      <td>indonesia</td>\n",
       "      <td>2024</td>\n",
       "      <td>trending</td>\n",
       "      <td>title: tertawan hati\\ndescription: Alya dan Al...</td>\n",
       "      <td>[0.056908004, -0.03546402, -0.01631646, -0.015...</td>\n",
       "    </tr>\n",
       "  </tbody>\n",
       "</table>\n",
       "</div>"
      ],
      "text/plain": [
       "     id                                        description release_date  \\\n",
       "0  9372  Lasja mendapati suami dan ayahnya terlibat dal...   2024-01-27   \n",
       "1  9456  Kehidupan sempurna Amara hancur karena malam p...   2024-01-27   \n",
       "2  7617  Menceritakan kisah seorang gadis bernama Sakin...   2023-03-13   \n",
       "3  7576  Naura (Basmalah), Rahsya (Raden Rakha), Adara ...   2023-02-23   \n",
       "4  9535  Alya dan Alyssa adalah anak kembar yang terpis...   2024-01-22   \n",
       "\n",
       "   total_watchers  age_rating                 image_portrait  \\\n",
       "0          393890  18 or more           ratu-adil-57125a.jpg   \n",
       "1          340919  18 or more  cinta-pertama-ayah-66e828.jpg   \n",
       "2          305402  13 or more    bidadari-surgamu-2bbb68.jpg   \n",
       "3          263464  13 or more             magic-5-def33f.jpg   \n",
       "4          213724  13 or more       tertawan-hati-592778.jpg   \n",
       "\n",
       "                          content_url  \\\n",
       "0  https://www.vidio.com/premier/9372   \n",
       "1  https://www.vidio.com/premier/9456   \n",
       "2  https://www.vidio.com/premier/7617   \n",
       "3  https://www.vidio.com/premier/7576   \n",
       "4  https://www.vidio.com/premier/9535   \n",
       "\n",
       "                                           image_url               title  \\\n",
       "0  https://thumbor.prod.vidiocdn.com/xXSubtNx3jiO...           ratu adil   \n",
       "1  https://thumbor.prod.vidiocdn.com/ZONjpNuq_CcE...  cinta pertama ayah   \n",
       "2  https://thumbor.prod.vidiocdn.com/JxL1jUZmTFdc...    bidadari surgamu   \n",
       "3  https://thumbor.prod.vidiocdn.com/kha0tcadN-wD...             magic 5   \n",
       "4  https://thumbor.prod.vidiocdn.com/sXZL0cyvwRdI...       tertawan hati   \n",
       "\n",
       "  group_l1        group_l2                          genres  \\\n",
       "0   series  vidio original            action, crime, drama   \n",
       "1   series  vidio original   crime, drama, family, mystery   \n",
       "2   series     tv sinetron  drama, family, religi, romance   \n",
       "3   series     tv sinetron      drama, fantasy, friendship   \n",
       "4   series     tv sinetron                  drama, romance   \n",
       "\n",
       "                                              actors  \\\n",
       "0  abdurrahman arif, andri mashadi, budi ros, dia...   \n",
       "1  aisha nurra datau, al ghazali, dwi sasono, ers...   \n",
       "2  josephine firmstone, michelle joan, rizky naza...   \n",
       "3  afan da5, basmalah, eby da 5, raden rakha, sri...   \n",
       "4  afifah ifah'nda, jonas rivanno, naysilla mirda...   \n",
       "\n",
       "                                           directors    country release_year  \\\n",
       "0                           ginanti rona, tommy dewo  indonesia         2024   \n",
       "1                                  hadrah daeng ratu  indonesia         2024   \n",
       "2                                    anurag vaishnav  indonesia         2023   \n",
       "3  a. septian, bobby moeryawan, sondang pratama, ...  indonesia         2023   \n",
       "4                                 sanjeev ram kishan  indonesia         2024   \n",
       "\n",
       "  popularity                                        search_text  \\\n",
       "0   trending  title: ratu adil\\ndescription: Lasja mendapati...   \n",
       "1   trending  title: cinta pertama ayah\\ndescription: Kehidu...   \n",
       "2   trending  title: bidadari surgamu\\ndescription: Mencerit...   \n",
       "3   trending  title: magic 5\\ndescription: Naura (Basmalah),...   \n",
       "4   trending  title: tertawan hati\\ndescription: Alya dan Al...   \n",
       "\n",
       "                                           embedding  \n",
       "0  [0.030466655, 0.018408641, 0.012963527, 0.0011...  \n",
       "1  [0.048275698, 0.0023676585, 0.005258224, -0.01...  \n",
       "2  [0.04674258, 0.010911187, -0.0026938717, -0.01...  \n",
       "3  [0.075597435, -0.020434327, -0.0043219486, 0.0...  \n",
       "4  [0.056908004, -0.03546402, -0.01631646, -0.015...  "
      ]
     },
     "execution_count": 3,
     "metadata": {},
     "output_type": "execute_result"
    }
   ],
   "source": [
    "film_df = pd.read_json('data/film_metadata.json', lines=True)\n",
    "film_df['id'] = film_df['id'].astype(str)\n",
    "film_df['embedding'] = film_df.progress_apply(lambda x: embedding_text(model, x['search_text']), axis=1)\n",
    "film_df.head()"
   ]
  },
  {
   "cell_type": "code",
   "execution_count": 4,
   "metadata": {},
   "outputs": [],
   "source": [
    "joined_df = df.merge(film_df[['id', 'search_text', 'embedding']], left_on='query', right_on='id', how='left')\n",
    "joined_df.drop(columns=['id'], inplace=True)\n",
    "joined_df['search_text'] = np.where(joined_df['query_type'] == 'search', joined_df['query'], joined_df['search_text'])"
   ]
  },
  {
   "cell_type": "code",
   "execution_count": 5,
   "metadata": {},
   "outputs": [],
   "source": [
    "trial_df = joined_df[joined_df['query_type'] != 'film_id'].head()"
   ]
  },
  {
   "cell_type": "code",
   "execution_count": 6,
   "metadata": {},
   "outputs": [
    {
     "data": {
      "application/vnd.jupyter.widget-view+json": {
       "model_id": "4eecf5c870ba4e579ff88b96b8fef6c5",
       "version_major": 2,
       "version_minor": 0
      },
      "text/plain": [
       "  0%|          | 0/5 [00:00<?, ?it/s]"
      ]
     },
     "metadata": {},
     "output_type": "display_data"
    },
    {
     "data": {
      "text/html": [
       "<div>\n",
       "<style scoped>\n",
       "    .dataframe tbody tr th:only-of-type {\n",
       "        vertical-align: middle;\n",
       "    }\n",
       "\n",
       "    .dataframe tbody tr th {\n",
       "        vertical-align: top;\n",
       "    }\n",
       "\n",
       "    .dataframe thead th {\n",
       "        text-align: right;\n",
       "    }\n",
       "</style>\n",
       "<table border=\"1\" class=\"dataframe\">\n",
       "  <thead>\n",
       "    <tr style=\"text-align: right;\">\n",
       "      <th></th>\n",
       "      <th>query</th>\n",
       "      <th>query_type</th>\n",
       "      <th>content_id</th>\n",
       "      <th>total_click</th>\n",
       "      <th>position</th>\n",
       "      <th>score</th>\n",
       "      <th>search_text</th>\n",
       "      <th>embedding</th>\n",
       "    </tr>\n",
       "  </thead>\n",
       "  <tbody>\n",
       "    <tr>\n",
       "      <th>930</th>\n",
       "      <td>172 days</td>\n",
       "      <td>search</td>\n",
       "      <td>7337</td>\n",
       "      <td>119</td>\n",
       "      <td>1</td>\n",
       "      <td>1</td>\n",
       "      <td>172 days</td>\n",
       "      <td>[-0.008678603, 0.059717912, -0.000861733, -0.0...</td>\n",
       "    </tr>\n",
       "    <tr>\n",
       "      <th>1087</th>\n",
       "      <td>18 again</td>\n",
       "      <td>search</td>\n",
       "      <td>1855</td>\n",
       "      <td>355</td>\n",
       "      <td>1</td>\n",
       "      <td>1</td>\n",
       "      <td>18 again</td>\n",
       "      <td>[-0.017940085, -0.01798149, -0.004869246, -0.0...</td>\n",
       "    </tr>\n",
       "    <tr>\n",
       "      <th>1416</th>\n",
       "      <td>1988</td>\n",
       "      <td>search</td>\n",
       "      <td>69</td>\n",
       "      <td>94</td>\n",
       "      <td>1</td>\n",
       "      <td>1</td>\n",
       "      <td>1988</td>\n",
       "      <td>[-0.009640407, 0.075423844, 0.008055227, -0.02...</td>\n",
       "    </tr>\n",
       "    <tr>\n",
       "      <th>1423</th>\n",
       "      <td>2012</td>\n",
       "      <td>search</td>\n",
       "      <td>7752</td>\n",
       "      <td>210</td>\n",
       "      <td>1</td>\n",
       "      <td>1</td>\n",
       "      <td>2012</td>\n",
       "      <td>[0.025621701, 0.10380048, -0.03159704, -0.0195...</td>\n",
       "    </tr>\n",
       "    <tr>\n",
       "      <th>2974</th>\n",
       "      <td>3 semprul</td>\n",
       "      <td>search</td>\n",
       "      <td>710</td>\n",
       "      <td>158</td>\n",
       "      <td>1</td>\n",
       "      <td>1</td>\n",
       "      <td>3 semprul</td>\n",
       "      <td>[0.017573256, -0.06630359, 0.0037033963, -0.01...</td>\n",
       "    </tr>\n",
       "  </tbody>\n",
       "</table>\n",
       "</div>"
      ],
      "text/plain": [
       "          query query_type  content_id  total_click  position  score  \\\n",
       "930    172 days     search        7337          119         1      1   \n",
       "1087   18 again     search        1855          355         1      1   \n",
       "1416       1988     search          69           94         1      1   \n",
       "1423       2012     search        7752          210         1      1   \n",
       "2974  3 semprul     search         710          158         1      1   \n",
       "\n",
       "     search_text                                          embedding  \n",
       "930     172 days  [-0.008678603, 0.059717912, -0.000861733, -0.0...  \n",
       "1087    18 again  [-0.017940085, -0.01798149, -0.004869246, -0.0...  \n",
       "1416        1988  [-0.009640407, 0.075423844, 0.008055227, -0.02...  \n",
       "1423        2012  [0.025621701, 0.10380048, -0.03159704, -0.0195...  \n",
       "2974   3 semprul  [0.017573256, -0.06630359, 0.0037033963, -0.01...  "
      ]
     },
     "execution_count": 6,
     "metadata": {},
     "output_type": "execute_result"
    }
   ],
   "source": [
    "trial_df['embedding'] = trial_df.progress_apply(lambda x: embedding_text(model, x['search_text']), axis=1)\n",
    "trial_df"
   ]
  },
  {
   "cell_type": "code",
   "execution_count": 7,
   "metadata": {},
   "outputs": [
    {
     "data": {
      "application/vnd.jupyter.widget-view+json": {
       "model_id": "2cf7b09e683543348409de5947d42aba",
       "version_major": 2,
       "version_minor": 0
      },
      "text/plain": [
       "  0%|          | 0/15709 [00:00<?, ?it/s]"
      ]
     },
     "metadata": {},
     "output_type": "display_data"
    }
   ],
   "source": [
    "# slow operation\n",
    "joined_df['embedding'] = joined_df.progress_apply(lambda x: embedding_text(model, x['search_text']) if x['query_type'] == 'search' else x['embedding'], axis=1)"
   ]
  },
  {
   "cell_type": "code",
   "execution_count": 8,
   "metadata": {},
   "outputs": [],
   "source": [
    "joined_df = joined_df.dropna(subset=['search_text', 'embedding'])"
   ]
  },
  {
   "cell_type": "code",
   "execution_count": 9,
   "metadata": {},
   "outputs": [],
   "source": [
    "from annoy import AnnoyIndex\n",
    "annoy_index = AnnoyIndex(768, 'dot')\n",
    "for index, row in film_df.iterrows():\n",
    "    annoy_index.add_item(int(row['id']), row['embedding'])\n",
    "annoy_index.build(30)\n",
    "\n",
    "def retrieve_by_embedding(embedding):\n",
    "    if len(embedding) > 0:\n",
    "        return annoy_index.get_nns_by_vector(embedding, 20, search_k=-1)\n",
    "    else:\n",
    "        return []"
   ]
  },
  {
   "cell_type": "code",
   "execution_count": 10,
   "metadata": {},
   "outputs": [
    {
     "data": {
      "application/vnd.jupyter.widget-view+json": {
       "model_id": "3dac2b8494fc4cd0ad2e82746ed625ac",
       "version_major": 2,
       "version_minor": 0
      },
      "text/plain": [
       "  0%|          | 0/5 [00:00<?, ?it/s]"
      ]
     },
     "metadata": {},
     "output_type": "display_data"
    },
    {
     "data": {
      "text/html": [
       "<div>\n",
       "<style scoped>\n",
       "    .dataframe tbody tr th:only-of-type {\n",
       "        vertical-align: middle;\n",
       "    }\n",
       "\n",
       "    .dataframe tbody tr th {\n",
       "        vertical-align: top;\n",
       "    }\n",
       "\n",
       "    .dataframe thead th {\n",
       "        text-align: right;\n",
       "    }\n",
       "</style>\n",
       "<table border=\"1\" class=\"dataframe\">\n",
       "  <thead>\n",
       "    <tr style=\"text-align: right;\">\n",
       "      <th></th>\n",
       "      <th>query</th>\n",
       "      <th>query_type</th>\n",
       "      <th>content_id</th>\n",
       "      <th>total_click</th>\n",
       "      <th>position</th>\n",
       "      <th>score</th>\n",
       "      <th>search_text</th>\n",
       "      <th>embedding</th>\n",
       "      <th>search_result</th>\n",
       "    </tr>\n",
       "  </thead>\n",
       "  <tbody>\n",
       "    <tr>\n",
       "      <th>930</th>\n",
       "      <td>172 days</td>\n",
       "      <td>search</td>\n",
       "      <td>7337</td>\n",
       "      <td>119</td>\n",
       "      <td>1</td>\n",
       "      <td>1</td>\n",
       "      <td>172 days</td>\n",
       "      <td>[-0.008678603, 0.059717912, -0.000861733, -0.0...</td>\n",
       "      <td>[4771, 8415, 6038, 7960, 7982, 8764, 4877, 576...</td>\n",
       "    </tr>\n",
       "    <tr>\n",
       "      <th>1087</th>\n",
       "      <td>18 again</td>\n",
       "      <td>search</td>\n",
       "      <td>1855</td>\n",
       "      <td>355</td>\n",
       "      <td>1</td>\n",
       "      <td>1</td>\n",
       "      <td>18 again</td>\n",
       "      <td>[-0.017940085, -0.01798149, -0.004869246, -0.0...</td>\n",
       "      <td>[8892, 8154, 7228, 9158, 7343, 4490, 5622, 576...</td>\n",
       "    </tr>\n",
       "    <tr>\n",
       "      <th>1416</th>\n",
       "      <td>1988</td>\n",
       "      <td>search</td>\n",
       "      <td>69</td>\n",
       "      <td>94</td>\n",
       "      <td>1</td>\n",
       "      <td>1</td>\n",
       "      <td>1988</td>\n",
       "      <td>[-0.009640407, 0.075423844, 0.008055227, -0.02...</td>\n",
       "      <td>[2803, 1272, 8406, 4840, 2976, 9558, 2507, 896...</td>\n",
       "    </tr>\n",
       "    <tr>\n",
       "      <th>1423</th>\n",
       "      <td>2012</td>\n",
       "      <td>search</td>\n",
       "      <td>7752</td>\n",
       "      <td>210</td>\n",
       "      <td>1</td>\n",
       "      <td>1</td>\n",
       "      <td>2012</td>\n",
       "      <td>[0.025621701, 0.10380048, -0.03159704, -0.0195...</td>\n",
       "      <td>[8406, 6281, 7992, 9483, 9159, 9079, 1622, 945...</td>\n",
       "    </tr>\n",
       "    <tr>\n",
       "      <th>2974</th>\n",
       "      <td>3 semprul</td>\n",
       "      <td>search</td>\n",
       "      <td>710</td>\n",
       "      <td>158</td>\n",
       "      <td>1</td>\n",
       "      <td>1</td>\n",
       "      <td>3 semprul</td>\n",
       "      <td>[0.017573256, -0.06630359, 0.0037033963, -0.01...</td>\n",
       "      <td>[5195, 6526, 6971, 7681, 4850, 6719, 6442, 422...</td>\n",
       "    </tr>\n",
       "  </tbody>\n",
       "</table>\n",
       "</div>"
      ],
      "text/plain": [
       "          query query_type  content_id  total_click  position  score  \\\n",
       "930    172 days     search        7337          119         1      1   \n",
       "1087   18 again     search        1855          355         1      1   \n",
       "1416       1988     search          69           94         1      1   \n",
       "1423       2012     search        7752          210         1      1   \n",
       "2974  3 semprul     search         710          158         1      1   \n",
       "\n",
       "     search_text                                          embedding  \\\n",
       "930     172 days  [-0.008678603, 0.059717912, -0.000861733, -0.0...   \n",
       "1087    18 again  [-0.017940085, -0.01798149, -0.004869246, -0.0...   \n",
       "1416        1988  [-0.009640407, 0.075423844, 0.008055227, -0.02...   \n",
       "1423        2012  [0.025621701, 0.10380048, -0.03159704, -0.0195...   \n",
       "2974   3 semprul  [0.017573256, -0.06630359, 0.0037033963, -0.01...   \n",
       "\n",
       "                                          search_result  \n",
       "930   [4771, 8415, 6038, 7960, 7982, 8764, 4877, 576...  \n",
       "1087  [8892, 8154, 7228, 9158, 7343, 4490, 5622, 576...  \n",
       "1416  [2803, 1272, 8406, 4840, 2976, 9558, 2507, 896...  \n",
       "1423  [8406, 6281, 7992, 9483, 9159, 9079, 1622, 945...  \n",
       "2974  [5195, 6526, 6971, 7681, 4850, 6719, 6442, 422...  "
      ]
     },
     "execution_count": 10,
     "metadata": {},
     "output_type": "execute_result"
    }
   ],
   "source": [
    "trial_df['search_result'] = trial_df.progress_apply(lambda x: retrieve_by_embedding(x['embedding']), axis=1)\n",
    "trial_df"
   ]
  },
  {
   "cell_type": "code",
   "execution_count": 11,
   "metadata": {},
   "outputs": [
    {
     "data": {
      "application/vnd.jupyter.widget-view+json": {
       "model_id": "173cdd56bc2440f5a4eafbe0b2432c68",
       "version_major": 2,
       "version_minor": 0
      },
      "text/plain": [
       "  0%|          | 0/15623 [00:00<?, ?it/s]"
      ]
     },
     "metadata": {},
     "output_type": "display_data"
    }
   ],
   "source": [
    "joined_df['search_result'] = joined_df.progress_apply(lambda x: retrieve_by_embedding(x['embedding']), axis=1)"
   ]
  },
  {
   "cell_type": "code",
   "execution_count": 12,
   "metadata": {},
   "outputs": [
    {
     "data": {
      "text/html": [
       "<div>\n",
       "<style scoped>\n",
       "    .dataframe tbody tr th:only-of-type {\n",
       "        vertical-align: middle;\n",
       "    }\n",
       "\n",
       "    .dataframe tbody tr th {\n",
       "        vertical-align: top;\n",
       "    }\n",
       "\n",
       "    .dataframe thead th {\n",
       "        text-align: right;\n",
       "    }\n",
       "</style>\n",
       "<table border=\"1\" class=\"dataframe\">\n",
       "  <thead>\n",
       "    <tr style=\"text-align: right;\">\n",
       "      <th></th>\n",
       "      <th>query</th>\n",
       "      <th>query_type</th>\n",
       "      <th>content_id</th>\n",
       "      <th>total_click</th>\n",
       "      <th>position</th>\n",
       "      <th>score</th>\n",
       "      <th>search_text</th>\n",
       "      <th>embedding</th>\n",
       "      <th>search_result</th>\n",
       "    </tr>\n",
       "  </thead>\n",
       "  <tbody>\n",
       "    <tr>\n",
       "      <th>0</th>\n",
       "      <td>1003</td>\n",
       "      <td>film_id</td>\n",
       "      <td>1027</td>\n",
       "      <td>93</td>\n",
       "      <td>1</td>\n",
       "      <td>3</td>\n",
       "      <td>title: hot young bloods\\ndescription: Berlatar...</td>\n",
       "      <td>[0.048336655, -0.064458214, 0.024815379, 0.001...</td>\n",
       "      <td>[1003, 5654, 5179, 9364, 8471, 8290, 997, 8892...</td>\n",
       "    </tr>\n",
       "    <tr>\n",
       "      <th>1</th>\n",
       "      <td>1003</td>\n",
       "      <td>film_id</td>\n",
       "      <td>1559</td>\n",
       "      <td>54</td>\n",
       "      <td>2</td>\n",
       "      <td>2</td>\n",
       "      <td>title: hot young bloods\\ndescription: Berlatar...</td>\n",
       "      <td>[0.048336655, -0.064458214, 0.024815379, 0.001...</td>\n",
       "      <td>[1003, 5654, 5179, 9364, 8471, 8290, 997, 8892...</td>\n",
       "    </tr>\n",
       "    <tr>\n",
       "      <th>2</th>\n",
       "      <td>1003</td>\n",
       "      <td>film_id</td>\n",
       "      <td>831</td>\n",
       "      <td>46</td>\n",
       "      <td>3</td>\n",
       "      <td>1</td>\n",
       "      <td>title: hot young bloods\\ndescription: Berlatar...</td>\n",
       "      <td>[0.048336655, -0.064458214, 0.024815379, 0.001...</td>\n",
       "      <td>[1003, 5654, 5179, 9364, 8471, 8290, 997, 8892...</td>\n",
       "    </tr>\n",
       "    <tr>\n",
       "      <th>3</th>\n",
       "      <td>1011</td>\n",
       "      <td>film_id</td>\n",
       "      <td>999</td>\n",
       "      <td>5</td>\n",
       "      <td>1</td>\n",
       "      <td>3</td>\n",
       "      <td>title: the fatal encounter\\ndescription: Usaha...</td>\n",
       "      <td>[0.100653335, -0.009118664, 0.010335099, -0.00...</td>\n",
       "      <td>[1011, 4675, 997, 7757, 6635, 993, 9130, 8263,...</td>\n",
       "    </tr>\n",
       "    <tr>\n",
       "      <th>4</th>\n",
       "      <td>1011</td>\n",
       "      <td>film_id</td>\n",
       "      <td>2329</td>\n",
       "      <td>3</td>\n",
       "      <td>2</td>\n",
       "      <td>2</td>\n",
       "      <td>title: the fatal encounter\\ndescription: Usaha...</td>\n",
       "      <td>[0.100653335, -0.009118664, 0.010335099, -0.00...</td>\n",
       "      <td>[1011, 4675, 997, 7757, 6635, 993, 9130, 8263,...</td>\n",
       "    </tr>\n",
       "  </tbody>\n",
       "</table>\n",
       "</div>"
      ],
      "text/plain": [
       "  query query_type  content_id  total_click  position  score  \\\n",
       "0  1003    film_id        1027           93         1      3   \n",
       "1  1003    film_id        1559           54         2      2   \n",
       "2  1003    film_id         831           46         3      1   \n",
       "3  1011    film_id         999            5         1      3   \n",
       "4  1011    film_id        2329            3         2      2   \n",
       "\n",
       "                                         search_text  \\\n",
       "0  title: hot young bloods\\ndescription: Berlatar...   \n",
       "1  title: hot young bloods\\ndescription: Berlatar...   \n",
       "2  title: hot young bloods\\ndescription: Berlatar...   \n",
       "3  title: the fatal encounter\\ndescription: Usaha...   \n",
       "4  title: the fatal encounter\\ndescription: Usaha...   \n",
       "\n",
       "                                           embedding  \\\n",
       "0  [0.048336655, -0.064458214, 0.024815379, 0.001...   \n",
       "1  [0.048336655, -0.064458214, 0.024815379, 0.001...   \n",
       "2  [0.048336655, -0.064458214, 0.024815379, 0.001...   \n",
       "3  [0.100653335, -0.009118664, 0.010335099, -0.00...   \n",
       "4  [0.100653335, -0.009118664, 0.010335099, -0.00...   \n",
       "\n",
       "                                       search_result  \n",
       "0  [1003, 5654, 5179, 9364, 8471, 8290, 997, 8892...  \n",
       "1  [1003, 5654, 5179, 9364, 8471, 8290, 997, 8892...  \n",
       "2  [1003, 5654, 5179, 9364, 8471, 8290, 997, 8892...  \n",
       "3  [1011, 4675, 997, 7757, 6635, 993, 9130, 8263,...  \n",
       "4  [1011, 4675, 997, 7757, 6635, 993, 9130, 8263,...  "
      ]
     },
     "execution_count": 12,
     "metadata": {},
     "output_type": "execute_result"
    }
   ],
   "source": [
    "joined_df.head()"
   ]
  },
  {
   "cell_type": "code",
   "execution_count": 13,
   "metadata": {},
   "outputs": [],
   "source": [
    "def is_true_positive(row):\n",
    "    return 1 if row['content_id'] in row['search_result'] else 0"
   ]
  },
  {
   "cell_type": "code",
   "execution_count": 14,
   "metadata": {},
   "outputs": [
    {
     "data": {
      "application/vnd.jupyter.widget-view+json": {
       "model_id": "8e31b35d3395439d9f539afacd66b7c3",
       "version_major": 2,
       "version_minor": 0
      },
      "text/plain": [
       "  0%|          | 0/15623 [00:00<?, ?it/s]"
      ]
     },
     "metadata": {},
     "output_type": "display_data"
    }
   ],
   "source": [
    "joined_df['is_tp'] = joined_df.progress_apply(is_true_positive, axis=1)"
   ]
  },
  {
   "cell_type": "code",
   "execution_count": 15,
   "metadata": {},
   "outputs": [
    {
     "data": {
      "text/html": [
       "<div>\n",
       "<style scoped>\n",
       "    .dataframe tbody tr th:only-of-type {\n",
       "        vertical-align: middle;\n",
       "    }\n",
       "\n",
       "    .dataframe tbody tr th {\n",
       "        vertical-align: top;\n",
       "    }\n",
       "\n",
       "    .dataframe thead th {\n",
       "        text-align: right;\n",
       "    }\n",
       "</style>\n",
       "<table border=\"1\" class=\"dataframe\">\n",
       "  <thead>\n",
       "    <tr style=\"text-align: right;\">\n",
       "      <th></th>\n",
       "      <th>is_tp</th>\n",
       "    </tr>\n",
       "  </thead>\n",
       "  <tbody>\n",
       "    <tr>\n",
       "      <th>count</th>\n",
       "      <td>15623.000000</td>\n",
       "    </tr>\n",
       "    <tr>\n",
       "      <th>mean</th>\n",
       "      <td>0.161621</td>\n",
       "    </tr>\n",
       "    <tr>\n",
       "      <th>std</th>\n",
       "      <td>0.368114</td>\n",
       "    </tr>\n",
       "    <tr>\n",
       "      <th>min</th>\n",
       "      <td>0.000000</td>\n",
       "    </tr>\n",
       "    <tr>\n",
       "      <th>25%</th>\n",
       "      <td>0.000000</td>\n",
       "    </tr>\n",
       "    <tr>\n",
       "      <th>50%</th>\n",
       "      <td>0.000000</td>\n",
       "    </tr>\n",
       "    <tr>\n",
       "      <th>75%</th>\n",
       "      <td>0.000000</td>\n",
       "    </tr>\n",
       "    <tr>\n",
       "      <th>max</th>\n",
       "      <td>1.000000</td>\n",
       "    </tr>\n",
       "  </tbody>\n",
       "</table>\n",
       "</div>"
      ],
      "text/plain": [
       "              is_tp\n",
       "count  15623.000000\n",
       "mean       0.161621\n",
       "std        0.368114\n",
       "min        0.000000\n",
       "25%        0.000000\n",
       "50%        0.000000\n",
       "75%        0.000000\n",
       "max        1.000000"
      ]
     },
     "execution_count": 15,
     "metadata": {},
     "output_type": "execute_result"
    }
   ],
   "source": [
    "joined_df[['is_tp']].describe()"
   ]
  },
  {
   "cell_type": "code",
   "execution_count": 19,
   "metadata": {},
   "outputs": [
    {
     "data": {
      "text/html": [
       "<div>\n",
       "<style scoped>\n",
       "    .dataframe tbody tr th:only-of-type {\n",
       "        vertical-align: middle;\n",
       "    }\n",
       "\n",
       "    .dataframe tbody tr th {\n",
       "        vertical-align: top;\n",
       "    }\n",
       "\n",
       "    .dataframe thead th {\n",
       "        text-align: right;\n",
       "    }\n",
       "</style>\n",
       "<table border=\"1\" class=\"dataframe\">\n",
       "  <thead>\n",
       "    <tr style=\"text-align: right;\">\n",
       "      <th></th>\n",
       "      <th>query</th>\n",
       "      <th>query_type</th>\n",
       "      <th>content_id</th>\n",
       "      <th>total_click</th>\n",
       "      <th>position</th>\n",
       "      <th>score</th>\n",
       "      <th>search_text</th>\n",
       "      <th>embedding</th>\n",
       "      <th>search_result</th>\n",
       "      <th>is_tp</th>\n",
       "    </tr>\n",
       "  </thead>\n",
       "  <tbody>\n",
       "    <tr>\n",
       "      <th>15450</th>\n",
       "      <td>ratu adil</td>\n",
       "      <td>search</td>\n",
       "      <td>9372</td>\n",
       "      <td>2683</td>\n",
       "      <td>1</td>\n",
       "      <td>3</td>\n",
       "      <td>ratu adil</td>\n",
       "      <td>[0.0027797557, 0.015359388, 0.0041601295, -0.0...</td>\n",
       "      <td>[9372, 6527, 6598, 4945, 4566, 6435, 4819, 510...</td>\n",
       "      <td>1</td>\n",
       "    </tr>\n",
       "    <tr>\n",
       "      <th>15451</th>\n",
       "      <td>ratu adil</td>\n",
       "      <td>search</td>\n",
       "      <td>1756</td>\n",
       "      <td>162</td>\n",
       "      <td>2</td>\n",
       "      <td>2</td>\n",
       "      <td>ratu adil</td>\n",
       "      <td>[0.0027797557, 0.015359388, 0.0041601295, -0.0...</td>\n",
       "      <td>[9372, 6527, 6598, 4945, 4566, 6435, 4819, 510...</td>\n",
       "      <td>0</td>\n",
       "    </tr>\n",
       "    <tr>\n",
       "      <th>15452</th>\n",
       "      <td>ratu adil</td>\n",
       "      <td>search</td>\n",
       "      <td>5421</td>\n",
       "      <td>146</td>\n",
       "      <td>3</td>\n",
       "      <td>1</td>\n",
       "      <td>ratu adil</td>\n",
       "      <td>[0.0027797557, 0.015359388, 0.0041601295, -0.0...</td>\n",
       "      <td>[9372, 6527, 6598, 4945, 4566, 6435, 4819, 510...</td>\n",
       "      <td>0</td>\n",
       "    </tr>\n",
       "  </tbody>\n",
       "</table>\n",
       "</div>"
      ],
      "text/plain": [
       "           query query_type  content_id  total_click  position  score  \\\n",
       "15450  ratu adil     search        9372         2683         1      3   \n",
       "15451  ratu adil     search        1756          162         2      2   \n",
       "15452  ratu adil     search        5421          146         3      1   \n",
       "\n",
       "      search_text                                          embedding  \\\n",
       "15450   ratu adil  [0.0027797557, 0.015359388, 0.0041601295, -0.0...   \n",
       "15451   ratu adil  [0.0027797557, 0.015359388, 0.0041601295, -0.0...   \n",
       "15452   ratu adil  [0.0027797557, 0.015359388, 0.0041601295, -0.0...   \n",
       "\n",
       "                                           search_result  is_tp  \n",
       "15450  [9372, 6527, 6598, 4945, 4566, 6435, 4819, 510...      1  \n",
       "15451  [9372, 6527, 6598, 4945, 4566, 6435, 4819, 510...      0  \n",
       "15452  [9372, 6527, 6598, 4945, 4566, 6435, 4819, 510...      0  "
      ]
     },
     "execution_count": 19,
     "metadata": {},
     "output_type": "execute_result"
    }
   ],
   "source": [
    "joined_df[joined_df['query'] == 'ratu adil']"
   ]
  },
  {
   "cell_type": "code",
   "execution_count": 17,
   "metadata": {},
   "outputs": [
    {
     "data": {
      "text/html": [
       "<div>\n",
       "<style scoped>\n",
       "    .dataframe tbody tr th:only-of-type {\n",
       "        vertical-align: middle;\n",
       "    }\n",
       "\n",
       "    .dataframe tbody tr th {\n",
       "        vertical-align: top;\n",
       "    }\n",
       "\n",
       "    .dataframe thead th {\n",
       "        text-align: right;\n",
       "    }\n",
       "</style>\n",
       "<table border=\"1\" class=\"dataframe\">\n",
       "  <thead>\n",
       "    <tr style=\"text-align: right;\">\n",
       "      <th></th>\n",
       "      <th>id</th>\n",
       "      <th>description</th>\n",
       "      <th>release_date</th>\n",
       "      <th>total_watchers</th>\n",
       "      <th>age_rating</th>\n",
       "      <th>image_portrait</th>\n",
       "      <th>content_url</th>\n",
       "      <th>image_url</th>\n",
       "      <th>title</th>\n",
       "      <th>group_l1</th>\n",
       "      <th>group_l2</th>\n",
       "      <th>genres</th>\n",
       "      <th>actors</th>\n",
       "      <th>directors</th>\n",
       "      <th>country</th>\n",
       "      <th>release_year</th>\n",
       "      <th>popularity</th>\n",
       "      <th>search_text</th>\n",
       "      <th>embedding</th>\n",
       "    </tr>\n",
       "  </thead>\n",
       "  <tbody>\n",
       "    <tr>\n",
       "      <th>287</th>\n",
       "      <td>3426</td>\n",
       "      <td>Peter Parker menyeimbangkan hidupnya sebagai s...</td>\n",
       "      <td>2017-07-07</td>\n",
       "      <td>1739</td>\n",
       "      <td>13 or more</td>\n",
       "      <td>spider-man-homecoming-e4b5ed.jpg</td>\n",
       "      <td>https://www.vidio.com/premier/3426</td>\n",
       "      <td>https://thumbor.prod.vidiocdn.com/TBeIDDTwf35r...</td>\n",
       "      <td>spider-man: homecoming</td>\n",
       "      <td>movies</td>\n",
       "      <td>western</td>\n",
       "      <td>action, adventure, comedy, fantasy, sci-fi</td>\n",
       "      <td>marisa tomei, michael keaton, robert downey jr...</td>\n",
       "      <td>jon watts</td>\n",
       "      <td>western</td>\n",
       "      <td>2017</td>\n",
       "      <td>average</td>\n",
       "      <td>title: spider-man: homecoming\\ndescription: Pe...</td>\n",
       "      <td>[0.0032585568, 0.0013862681, -0.016720943, -0....</td>\n",
       "    </tr>\n",
       "  </tbody>\n",
       "</table>\n",
       "</div>"
      ],
      "text/plain": [
       "       id                                        description release_date  \\\n",
       "287  3426  Peter Parker menyeimbangkan hidupnya sebagai s...   2017-07-07   \n",
       "\n",
       "     total_watchers  age_rating                    image_portrait  \\\n",
       "287            1739  13 or more  spider-man-homecoming-e4b5ed.jpg   \n",
       "\n",
       "                            content_url  \\\n",
       "287  https://www.vidio.com/premier/3426   \n",
       "\n",
       "                                             image_url  \\\n",
       "287  https://thumbor.prod.vidiocdn.com/TBeIDDTwf35r...   \n",
       "\n",
       "                      title group_l1 group_l2  \\\n",
       "287  spider-man: homecoming   movies  western   \n",
       "\n",
       "                                         genres  \\\n",
       "287  action, adventure, comedy, fantasy, sci-fi   \n",
       "\n",
       "                                                actors  directors  country  \\\n",
       "287  marisa tomei, michael keaton, robert downey jr...  jon watts  western   \n",
       "\n",
       "    release_year popularity  \\\n",
       "287         2017    average   \n",
       "\n",
       "                                           search_text  \\\n",
       "287  title: spider-man: homecoming\\ndescription: Pe...   \n",
       "\n",
       "                                             embedding  \n",
       "287  [0.0032585568, 0.0013862681, -0.016720943, -0....  "
      ]
     },
     "execution_count": 17,
     "metadata": {},
     "output_type": "execute_result"
    }
   ],
   "source": [
    "film_df[film_df['id'] == '3426']"
   ]
  },
  {
   "cell_type": "code",
   "execution_count": 18,
   "metadata": {},
   "outputs": [],
   "source": [
    "joined_df.drop(columns=['search_result', 'is_tp']).to_json('data/benchmark_mpnet.json', orient='records', lines=True)"
   ]
  },
  {
   "cell_type": "code",
   "execution_count": null,
   "metadata": {},
   "outputs": [],
   "source": []
  }
 ],
 "metadata": {
  "kernelspec": {
   "display_name": "genai_hackathon_2024",
   "language": "python",
   "name": "python3"
  },
  "language_info": {
   "codemirror_mode": {
    "name": "ipython",
    "version": 3
   },
   "file_extension": ".py",
   "mimetype": "text/x-python",
   "name": "python",
   "nbconvert_exporter": "python",
   "pygments_lexer": "ipython3",
   "version": "3.10.12"
  }
 },
 "nbformat": 4,
 "nbformat_minor": 2
}
