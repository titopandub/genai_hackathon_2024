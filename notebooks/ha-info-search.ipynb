{
 "cells": [
  {
   "cell_type": "code",
   "execution_count": 61,
   "metadata": {},
   "outputs": [],
   "source": [
    "from abc import abstractmethod\n",
    "from annoy import AnnoyIndex\n",
    "import pandas as pd\n",
    "from google.cloud import aiplatform_v1\n",
    "from google.cloud import discoveryengine_v1beta as discoveryengine_v1\n",
    "from google.protobuf.json_format import MessageToDict\n",
    "import requests\n",
    "import json\n",
    "\n",
    "import dotenv\n",
    "dotenv.load_dotenv()\n",
    "import google.auth\n",
    "import google.auth.transport.requests\n",
    "\n",
    "import re\n",
    "from google.cloud import storage\n",
    "\n",
    "import markdownify "
   ]
  },
  {
   "cell_type": "code",
   "execution_count": 87,
   "metadata": {},
   "outputs": [],
   "source": [
    "\n",
    "\n",
    "import vertexai\n",
    "from vertexai.language_models import TextEmbeddingModel\n",
    "from annoy import AnnoyIndex\n",
    "import pandas as pd\n",
    "\n",
    "import requests\n",
    "import os\n",
    "from dotenv import load_dotenv\n",
    "import json\n",
    "from IPython.display import display, Markdown\n",
    "\n",
    "from langchain_google_vertexai import VertexAI\n",
    "from langchain_core.prompts import PromptTemplate\n",
    "from langchain_core.prompts import ChatPromptTemplate, PromptTemplate\n",
    "from langchain_core.output_parsers import StrOutputParser\n",
    "from langchain_core.prompts import ChatPromptTemplate\n",
    "from langchain_core.runnables import RunnableBranch\n",
    "\n",
    "from tqdm._tqdm_notebook import tqdm_notebook\n",
    "tqdm_notebook.pandas()\n",
    "load_dotenv()\n",
    "\n",
    "vertexai.init(project=\"vidio-quiz-prod\", location=\"asia-southeast1\")\n",
    "embedding_model = TextEmbeddingModel.from_pretrained(\"textembedding-gecko-multilingual\")\n",
    "model = VertexAI(model_name=\"gemini-pro\")"
   ]
  },
  {
   "cell_type": "code",
   "execution_count": 155,
   "metadata": {},
   "outputs": [],
   "source": [
    "\n",
    "query = \"bagaimana mendaftar paket mahasiswa\"\n",
    "# query = \"ibukota indonesia\"\n",
    "# query = \"1 + 1\"\n",
    "# query = \"bayar vidio bisa pakai apa saja\"\n",
    "limit = 10\n",
    "project_id = '328583281153'\n",
    "location = 'global'\n",
    "collection = 'default_collection'\n",
    "data_store = 'vidio-info_1710991769751'\n",
    "\n",
    "url = f\"https://discoveryengine.googleapis.com/v1alpha/projects/{project_id}/locations/{location}/collections/{collection}/dataStores/{data_store}/servingConfigs/default_search:search\"\n",
    "auth_req = google.auth.transport.requests.Request()\n",
    "creds, project = google.auth.default()\n",
    "creds.refresh(auth_req)\n",
    "\n",
    "\n",
    "token = creds.token\n",
    "# data = {\"query\": query, \"pageSize\": limit}\n",
    "data = {\n",
    "            \"query\": query,\n",
    "            \"pageSize\":10,\n",
    "            \"queryExpansionSpec\":{\n",
    "                \"condition\":\"AUTO\"\n",
    "            },\n",
    "            \"spellCorrectionSpec\":{\n",
    "                \"mode\":\"AUTO\"\n",
    "            },\n",
    "            \"contentSearchSpec\":{\n",
    "                \"summarySpec\":{\n",
    "                    \"summaryResultCount\":5,\n",
    "                    \"ignoreAdversarialQuery\":True,\n",
    "                    \"includeCitations\":True\n",
    "                },\n",
    "                \"snippetSpec\":{\n",
    "                    \"returnSnippet\": True\n",
    "                },\n",
    "                \"extractiveContentSpec\":{\n",
    "                    \"maxExtractiveAnswerCount\": 0\n",
    "                }\n",
    "            }\n",
    "        }\n",
    "headers = {\"Authorization\": f\"Bearer {token}\"}\n",
    "response = requests.post(url, json=data, headers=headers)\n",
    "response_json = json.loads(response.text)"
   ]
  },
  {
   "cell_type": "code",
   "execution_count": 143,
   "metadata": {},
   "outputs": [
    {
     "data": {
      "text/plain": [
       "{'results': [{'id': '133f11de664b95eb825574e4d3a78c30',\n",
       "   'document': {'name': 'projects/328583281153/locations/global/collections/default_collection/dataStores/vidio-info_1710991769751/branches/0/documents/133f11de664b95eb825574e4d3a78c30',\n",
       "    'id': '133f11de664b95eb825574e4d3a78c30',\n",
       "    'derivedStructData': {'extractive_answers': [{'content': 'Pertandingan dapat disaksikan melalui streaming Vidio! Pekan ini, BRI Liga 1 akan menghadirkan beberapa pertandingan menarik yang layak kamu tunggu seperti Persikabo 1973 vs Persib akan bertemu di Kapten I Wayan Dipta pada Jumat, 15 Maret 2024.'}],\n",
       "     'link': 'gs://genai_hackathon_2024/data/vidio_info/2024-03-21b/jadwal-lengkap-dan-link-streaming-bri-liga1-2023-2024.html',\n",
       "     'snippets': [{'snippet_status': 'SUCCESS',\n",
       "       'snippet': '... <b>1</b>-<b>1</b> Madura United Persija <b>1</b>-<b>1</b> Bali United Senin, 25 September 2023 Borneo FC 1-0 PSM Makassar Pekan 14 Jumat, 29 September 2023 Barito Putera <b>1</b>-<b>1</b> RANS&nbsp;...'}],\n",
       "     'title': 'Jadwal Lengkap dan Link Streaming BRI Liga 1 2023/2024'}}},\n",
       "  {'id': '7be8c45b19eb3fddc4d60f86d7d0ee4b',\n",
       "   'document': {'name': 'projects/328583281153/locations/global/collections/default_collection/dataStores/vidio-info_1710991769751/branches/0/documents/7be8c45b19eb3fddc4d60f86d7d0ee4b',\n",
       "    'id': '7be8c45b19eb3fddc4d60f86d7d0ee4b',\n",
       "    'derivedStructData': {'extractive_answers': [{'content': 'Meskipun dalam pertandingan terakhir mereka, Persib Bandung harus puas berbagi poin dengan Barito Putera setelah hasil imbang 1-1. Sementara itu, PSIS Semarang juga menunjukkan penampilan yang sangat memuaskan.'}],\n",
       "     'title': 'Link Live Streaming Persib vs PSIS BRI Liga 1 2023/24',\n",
       "     'snippets': [{'snippet_status': 'SUCCESS',\n",
       "       'snippet': '... <b>1</b>-<b>1</b>. Sementara itu, PSIS Semarang juga menunjukkan penampilan yang sangat memuaskan. Dalam dua puluh lima pertandingan yang mereka jalani, tim ini berhasil&nbsp;...'}],\n",
       "     'link': 'gs://genai_hackathon_2024/data/vidio_info/2024-03-21b/link-live-streaming-persib-vs-psis-bri-liga-1-2023-2024.html'}}},\n",
       "  {'id': '648ecb5f9af288d1bf11742c59417c6c',\n",
       "   'document': {'name': 'projects/328583281153/locations/global/collections/default_collection/dataStores/vidio-info_1710991769751/branches/0/documents/648ecb5f9af288d1bf11742c59417c6c',\n",
       "    'id': '648ecb5f9af288d1bf11742c59417c6c',\n",
       "    'derivedStructData': {'snippets': [{'snippet': '... 1-4 dan Highlights di Vidio 280 Liga Inggris pekan sebelas menghadirkan laga ... <b>1</b>-<b>1</b>. Serangan demi serangan di luncurkan ke gawang, statistik menunjukan&nbsp;...',\n",
       "       'snippet_status': 'SUCCESS'}],\n",
       "     'extractive_answers': [{'content': 'Hal ini sangat merugikan tim karena akan bermain sembilan orang di babak kedua. Bermain sembilan orang, tentunya membuat Tottenham kalah dalam pengusaan bola dan taktik permainan. Menit 75′ akhirnya benteng pertahanan Tottenham harus di tabrak dengan goal Jackson sehingga skor menjadi 1-2.'}],\n",
       "     'link': 'gs://genai_hackathon_2024/data/vidio_info/2024-03-21b/hasil-tottenham-vs-chelsea-skor-1-4-dan-highlights-di-vidio.html',\n",
       "     'title': 'Hasil Tottenham vs Chelsea: Skor 1-4 dan Highlights di Vidio'}}},\n",
       "  {'id': '43c6b4bb664159d229c1376216785426',\n",
       "   'document': {'name': 'projects/328583281153/locations/global/collections/default_collection/dataStores/vidio-info_1710991769751/branches/0/documents/43c6b4bb664159d229c1376216785426',\n",
       "    'id': '43c6b4bb664159d229c1376216785426',\n",
       "    'derivedStructData': {'snippets': [{'snippet_status': 'SUCCESS',\n",
       "       'snippet': '... <b>1</b>-<b>1</b>. Pertandingan tersebut menjadikan highlight di pekan sebelumnya ... <b>1</b>-<b>1</b> Liverpool (22.00 WIB) Burnley 1-2 West Ham (22.00 WIB) Luton Town 2-1 Crystal&nbsp;...'}],\n",
       "     'extractive_answers': [{'content': 'Langsung saja download aplikasi Vidio di Google Play Store atau App Store kemudian berlangganan paket Diamond Vidio.'}],\n",
       "     'title': 'Jadwal Lengkap dan Link Streaming Liga Inggris 2023/2024',\n",
       "     'link': 'gs://genai_hackathon_2024/data/vidio_info/2024-03-21b/jadwal-lengkap-dan-link-streaming-liga-inggris-2023-2024.html'}}},\n",
       "  {'id': '805e548f5832212c0d0e9a7154b4e00e',\n",
       "   'document': {'name': 'projects/328583281153/locations/global/collections/default_collection/dataStores/vidio-info_1710991769751/branches/0/documents/805e548f5832212c0d0e9a7154b4e00e',\n",
       "    'id': '805e548f5832212c0d0e9a7154b4e00e',\n",
       "    'derivedStructData': {'snippets': [{'snippet_status': 'SUCCESS',\n",
       "       'snippet': '... <b>1</b> musim 2023/2024 akan memasuki pekan kelima belas yang akan berlangsung ... <b>1</b> 2023/2024 menjanjikan banyak drama dan kejutan. Persaingan untuk gelar juara&nbsp;...'}],\n",
       "     'title': 'Jadwal dan Link Streaming BRI Liga 1 Pekan-15',\n",
       "     'link': 'gs://genai_hackathon_2024/data/vidio_info/2024-03-21b/jadwal-dan-link-streaming-bri-liga-1-pekan-15.html',\n",
       "     'extractive_answers': [{'content': 'Dengan rivalitas yang memanas, kejutan-kejutan yang mungkin terjadi, dan pemain-pemain berkualitas tinggi yang terus bersaing, kita bisa berharap untuk menyaksikan lebih banyak momen epik dalam kompetisi ini.'}]}}},\n",
       "  {'id': '8ffa121eb0848bb2eca9bf1de047aa34',\n",
       "   'document': {'name': 'projects/328583281153/locations/global/collections/default_collection/dataStores/vidio-info_1710991769751/branches/0/documents/8ffa121eb0848bb2eca9bf1de047aa34',\n",
       "    'id': '8ffa121eb0848bb2eca9bf1de047aa34',\n",
       "    'derivedStructData': {'link': 'gs://genai_hackathon_2024/data/vidio_info/2024-03-21b/jadwal-link-streaming-rans-nusantara-vs-persebaya.html',\n",
       "     'title': 'Jadwal Link Streaming RANS Nusantara vs Persebaya BRI Liga 1',\n",
       "     'extractive_answers': [{'content': 'RANS Nusantara juga tidak berpuas diri dengan posisi sekarang. Seluruh kekuatan akan dikerahkan untuk terciptanya kemenangan di pertandingan nanti. Bagi kamu para pecinta sepak bola, khususnya BRI Liga 1, jangan sampai ketinggalan pertandingannya! Berikut adalah jadwal dan link streaming RANS Nusantara vs Persebaya.'}],\n",
       "     'snippets': [{'snippet_status': 'SUCCESS',\n",
       "       'snippet': '... <b>1</b> 242 Simak jadwal dan link streaming RANS Nusantara vs Persebaya yang akan bertanding pada Jumat (<b>1</b>/12/2023), pukul 15.00 WIB. Saksikan pertandingannya&nbsp;...'}]}}},\n",
       "  {'id': 'f5ef6947ff2976c790423dc42425bfe0',\n",
       "   'document': {'name': 'projects/328583281153/locations/global/collections/default_collection/dataStores/vidio-info_1710991769751/branches/0/documents/f5ef6947ff2976c790423dc42425bfe0',\n",
       "    'id': 'f5ef6947ff2976c790423dc42425bfe0',\n",
       "    'derivedStructData': {'extractive_answers': [{'content': 'Madura United selalu memikat banyak penggemar sepakbola di Indonesia. Basis penggemar kedua tim akan memenuhi stadion dengan yel-yel dan dukungan yang luar biasa. Dalam kesimpulan, pertandingan antara Persib dan Madura United di pekan ke-18 BRI Liga 1 musim 2023/2024 akan menjadi pertarungan yang sangat dinanti.'}],\n",
       "     'snippets': [{'snippet': '... <b>1</b> November 2023 melalui streaming Vidio. BRI Liga <b>1</b> akan segera memasuki pekan ke-18. Pekan ini akan menghadirkan beberapa pertandingan seru, salah satunya&nbsp;...',\n",
       "       'snippet_status': 'SUCCESS'}],\n",
       "     'link': 'gs://genai_hackathon_2024/data/vidio_info/2024-03-21b/jadwal-link-streaming-madura-united-vs-persib-2023-2024.html',\n",
       "     'title': 'Jadwal dan Link Streaming Madura United vs Persib BRI Liga 1 23/24'}}},\n",
       "  {'id': '31b0ab5444c53ae9a14410cc5692796f',\n",
       "   'document': {'name': 'projects/328583281153/locations/global/collections/default_collection/dataStores/vidio-info_1710991769751/branches/0/documents/31b0ab5444c53ae9a14410cc5692796f',\n",
       "    'id': '31b0ab5444c53ae9a14410cc5692796f',\n",
       "    'derivedStructData': {'snippets': [{'snippet': '... <b>1</b> 2023/2024, di Stadion Gelora Joko Samudro Stadium pada Minggu, 26 November ... <b>1</b> di Vidio Nah, itulah dia informasi lengkap jadwal dan link streaming&nbsp;...',\n",
       "       'snippet_status': 'SUCCESS'}],\n",
       "     'title': 'Jadwal Link Streaming Persebaya vs PSIS, BRI Liga 1 23/24',\n",
       "     'link': 'gs://genai_hackathon_2024/data/vidio_info/2024-03-21b/jadwal-link-streaming-persebaya-vs-psis-bri-liga-1-2023-2024.html',\n",
       "     'extractive_answers': [{'content': 'Sementara itu, PSIS Semarang memiliki keunggulan dalam hal serangan balik. Mereka memiliki pemain-pemain yang cepat dan lincah di lini depan. Pertandingan ini diprediksi akan berlangsung sengit dan berakhir imbang. Kedua tim memiliki peluang yang sama untuk menang.'}]}}},\n",
       "  {'id': '66c36081cc70b4a1dbfc770f807d2f99',\n",
       "   'document': {'name': 'projects/328583281153/locations/global/collections/default_collection/dataStores/vidio-info_1710991769751/branches/0/documents/66c36081cc70b4a1dbfc770f807d2f99',\n",
       "    'id': '66c36081cc70b4a1dbfc770f807d2f99',\n",
       "    'derivedStructData': {'link': 'gs://genai_hackathon_2024/data/vidio_info/2024-03-21b/jadwal-link-streaming-psm-vs-persija-bri-liga-1-2023-2024.html',\n",
       "     'extractive_answers': [{'content': 'Pertandingan ini diharapkan akan menjadi pertarungan yang ketat dan penuh gairah. Kedua tim akan mencari kemenangan untuk mengamankan posisi terbaik di klasemen BRI Liga 1. Jika Anda adalah penggemar sepak bola Indonesia, pertandingan antara PSM dan Persija adalah sebuah must-watch.'}],\n",
       "     'snippets': [{'snippet_status': 'SUCCESS',\n",
       "       'snippet': '... <b>1</b> di Vidio Nah, itulah dia informasi lengkap jadwal dan link streaming pertandingan BRI Liga <b>1</b> pekan ini. Kamu bisa saksikan keseruan pertandingan ini&nbsp;...'}],\n",
       "     'title': 'Jadwal dan Link Streaming PSM vs Persija | BRI Liga 1 23/24'}}},\n",
       "  {'id': '6e24aefe2118a07240e7701c98afc43a',\n",
       "   'document': {'name': 'projects/328583281153/locations/global/collections/default_collection/dataStores/vidio-info_1710991769751/branches/0/documents/6e24aefe2118a07240e7701c98afc43a',\n",
       "    'id': '6e24aefe2118a07240e7701c98afc43a',\n",
       "    'derivedStructData': {'snippets': [{'snippet_status': 'SUCCESS',\n",
       "       'snippet': '... <b>1</b> 23/24 223 Simak jadwal dan link streaming pertandingan seru antara PSS ... Bagi kamu para pecinta Sepak Bola BRI Liga <b>1</b>, jangan sampai ketinggalan pertandingan&nbsp;...'}],\n",
       "     'extractive_answers': [{'content': 'Ini akan menjadi pertarungan sengit di mana semua pemain akan memberikan yang terbaik untuk mengamankan tiga poin. Pastikan untuk menyaksikan pertandingan ini dan dukung tim favorit Anda. Bagi kamu para pecinta Sepak Bola BRI Liga 1, jangan sampai ketinggalan pertandingan seru ini.'}],\n",
       "     'link': 'gs://genai_hackathon_2024/data/vidio_info/2024-03-21b/jadwal-link-streaming-pss-vs-bali-united-bri-liga-1-2023-2024.html',\n",
       "     'title': 'Jadwal dan Link Streaming PSS vs Bali United | BRI Liga 1 23/24'}}}],\n",
       " 'totalSize': 356,\n",
       " 'attributionToken': 'dvB1CgsIrcvzrwYQrvTwLBIkNjVmYzQ3MWYtMDAwMC0yNTJhLWFiZjctM2MyODZkMzVlZmZlIgdHRU5FUklDKjijgJci24-aIt6PmiKAspoijr6dFcXL8xfC8J4V1LKdFYOymiKN96ci5O2ILeftiC22t4wtkPenIg',\n",
       " 'nextPageToken': 'UmZmVWNzQmN4IzYz0yNmJWYtEmM1ITLwADMw0SZxcDNjZWN2QiGBkJ6-jLEGA7g0GLCMIBMxIgC',\n",
       " 'guidedSearchResult': {},\n",
       " 'summary': {'summaryText': 'Persikabo 1973 vs Persib akan bertemu di Kapten I Wayan Dipta pada Jumat, 15 Maret 2024 [1]. Pertandingan dapat disaksikan melalui streaming Vidio [1].',\n",
       "  'safetyAttributes': {'categories': ['Dangerous Content',\n",
       "    'Harassment',\n",
       "    'Hate Speech',\n",
       "    'Sexually Explicit'],\n",
       "   'scores': [0.2, 0.2, 0.1, 0.1]},\n",
       "  'summaryWithMetadata': {'summary': 'Persikabo 1973 vs Persib akan bertemu di Kapten I Wayan Dipta pada Jumat, 15 Maret 2024. Pertandingan dapat disaksikan melalui streaming Vidio.',\n",
       "   'citationMetadata': {'citations': [{'endIndex': '87', 'sources': [{}]},\n",
       "     {'startIndex': '89', 'endIndex': '142', 'sources': [{}]}]},\n",
       "   'references': [{'title': 'Jadwal Lengkap dan Link Streaming BRI Liga 1 2023/2024',\n",
       "     'document': 'projects/328583281153/locations/global/collections/default_collection/dataStores/vidio-info_1710991769751/branches/0/documents/133f11de664b95eb825574e4d3a78c30'},\n",
       "    {'title': 'Link Live Streaming Persib vs PSIS BRI Liga 1 2023/24',\n",
       "     'document': 'projects/328583281153/locations/global/collections/default_collection/dataStores/vidio-info_1710991769751/branches/0/documents/7be8c45b19eb3fddc4d60f86d7d0ee4b'},\n",
       "    {'title': 'Hasil Tottenham vs Chelsea: Skor 1-4 dan Highlights di Vidio',\n",
       "     'document': 'projects/328583281153/locations/global/collections/default_collection/dataStores/vidio-info_1710991769751/branches/0/documents/648ecb5f9af288d1bf11742c59417c6c'},\n",
       "    {'title': 'Jadwal Lengkap dan Link Streaming Liga Inggris 2023/2024',\n",
       "     'document': 'projects/328583281153/locations/global/collections/default_collection/dataStores/vidio-info_1710991769751/branches/0/documents/43c6b4bb664159d229c1376216785426'},\n",
       "    {'title': 'Jadwal dan Link Streaming BRI Liga 1 Pekan-15',\n",
       "     'document': 'projects/328583281153/locations/global/collections/default_collection/dataStores/vidio-info_1710991769751/branches/0/documents/805e548f5832212c0d0e9a7154b4e00e'}]}}}"
      ]
     },
     "execution_count": 143,
     "metadata": {},
     "output_type": "execute_result"
    }
   ],
   "source": [
    "response_json\n",
    "# response_json['summary']['summaryText']\n",
    "# response_json['summary']['summaryWithMetadata']['summary']"
   ]
  },
  {
   "cell_type": "code",
   "execution_count": 156,
   "metadata": {},
   "outputs": [
    {
     "data": {
      "text/plain": [
       "'Bagaimana <b>cara mendaftarkan</b> kampus saya agar mendapatkan <b>paket</b> Vidio Platinum <b>Mahasiswa</b> ? Jika kampus kamu belum terdaftar, kamu bisa <b>mendaftarkan</b> melalui Form&nbsp;...'"
      ]
     },
     "execution_count": 156,
     "metadata": {},
     "output_type": "execute_result"
    }
   ],
   "source": [
    "response_json['results'][0]['document']['derivedStructData']['snippets'][0]['snippet']"
   ]
  },
  {
   "cell_type": "code",
   "execution_count": 158,
   "metadata": {},
   "outputs": [
    {
     "data": {
      "text/plain": [
       "{'link': 'gs://genai_hackathon_2024/data/faq_html/43000712288.html',\n",
       " 'title': 'Bagaimana cara mendaftarkan kampus saya agar mendapatkan paket Vidio Platinum Mahasiswa ?',\n",
       " 'snippets': [{'snippet': 'Bagaimana <b>cara mendaftarkan</b> kampus saya agar mendapatkan <b>paket</b> Vidio Platinum <b>Mahasiswa</b> ? Jika kampus kamu belum terdaftar, kamu bisa <b>mendaftarkan</b> melalui Form&nbsp;...',\n",
       "   'snippet_status': 'SUCCESS'}]}"
      ]
     },
     "execution_count": 158,
     "metadata": {},
     "output_type": "execute_result"
    }
   ],
   "source": [
    "\n",
    "response_json['results'][0]['document']['derivedStructData']\n",
    "# ['extractive_answers'][0]['content']"
   ]
  },
  {
   "cell_type": "code",
   "execution_count": 127,
   "metadata": {},
   "outputs": [
    {
     "data": {
      "text/markdown": [
       "Rp 19.000"
      ],
      "text/plain": [
       "<IPython.core.display.Markdown object>"
      ]
     },
     "execution_count": 127,
     "metadata": {},
     "output_type": "execute_result"
    }
   ],
   "source": [
    "\n",
    "# query = \"bagaimana mendaftar paket mahasiswa\"\n",
    "query = \"berapa harga paket mahasiswa\"\n",
    "# query = \"bayar vidio bisa pakai apa saja\"\n",
    "limit = 10\n",
    "project_id = '328583281153'\n",
    "location = 'global'\n",
    "collection = 'default_collection'\n",
    "data_store = 'vidio-info_1710991769751'\n",
    "\n",
    "url = f\"https://discoveryengine.googleapis.com/v1alpha/projects/{project_id}/locations/{location}/collections/{collection}/dataStores/{data_store}/servingConfigs/default_search:search\"\n",
    "auth_req = google.auth.transport.requests.Request()\n",
    "creds, project = google.auth.default()\n",
    "creds.refresh(auth_req)\n",
    "\n",
    "\n",
    "token = creds.token\n",
    "# data = {\"query\": query, \"pageSize\": limit}\n",
    "data = {\"query\": query,\"pageSize\":10,\"queryExpansionSpec\":{\"condition\":\"AUTO\"},\"spellCorrectionSpec\":{\"mode\":\"AUTO\"},\"contentSearchSpec\":{\"summarySpec\":{\"summaryResultCount\":5,\"ignoreAdversarialQuery\":True,\"includeCitations\":True},\"snippetSpec\":{\"returnSnippet\":True},\"extractiveContentSpec\":{\"maxExtractiveAnswerCount\":1}}}\n",
    "headers = {\"Authorization\": f\"Bearer {token}\"}\n",
    "response = requests.post(url, json=data, headers=headers)\n",
    "response_json = json.loads(response.text)\n",
    "\n",
    "def get_file(gs_url):\n",
    "    storage_client = storage.Client(\"vidio-quiz-prod\")\n",
    "\n",
    "    bucket_name = \"genai_hackathon_2024\"\n",
    "    file_path = re.search(\"gs://genai_hackathon_2024\\/(.+)\",gs_url).group(1)\n",
    "\n",
    "    bucket = storage_client.bucket(bucket_name)\n",
    "    blob = bucket.blob(file_path)\n",
    "\n",
    "    return blob.download_as_text()\n",
    "\n",
    "def to_markdown(html):\n",
    "    md = markdownify.markdownify(str(html), heading_style=\"ATX\")\n",
    "    return md\n",
    "\n",
    "gs_urls = list(map(lambda x: x[\"document\"][\"derivedStructData\"][\"link\"], response_json[\"results\"]))\n",
    "htmls = list(map(get_file, gs_urls))\n",
    "mds = list(map(to_markdown, htmls))\n",
    "# result = list(map(lambda x: x[\"document\"][\"structData\"], response_json[\"results\"]))\n",
    "# ids = list(map(lambda x: int(x['id']), result))\n",
    "summary_html = response_json['summary']['summaryWithMetadata']['summary']\n",
    "summary = markdownify.markdownify(str(summary_html), heading_style=\"ATX\")\n",
    "\n",
    "information = summary + \"\\n\"\n",
    "# for html in htmls:\n",
    "#     information = information + html\n",
    "for md in mds:\n",
    "    information = information + md\n",
    "\n",
    "user_query = query\n",
    "\n",
    "route_chain = (\n",
    "    PromptTemplate.from_template(\n",
    "        \"\"\"\n",
    "You are chatbot for Vidio OTT platform. Your task is to answer to user question\n",
    "Question can is related to vidio. Like about vidio product, and film.\n",
    "Or question can be unrelated to vidio\n",
    "\n",
    "Here are the useful information:\n",
    "<information>\n",
    "{information} \n",
    "</information>\n",
    "\n",
    "User Question:\n",
    "<user_query>\n",
    "{user_query}\n",
    "</user_query>\n",
    "\"\"\"\n",
    "    ) | model | StrOutputParser() \n",
    ") \n",
    "\n",
    "resp = route_chain.invoke({\"user_query\": user_query, \"information\": information}) \n",
    "\n",
    "Markdown(resp)"
   ]
  },
  {
   "cell_type": "code",
   "execution_count": 124,
   "metadata": {},
   "outputs": [
    {
     "data": {
      "text/plain": [
       "'Vidio Platinum Mahasiswa adalah <b>paket</b> terbaru yang disediakan khusus untuk Kamu para <b>mahasiswa</b> yang masih aktif, Bisa membeli <b>paket</b> Vidio Platinum 30 hari dengan <b>harga</b> khusus <b>Mahasiswa</b> yaitu Rp. 19.000. *<b>Harga</b> belum termasuk PPN.'"
      ]
     },
     "execution_count": 124,
     "metadata": {},
     "output_type": "execute_result"
    }
   ],
   "source": [
    "\n",
    "# response_json['summary']['summaryText']"
   ]
  },
  {
   "cell_type": "code",
   "execution_count": 115,
   "metadata": {},
   "outputs": [
    {
     "data": {
      "text/plain": [
       "['gs://genai_hackathon_2024/data/faq_html/43000712286.html',\n",
       " 'gs://genai_hackathon_2024/data/faq_html/43000712283.html',\n",
       " 'gs://genai_hackathon_2024/data/faq_html/43000711517.html',\n",
       " 'gs://genai_hackathon_2024/data/faq_html/43000715153.html',\n",
       " 'gs://genai_hackathon_2024/data/faq_html/43000713388.html',\n",
       " 'gs://genai_hackathon_2024/data/faq_html/43000712154.html',\n",
       " 'gs://genai_hackathon_2024/data/faq_html/43000676641.html',\n",
       " 'gs://genai_hackathon_2024/data/faq_html/43000713394.html',\n",
       " 'gs://genai_hackathon_2024/data/faq_html/43000708969.html',\n",
       " 'gs://genai_hackathon_2024/data/faq_html/43000721265.html']"
      ]
     },
     "execution_count": 115,
     "metadata": {},
     "output_type": "execute_result"
    }
   ],
   "source": [
    "gs_urls"
   ]
  },
  {
   "cell_type": "code",
   "execution_count": 117,
   "metadata": {},
   "outputs": [
    {
     "data": {
      "text/plain": [
       "'\\n\\n\\nBagaimana cara membeli paket ini ?\\n\\n\\n# Bagaimana cara membeli paket ini ?\\n\\n\\n\\nUntuk membeli paket ini, ikuti langkah berikut :\\xa0\\n\\n1. Masuk atau daftar dengan email kampus\\n2. Pastikan sedang tidak memiliki paket aktif Platinum di Vidio\\n3. Verifikasi email-mu\\n4. Beli paketnya via\\xa0[Paywall](https://www.vidio.com/plans?fpc=80)\\xa0atau halaman\\xa0[Platinum Mahasiswa](https://www.vidio.com/pages/234/paket-mahasiswa?layout=false&utm_source=product&utm_medium=faq_page&utm_campaign=platinum_mahasiswa_2023)\\n5. Langsung nonton di Vidio!\\n\\n\\n\\n\\n\\n\\n\\n\\nApa itu Vidio Platinum Mahasiswa?\\n\\n\\n# Apa itu Vidio Platinum Mahasiswa?\\n\\n\\n\\nPaket terbaru yang disediakan khusus untuk Kamu para mahasiswa yang masih aktif,\\xa0\\n\\nBisa membeli paket Vidio Platinum 30 hari dengan harga khusus Mahasiswa yaitu Rp. 19.000.\\n\\n\\\\*Harga belum termasuk PPN \\n\\n\\n\\n\\n\\n\\n\\n\\nBerapa harga paket HSS Berhadiah?\\n\\n\\n# Berapa harga paket HSS Berhadiah?\\n\\n\\n\\nHarga paket HSS Berhadiah adalah sebagai berikut.\\n\\n* Untuk pelanggan iOS: Rp 29.000\\n\\n*\\\\*Harga sudah termasuk PPN*\\xa0\\n\\n* Untuk pelanggan Android, Web dan Mobile Browser : Rp 25.000\\n\\n\\\\*Harga belum termasuk PPN\\n\\n  \\n\\n\\n\\n\\n\\n\\n\\n\\n\\nBerapa harga paket Vidio Diamond di First Media?\\n\\n\\n# Berapa harga paket Vidio Diamond di First Media?\\n\\n\\n\\nPromo harga Paket Vidio Diamond mulai dari Rp 49,500 (belum termasuk PPN) \\xa0bagi pengguna baru Vidio (batas waktu tertentu) dilanjutkan bulan ke-2 dan seterusnya Rp 99.000 (belum termasuk PPN)\\n\\n\\n\\n\\n\\n\\n\\n\\nBerapa harga paket Vidio Platinum yang harus dibayarkan jika membeli di E-Commerce dan Fintech?\\n\\n\\n# Berapa harga paket Vidio Platinum yang harus dibayarkan jika membeli di E-Commerce dan Fintech?\\n\\n\\n\\nHarga untuk pembelian di E-Commerce dan Fintech (akan mendapatkan kode voucher dan ditukarkan pada Vidio) adalah sebagai berikut.\\n\\n1. Platinum 30 Hari dari Rp 29.000 menjadi Rp 39.000\\n2. Platinum 1 Tahun dari Rp 199.000 menjadi Rp 269.000\\n\\n\\n\\n\\n\\n\\n\\n\\nSyarat & Ketentuan Vidio Platinum Mahasiswa\\n\\n\\n# Syarat & Ketentuan Vidio Platinum Mahasiswa\\n\\n\\n\\nSyarat & Ketentuan Vidio Platinum Mahasiswa\\n\\n(selanjutnya disebut “Ketentuan Vidio Platinum Mahasiswa”)\\n\\nVidio Platinum Mahasiswa\\xa0adalah paket streaming service khusus mahasiswa dengan harga yang lebih terjangkau yang disediakan oleh Vidio untuk memudahkan mahasiswa dalam menonton konten-konten eksklusif Vidio mulai dari konten olahraga lokal, badminton, tenis, dan lainnya serta original series Vidio mulai dari drama hingga aksi, film-film dan serial pilihan terbaik dari Indonesia, Korea, Thailand, India serta hiburan menarik lainnya. Streaming service baru ini sangat cocok untuk mahasiswa yang suka menonton 24/7 dimanapun kapanpun! Vidio Platinum Mahasiswa dapat diakses melalui internet ke handphone, laptop ataupun perangkat lainnya.\\n\\nSyarat & Ketentuan Vidio Platinum Mahasiswa akan selalu terikat dan tunduk pada Syarat dan Ketentuan Pengguna Vidio dan Kebijakan Privasi. Semua istilah dalam huruf besar yang tidak didefinisikan lain dalam Syarat & Ketentuan Vidio Platinum Mahasiswa ini akan memiliki arti yang sama dengan Syarat & Ketentuan Pengguna Vidio.\\n\\nKeanggotaan\\n\\n1. Dengan menggunakan layanan Vidio Platinum Mahasiswa, Pengguna dianggap telah membaca, menerima dan menyetujui Syarat & Ketentuan Vidio Platinum Mahasiswa, serta perubahannya dari waktu ke waktu tanpa pemberitahuan sebelumnya, oleh karena itu, Pengguna diharapkan dapat senantiasa memeriksa Syarat & Ketentuan Vidio Platinum Mahasiswa.\\n2. Pengguna harus memiliki akses internet dan perangkat yang mendukung agar dapat menikmati layanan Vidio Platinum Mahasiswa.\\n3. Dengan berlangganan Vidio Platinum Mahasiswa, Vidio diperbolehkan menghubungi Pengguna melalui email dan e-greetings, push notifications serta newsletter, untuk menginformasikan mengenai hal terbaru dari Vidio Platinum Mahasiswa, survei, penawaran khusus ataupun promosi lainnya.\\n4. Layanan Vidio Platinum Mahasiswa tidak ditujukan untuk digunakan oleh anak-anak berusia di bawah 13 tahun dan hanya ditujukan oleh Pengguna yang telah memenuhi Syarat & Ketentuan Pengguna Vidio.\\n5. Syarat & Ketentuan Vidio Platinum Mahasiswa dapat berubah sewaktu-waktu tanpa pemberitahuan terlebih dahulu. Dengan senantiasa menggunakan layanan Vidio Platinum Mahasiswa, Pengguna dianggap telah membaca, menerima dan menyetujui setiap perubahan-perubahan yang diberlakukan Vidio terhadap Syarat & Ketentuan Vidio Platinum Mahasiswa maupun layanan-layanannya.\\n6. Penggunaan atas layanan Vidio Platinum Mahasiswa hanya diperbolehkan untuk penggunaan pribadi dan non-komersial, untuk itu Pengguna tidak diperbolehkan untuk membagikan atau menjual kembali kepada pihak lain.\\n\\nPaket Vidio Platinum Mahasiswa\\\\*\\n\\nVidio menyediakan paket Vidio Platinum Mahasiswa,\\xa0dengan harga sebagaimana ditentukan oleh Vidio pada saat pembelian, yang dapat Pengguna pilih sesuai dengan keinginan:\\n\\n\\xa0\\n\\n\\n\\n| PlatinumMahasiswa30 Hari | \\xa0Semua konten yang tersedia dalam platform Vidio termasuk konten AVOD, Local Sport, News, dan Entertainment Live Streaming. |\\n\\n\\\\*Paket Vidio Platinum Mahasiswa dan konten-konten yang tersedia dapat berubah sewaktu-waktu, atas diskresi tunggal Vidio, tanpa pemberitahuan terlebih dahulu.\\n\\nKetentuan Berlangganan Vidio Platinum Mahasiswa adalah:\\xa0\\n\\n1. Log In dan terdaftar pada akun dengan email kampus yang sudah di\\xa0whitelist\\xa0Vidio. (Lihat disini untuk email kampus)\\n2. Akun sudah diverifikasi melalui email\\n\\nKeuntungan Berlangganan Vidio Platinum Mahasiswa adalah:\\n\\n1. Menikmati berbagai tayangan seru mulai dari Sports, Original Series, Hollywood, Drama Korea, Anime, TV, dan masih banyak lagi.\\n2. Menikmati konten yang disajikan dalam kualitas HD 1080\\n3. Menikmati konten unggulan Live dan video\\n4. Menikmati konten dengan user experience yang berbeda tanpa batasan waktu\\n5. Menikmati konten berlangganan dengan harga pas dikantong mahasiswa\\n\\nMetode Pembayaran Vidio Platinum Mahasiswa\\n\\nVidio Platinum Mahasiswa akan\\xa0auto-recurring\\xa0di\\xa0billing cycle\\xa0selanjutnya dengan harga yang sama seperti bulan pertama berlangganan. Pengguna tetap akan dapat memberhentikan langganan\\xa0auto-recurringnya. Untuk jenis pembayaran kami menyediakan 6 pilihan yaitu:\\n\\n1.\\xa0 \\xa0Kartu Kredit, untuk pembayaran melalui kartu kredit akan dilakukan perpanjangan otomatis di saat periode waktu paket berlangganan akan berakhir. Pengguna dapat menghentikan paket berlangganan otomatis dengan melihat detail langganan dan pilih berhenti berlangganan dari aplikasi Vidio versi terbaru (minimal 4.24). Pembayaran menggunakan Kartu Kredit juga dapat dilakukan melalui in App Purchase Google;\\n\\n2.\\xa0In App Purchase Google, untuk pengguna perangkat Android, Pengguna bisa langsung membayar dengan sekali klik melalui Google in App Purchase. Perpanjangan akan dilakukan secara otomatis ketika periode waktu paket berlangganan akan berakhir. Pengguna dapat menghentikan paket berlangganan otomatis dengan melihat detail langganan dan pilih berhenti berlangganan dari Google in App Purchase.\\n\\n3. \\xa0OVO, melalui aplikasi payment gateway OVO yang bisa Pengguna download di Play Store dan Apps Store. Pembayaran menggunakan OVO juga dapat dilakukan melalui in App Purchase Google;\\n\\n4.\\xa0\\xa0 \\xa0ShopeePay, melalui aplikasi payment gateway ShopeePay yang bisa Pengguna download di Play Store dan Apps Store. Pembayaran menggunakan ShopeePay juga dapat dilakukan melalui in App Purchase Google;\\n\\n. \\xa0Gopay, melalui aplikasi payment gateway Gojek/Gopay yang bisa Pengguna download di Play Store dan Apps Store. Pembayaran menggunakan Gopay juga dapat dilakukan melalui in App Purchase Google;\\n\\n\\xa0\\n\\nPerangkat Vidio Platinum Mahasiswa\\n\\nUntuk jumlah maksimal perangkat yang dapat digunakan untuk akses menonton akan diatur berdasarkan keterangan paket yang dibeli.\\xa0\\n\\nPengguna dapat menyaksikan layanan Vidio Platinum Mahasiswa pada pilihan perangkat dibawah ini:\\n\\n1.\\xa0\\xa0Aplikasi Vidio;\\n\\n2.\\xa0\\xa0Desktop/laptop;\\n\\n3.\\xa0\\xa0Mobile Browser ; dan\\n\\n4.\\xa0\\xa0Perangkat lainnya yang disetujui oleh Vidio dari waktu ke waktu.\\n\\nBeberapa konten mungkin memiliki persyaratan khusus untuk memenuhi persyaratan pemilik konten, seperti DRM, HDCP, dan Geoblock. Pastikan perangkat kompatibel dengan persyaratan.\\n\\nKhususnya untuk beberapa layanan streaming yang menggunakan proteksi Digital Rights Management (DRM) di bawah ini, hanya dapat ditonton dengan perangkat yang kompatibel dengan DRM:\\n\\n1. Sports International: Champions League, BeIN Channels, NBA TV;\\n2. International Video: konten-konten Hollywood, Korean, India and konten-konten internasional lainnya.\\n3. Vidio Original Series.\\n\\nVerifikasi Ulang Untuk Lanjutkan Pembayaran\\xa0Auto-Recurring\\n\\nProses verifikasi ulang (re-verifikasi) email kampus Pengguna akan dilakukan setiap 11 (sebelas) bulan setelah verifikasi email terakhirmu. Verifikasi ulang ini bertujuan untuk pengecekan masa aktif sebagai mahasiswa. Verifikasi ulang akan dikirimkan ke email Pengguna dan akan ada reminder dari Notifikasi di Aplikasi. Pengguna wajib melakukan verifikasi ulang sebelum\\xa0billing cycle\\xa0selanjutnya di mulai. Jika Pengguna gagal melakukan verifikasi ulang, email mahasiswa Pengguna sudah tidak memenuhi syarat melanjutkan program\\xa0auto-recurring\\xa0Vidio Platinum Mahasiswa dan langganan\\xa0recurring\\xa0Vidio Platinum Mahasiswa akan diberhentikan di\\xa0billing cycle\\xa0berikutnya.\\n\\nKlaim, Penggantian, dan Pembatalan Pembelian Paket\\n\\nVidio tidak melakukan penggantian atau pengembalian uang untuk pembelian paket Vidio Platinum Mahasiswa. Paket Vidio Platinum Mahasiswa yang telah dibeli tidak dapat dibatalkan sepihak oleh Pengguna. Klaim penggantian pembelian paket hanya dapat dilakukan berdasarkan persetujuan Vidio, dan diganti dengan paket yang sama sesuai durasi waktu pembelian (Bulan atau Tahun) serta sesuai paket yang ada di Vidio Platinum Mahasiswa. Vidio berhak untuk membatalkan dan/atau menonaktifkan paket Pengguna apabila ada tindakan yang tidak sesuai dengan Syarat dan Ketentuan yang berlaku dan/atau ditemukan adanya indikasi kecurangan/pelanggaran yang merugikan Vidio, tanpa ada kompensasi apapun.\\n\\nVidio berhak memberhentikan langganan Pengguna di\\xa0billing cycle\\xa0selanjutnya jika Pengguna tidak melakukan re-verifikasi email Pengguna pada 11 (sebelas) bulan setelah terakhir Pengguna verifikasi email kampusnya.\\n\\nVidio dapat mengubah atau memperbarui Layanan dan harga langganan paket Vidio Platinum Mahasiswa dari waktu ke waktu, namun perubahan Layanan dan harga paket langganan tersebut akan diberlakukan oleh Vidio pada siklus penagihan berikutnya. Apabila Pengguna tidak setuju atas perubahan tersebut, Pengguna dapat membatalkan langganannya.\\n\\nLayanan Vidio Platinum Mahasiswa\\n\\nLayanan Vidio Platinum Mahasiswa merupakan hak penuh Vidio dalam menyajikan, memuat, mengatur, menghapus, serta mempromosikan konten dalam sebuah paket maupun di luar paket. Penyajian konten dalam paket Vidio Platinum Mahasiswa merupakan hak penuh Vidio dalam menyajikan, memuat, mengatur, menghapus, atau tidak menyajikan kembali sebuah konten dalam layanan paket.\\n\\nPengguna dapat menikmati konten Vidio di negara tempat Pengguna membuat akun, namun sehubungan dengan lisensi, Vidio juga dapat menerapkan geoblocking terhadap layanan Vidio Platinum Mahasiswa sehingga diakses terbatas pada lokasi geografis tertentu.\\n\\nKonten yang tersedia untuk ditonton akan berbeda tergantung paket berlangganan yang Pengguna pilih.\\n\\nKualitas tampilan konten Vidio Platinum Mahasiswa mungkin akan berbeda di setiap perangkat dan dapat dipengaruhi oleh beberapa faktor, seperti lokasi, kecepatan koneksi internet dan kemampuan perangkat yang digunakan.\\n\\nHak Cipta Konten\\n\\nVidio adalah pemegang hak cipta dan lisensi terhadap distribusi dan penayangan konten-konten yang tersedia pada paket Vidio Platinum Mahasiswa. Pengguna tidak diperbolehkan untuk memiliki, menyebarkan, mendistribusikan, menayangkan kembali konten-konten yang terdapat di Vidio Platinum Mahasiswa tanpa izin tertulis terlebih dahulu dari Vidio. Vidio berhak menonaktifkan akun, menindak dan melakukan proses hukum sesuai dengan peraturan hukum yang berlaku di wilayah Indonesia terhadap Pengguna yang:\\n\\n1. Mengunduh konten Vidio Platinum Mahasiswa secara melawan hukum;\\n2. Menduplikasi konten Vidio Platinum Mahasiswa dengan cara apapun;\\n3. Mendistribusikan kembali konten Vidio Platinum Mahasiswa dengan cara apapun;\\n4. Membagikan atau menjual akun dan kata sandi Vidio Platinum Mahasiswa kepada pihak lain untuk mengizinkan mereka mengakses konten Vidio Platinum Mahasiswa yang tidak mereka langgan tersebut; dan\\n5. Melakukan kecurangan-kecurangan lain yang dapat merugikan atau menyebabkan kerugian bagi Vidio baik secara langsung maupun tidak langsung.\\n\\nUntuk memperoleh hak menyelenggarakan Nonton Bareng (Nobar) konten-konten Vidio Platinum Mahasiswa dapat langsung menghubungi\\xa0info@vidio.com.\\xa0\\n\\nJaminan dan Batasan Kewajiban.\\n\\nLayanan Vidio Platinum Mahasiswa diberikan \"apa adanya\" dan tanpa jaminan atau ketentuan. Vidio tidak membuat pernyataan atau jaminan dalam bentuk apapun bahwa layanan kami akan selalu tidak terganggu atau bebas dari kesalahan. Pengguna melepaskan Vidio dari segala tuntutan terhadap kerugian-kerugian yang mungkin timbul, baik secara langsung maupun tidak langsung. Sejauh yang diizinkan oleh hukum, jika berlaku, total kewajiban Vidio dan afiliasinya, kepada siapapun yang mengklaim, untuk setiap dan semua klaim, tidak akan melebihi pembayaran yang dilakukan Pengguna kepada Vidio pada saat keanggotaan berlangsung.\\n\\nSyarat & Ketentuan Vidio Platinum Mahasiswa ini merupakan bagian tidak terpisahkan dan merupakan satu kesatuan dengan Syarat & Ketentuan Pengguna Vidio.\\n\\nDiperbaharui terakhir pada\\xa0September 2023.\\n\\n\\xa0\\n\\n  \\n\\n\\n  \\n\\n\\n\\n\\n\\n\\n\\n\\n\\nBerapa harga paket Diamond?\\n\\n\\n# Berapa harga paket Diamond?\\n\\n\\n\\n**Berikut harga Paket Diamond**\\n\\n* iOS apps\\n\\n\\xa0 \\xa0\\xa0\\n\\n|  |  |\\n| --- | --- |\\n| Diamond All Screen 30 Hari | Rp. 109.000 |\\n| Diamond Khusus HP dan Tablet 30 Hari | Rp. 69.000 |\\n| Diamond All Screen 1 Tahun | Rp. 839.000 |\\n| Diamond Khusus HP dan Tablet 1 Tahun\\xa0 | Rp. 479.000 |\\n* Android apps\\n\\n\\n\\n|  |  |\\n| --- | --- |\\n| Diamond All Screen 30 Hari | Rp. 99.000 |\\n| Diamond Khusus HP dan Tablet 30 Hari | Rp. 59.000 |\\n| Diamond All Screen 1 Tahun | Rp. 749.000 |\\n| Diamond Khusus HP dan Tablet 1 Tahun | Rp.\\xa0429.000\\xa0 |\\n\\n  \\n\\n\\n* Website\\n\\n\\n\\n|  |  |\\n| --- | --- |\\n| Diamond All Screen 30 Hari\\xa0 \\xa0 | Rp. 99.000 |\\n| Diamond Khusus HP dan Tablet 30 Hari\\xa0 | Rp. 59.000 |\\n| Diamond All Screen 1 Tahun \\xa0 | Rp. 749.000 |\\n| Diamond Khusus HP dan Tablet 1 Tahun | Rp. 429.000 |\\n\\n  \\n\\n\\n\\\\* Harga belum termasuk PPN.\\n\\n\\\\*\\\\* Paket Vidio dengan pembayaran melalui iOS App akan ada perbedaan harga karena melalui app store.\\n\\n\\\\*\\\\*\\\\* Pembelian menggunakan metode pulsa akan dikenakan biaya tambahan pajak dari provider terkait.\\n\\n\\n\\n\\n\\n\\n\\n\\nBerapa harga paket untuk dapat berlanggan Premier Platinum?\\n\\n\\n# Berapa harga paket untuk dapat berlanggan Premier Platinum?\\n\\n\\n\\nBagi pelanggan baru yang ingin berlanggan Premier Platinum dapat membeli paket sebesar Rp 39.000, (tidak termasuk PPN). Paket Premier Platinum akan langsung aktif dan otomatis ditagihkan IndiHome setiap bulannya.\\n\\n\\n\\n\\n\\n\\n\\n\\nFAQ Premier League Mobile\\n\\n\\n# FAQ Premier League Mobile\\n\\n\\n\\nQ : Apakah ada paket EPL saja tanpa harus membeli paket Diamond ?\\n\\nA : \\xa0Ya, kamu dapat membeli paket Premier League Mobile di Vidio tanpa harus membeli paket Diamond\\n\\n  \\n\\n\\nQ :\\xa0**Kapan harga paket Premier League Mobile mengalami kenaikan harga ?**\\xa0\\n\\nA :\\xa0Terhitung tanggal 16 Februari 2024,\\xa0ada perubahan harga untuk pembelian paket Premier League Mobile.\\n\\n  \\n\\n\\nQ : Berapa harga paket Premier League Mobile ?\\n\\nA\\xa0:\\n\\n* Harga untuk pembelian dengan metode pembayaran Google Pay Billing, Credit Card, E-Wallet, pembelian di Mobile Browser (semua metode pembayaran kecuali pulsa)\\n\\n  \\n\\n\\n| Paket\\xa0 | Harga Tercantum di paket |\\n| Premier League Mobile | 35,000 |\\n\\n  \\n* Harga untuk pembayaran menggunakan Apple\\n\\n  \\n\\n\\n\\n\\n| Paket | Harga Tercantum di paket |\\n| Premier League Mobile | 39,000 |\\n\\n  \\n\\\\*Harga belum termasuk PPN\\xa0\\n\\n\\n\\n\\n  \\n\\n\\nQ :\\xa0**Jika saya berlangganan paket dan diperpanjang secara otomatis, berapa harga yang akan**\\n\\n**dikenakan ?**\\n\\nA :\\xa0Jika kamu masih memiliki paket aktif dan metode pembayaran kamu adalah\\xa0\\n\\n* Google Pay Billing\\n* Apple Billing\\n* Credit Card\\n* OVO\\n* ShopeePay\\n* Gopay\\n\\n  \\n\\n\\n\\xa0 \\xa0 \\xa0 Dapat menikmati harga lama hingga 15 Februari 2024.\\xa0\\n\\n  \\n\\n\\nQ\\xa0: **Jika saya memiliki paket aktif dengan metode bayar Google Pay Billing dan Apple Billing,**\\n\\n**apakah****saya akan mendapatkan informasi perubahan harga di bulan berikutnya ?**\\n\\nA\\xa0: Harga baru akan dikenakan pada 16 Maret 2024.\\xa0\\n\\n  \\n\\n\\nQ : Tayangan apa saja yang bisa disaksikan dengan paket Premier League Mobile ?\\n\\nA :\\xa0Kamu dapat menyaksikan semua tayangan EPL, Champions TV 5, dan Premier League TV\\n\\n  \\n\\n\\nQ : Apakah paket Premier League Mobile dapat digunakan pada semua perangkat ?\\n\\nA :\\xa0Tidak, paket Premier League Mobile hanya dapat digunakan pada aplikasi Vidio pada\\xa0\\n\\n\\xa0 \\xa0 \\xa0 Smartphone dan\\xa0Tablet saja\\xa0\\n\\n  \\n\\n\\n\\n\\n\\n\\n\\n\\n\\nBerapa harga yang akan dibayarkan?\\n\\n\\n# Berapa harga yang akan dibayarkan?\\n\\n\\n\\nHarga untuk pembelian dengan metode pembayaran GPB,CC, E-Wallet\\n\\n  \\n\\n\\n\\n\\n| Paket\\xa0 | Harga Tercantum di paket |\\n| Premier League Mobile | 35,000 |\\n\\n  \\n\\n\\n\\\\*Harga belum termasuk PPN\\n\\n  \\n\\n\\nHarga untuk pembayaran menggunakan Apple\\n\\n\\n\\n| Paket | Harga Tercantum di paket |\\n| Premier League Mobile | 35,000 |\\n\\n  \\n\\n\\n\\\\*Harga sudah termasuk PPN \\n\\n\\n\\n\\n\\n'"
      ]
     },
     "execution_count": 117,
     "metadata": {},
     "output_type": "execute_result"
    }
   ],
   "source": [
    "# print(information)\n",
    "information"
   ]
  }
 ],
 "metadata": {
  "kernelspec": {
   "display_name": "genai_hackathon_2024",
   "language": "python",
   "name": "python3"
  },
  "language_info": {
   "codemirror_mode": {
    "name": "ipython",
    "version": 3
   },
   "file_extension": ".py",
   "mimetype": "text/x-python",
   "name": "python",
   "nbconvert_exporter": "python",
   "pygments_lexer": "ipython3",
   "version": "3.10.12"
  }
 },
 "nbformat": 4,
 "nbformat_minor": 2
}
