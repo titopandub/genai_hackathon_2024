{
 "cells": [
  {
   "cell_type": "code",
   "execution_count": 1,
   "id": "79b12555-2afa-4306-bef3-087cebf855c6",
   "metadata": {},
   "outputs": [],
   "source": [
    "from google.cloud import aiplatform\n",
    "from vertexai.language_models import TextEmbeddingModel\n",
    "import pandas as pd\n",
    "\n",
    "aiplatform.init(\n",
    "    project='vidio-quiz-prod',\n",
    "    location='asia-southeast1',\n",
    "    staging_bucket='gs://genai_hackathon_2024',\n",
    ")"
   ]
  },
  {
   "cell_type": "code",
   "execution_count": 3,
   "id": "69b79f44-47d9-4776-b54c-ec135ba6d215",
   "metadata": {},
   "outputs": [],
   "source": [
    "model = TextEmbeddingModel.from_pretrained(\"textembedding-gecko-multilingual\")"
   ]
  },
  {
   "cell_type": "code",
   "execution_count": 10,
   "id": "34d13a10-c81f-4626-b628-42c9a32fe822",
   "metadata": {},
   "outputs": [],
   "source": [
    "def search_text(title=\"\", description=\"\", group_l1=\"\", group_l2=\"\", main_genre=\"\", genres=\"\", directors=\"\", actors=\"\", country=\"\"):\n",
    "    return f\"\"\"title: {title}\n",
    "description: {description}\n",
    "group: {group_l1} > {group_l2}\n",
    "genres: {main_genre}, {genres}\n",
    "directors: {directors}\n",
    "actors: {actors}\n",
    "country: {country}\"\"\""
   ]
  },
  {
   "cell_type": "code",
   "execution_count": 5,
   "id": "08695443",
   "metadata": {},
   "outputs": [],
   "source": [
    "def embedding_text(model, text):\n",
    "    embeddings = model.get_embeddings([text])\n",
    "    for embedding in embeddings:\n",
    "        vector = embedding.values\n",
    "        # print(f\"Length of Embedding Vector: {len(vector)}\")\n",
    "    return vector"
   ]
  },
  {
   "cell_type": "code",
   "execution_count": 6,
   "id": "c2973c6c",
   "metadata": {},
   "outputs": [],
   "source": [
    "final_df = pd.read_json('film_metadata.json', lines=True)"
   ]
  },
  {
   "cell_type": "code",
   "execution_count": 33,
   "id": "b8474c4d",
   "metadata": {},
   "outputs": [
    {
     "data": {
      "text/plain": [
       "True"
      ]
     },
     "execution_count": 33,
     "metadata": {},
     "output_type": "execute_result"
    }
   ],
   "source": [
    "from annoy import AnnoyIndex\n",
    "annoy_index = AnnoyIndex(768, 'dot')\n",
    "for index, row in final_df.iterrows():\n",
    "    annoy_index.add_item(row['id'], row['embedding'])\n",
    "annoy_index.build(10)"
   ]
  },
  {
   "cell_type": "code",
   "execution_count": 39,
   "id": "7fca6fa9",
   "metadata": {},
   "outputs": [
    {
     "name": "stdout",
     "output_type": "stream",
     "text": [
      "title: man on fire\n",
      "description: Di Mexico City, seorang mantan agen CIA bersumpah akan membalas dendam pada mereka yang melakukan tindakan tak terkatakan terhadap keluarga yang disewanya untuk dilindungi.\n",
      "group: movies > western\n",
      "genres: action, action, crime, drama, thriller\n",
      "directors: tony scott\n",
      "actors: adrian grunberg, carmen salinas, christopher walken, dakota fanning, denzel washington, gerardo taracena, marc anthony, mickey rourke, radha mitchell, stacy perskie\n",
      "country: western\n",
      "\n",
      "title: free fire\n",
      "description: Film ini bergenre action komedi, menceritan pertemuan dua kelompok gengster yang hendak melakukan transaksi jualbeli senjata. Namun karena salah satu kelompok hendak menipu kelompok yang lain maka baku tembakpun tek dapat dihindari.\n",
      "group: movies > western\n",
      "genres: crime, action, comedy, crime, drama\n",
      "directors: ben wheatley\n",
      "actors: armie hammer, brie larson, sharlto copley\n",
      "country: western\n",
      "\n",
      "title: point break\n",
      "description: Seorang agen FBI menyusup ke tim luar biasa yang terdiri dari atlet olahraga ekstrem & dicurigai mendalangi serangkaian perampokan perusahaan canggih.\n",
      "group: movies > western\n",
      "genres: action, action, adventure, crime\n",
      "directors: ericson core\n",
      "actors: edgar ramírez, luke bracey, ray winstone\n",
      "country: western\n",
      "\n",
      "title: john wick\n",
      "description: Seorang mantan pembunuh bayaran keluar dari masa pensiunnya untuk melacak para gangster yang membunuh anjingnya dan mengambil semuanya darinya.\n",
      "group: movies > western\n",
      "genres: action, action, crime, thriller\n",
      "directors: chad stahelski\n",
      "actors: alfie allen, keanu reeves, michael nyqvist\n",
      "country: western\n",
      "\n",
      "title: line of duty\n",
      "description: Seorang polisi yang dipermalukan menemukan dirinya berpacu dengan waktu untuk menemukan korban penculikan yang penculiknya dia bunuh secara tidak sengaja.\n",
      "group: movies > western\n",
      "genres: action, action, crime, drama\n",
      "directors: steven c. miller\n",
      "actors: aaron eckhart, ben mckenzie, courtney eaton, dina meyer, elijah m. cooper, giancarlo esposito, james hutchison iii, jan jeffcoat, jessica lucas\n",
      "country: western\n",
      "\n",
      "title: war\n",
      "description: Seorang agen FBI berusaha untuk membalas dendam pada pembunuh misterius yang dikenal sebagai \"Rogue\", karena ia telah membunuh rekannya. Bintang: Jet Li, Jason Statham.\n",
      "group: movies > western\n",
      "genres: action, action, crime, drama, thriller\n",
      "directors: philip g. atwell\n",
      "actors: jason statham, jet li, john lone, nadine velazquez\n",
      "country: western\n",
      "\n",
      "title: savages\n",
      "description: Kakak beradik pebisnis ganja Ben dan Chon harus berhadapan dengan kartel narkoba Meksiko yang menculik pacar mereka berdua.\n",
      "group: movies > western\n",
      "genres: action, action, adaptation, crime, drama, thriller\n",
      "directors: oliver stone\n",
      "actors: aaron taylor-johnson, blake lively, john travolta, salma hayek, taylor kitsch\n",
      "country: western\n",
      "\n",
      "title: wanted\n",
      "description: Seorang pekerja kantoran yang frustrasi menemukan bahwa dia adalah putra seorang pembunuh profesional, dan bahwa dia memiliki kemampuan membunuh super yang dimiliki ayahnya.\n",
      "group: movies > western\n",
      "genres: action, action, adaptation, crime, thriller\n",
      "directors: timur bekmambetov\n",
      "actors: angelina jolie, james mcavoy, morgan freeman, terence stamp\n",
      "country: western\n",
      "\n",
      "title: acts of violence\n",
      "description: Roman & mantan saudaranya menyelamatkan tunangannya yang diculik oleh pedagang manusia. Mereka bekerja sama dengan polisi untuk melawan birokrasi korup.\n",
      "group: movies > western\n",
      "genres: action, action, crime, thriller\n",
      "directors: brett donowho\n",
      "actors: bruce willis, cole hauser, shawn ashmore\n",
      "country: western\n",
      "\n",
      "title: xxx\n",
      "description: Seorang atlet olahraga ekstrim, Xander Cage, direkrut oleh pemerintah dalam sebuah misi khusus.\n",
      "group: movies > western\n",
      "genres: action, action, thriller\n",
      "directors: rob cohen\n",
      "actors: asia argento, deepika padukone, marton csokas, samuel l. jackson, vin diesel\n",
      "country: western\n",
      "\n"
     ]
    },
    {
     "data": {
      "text/plain": [
       "[None, None, None, None, None, None, None, None, None, None]"
      ]
     },
     "execution_count": 39,
     "metadata": {},
     "output_type": "execute_result"
    }
   ],
   "source": [
    "query_vector = embedding_text(model, \"action movies\")\n",
    "results = annoy_index.get_nns_by_vector(query_vector, 10, search_k=-1)\n",
    "[print(search_text + \"\\n\") for search_text in final_df[final_df['id'].isin(results)]['search_text'].values.tolist()]"
   ]
  },
  {
   "cell_type": "code",
   "execution_count": 40,
   "id": "1003a340",
   "metadata": {},
   "outputs": [
    {
     "name": "stdout",
     "output_type": "stream",
     "text": [
      "title: suka duka berduka\n",
      "description: Meninggalnya Rauf membuat seluruh keluarganya harus terus berkumpul untuk pemakaman dan pengajian. Konflik antara para anak, mantu, cucu dan sang ibu tiri pun mulai terungkap. Apakah mereka berhasil mendapatkan apa yang mereka masing-masing harapkan?\n",
      "group: series > vidio original\n",
      "genres: drama, comedy, drama, family, romance\n",
      "directors: andri cung,nia dinata\n",
      "actors: atiqah hasiholan, ersamayori aurora yatim, jihane almira chedid, krisjiana baharudin, luna maya, oka antara, samudra taylor, tora sudiro\n",
      "country: indonesia\n",
      "\n",
      "title: sosmed\n",
      "description: Popularitas Nadya dan Young di sosial media membuat mereka digemari. Namun, dibalik itu semua banyak problema yang tidak diketahui.\n",
      "group: series > vidio original\n",
      "genres: drama, drama, romance\n",
      "directors: pritagita arianegara\n",
      "actors: aurora ribero, bryan domani, carmela van der kruk, harris vriza, naufal samudra\n",
      "country: indonesia\n",
      "\n",
      "title: ikatan suami takut istri\n",
      "description: Toro, Ario, Zulkifli malam itu mendapat hukuman dari suami mereka masing-masing karena berbagai kesalahan, sehingga malam itu mereka harus tidur di luar rumah\n",
      "group: series > indonesia\n",
      "genres: comedy, comedy, family, romance\n",
      "directors: widi wijaya\n",
      "actors: chacha thakya, ibnu jamil\n",
      "country: indonesia\n",
      "\n",
      "title: #temantapimenikah 2\n",
      "description: Ayudia kurang puas menikmati momen sebagai istri, tapi tiba-tiba dia hamil. Kepribadiannya berubah total dan menjadi malas dan sangat sensitif.\n",
      "group: movies > indonesia\n",
      "genres: romance, adaptation, biography, comedy, drama, romance\n",
      "directors: rako prijanto\n",
      "actors: adipati dolken, mawar eva de jongh, vonny cornelia\n",
      "country: indonesia\n",
      "\n",
      "title: teman waktu kecil\n",
      "description: Bercerita tentang kenangan indah dan haru Abadan & Supriadi ketika mereka bersama di masa kecil. \n",
      "group: movies > ftv\n",
      "genres: drama, drama, family, romance\n",
      "directors: deni pusung\n",
      "actors: dicky wahyudi, teuku rifnu wikana, yati surachman, zayyan shaka\n",
      "country: indonesia\n",
      "\n",
      "title: mega series suara hati istri\n",
      "description: Yuda, Kayla & Syifa adalah 3 sahabat SMA, meski Syifa naksir Yuda, tapi Yuda menikah dengan Kayla, beberapa tahun kemudian takdir mempertemukan mereka kembali, perasaan Syifa masih sama seperti dulu. Kayla percaya Yuda setia, tapi kali ini salah. Syifa & Yuda terjebak nostalgia, bagaimana kelanjutan kisah rumah tangga Yuda & Kayla? \n",
      "group: movies > indonesia\n",
      "genres: drama, drama, romance\n",
      "directors: joe sandjaya,sam sarumpaet\n",
      "actors: georgina andrea, masayu anastasia, temmy rahadi\n",
      "country: indonesia\n",
      "\n",
      "title: jodoh yang tertukar\n",
      "description: Menceritakan tentang perseteruan antara keluarga Yani dengan keluarga Doel. Bahkan somad (Eeng Saptahadi) menjodohkan Yani (Cut Syifa) dengan Dito (Rizky Nazar yang ternyata ibunya Dito, Betari (Ria Probo) berteman dengan keluarga Yani terutama Jamillah (Ine Dewi).\n",
      "\n",
      "Mendengar Yani dijodohkan dengan Dito, Doel (Aliando Syarief) dan Ruby (Megan Domani) merusak hubungan keduanya, tetapi pada akhirnya hubungan Doel dan Ruby semakin dekat dan berjodoh.\n",
      "group: series > indonesia\n",
      "genres: drama, comedy, drama, romance\n",
      "directors: desiana larasati\n",
      "actors: aliando syarief, cut syifa, eeng saptahadi, ria probo, rizky nazar\n",
      "country: indonesia\n",
      "\n",
      "title: dilema cinta\n",
      "description: Robi dan Safira saling jatuh cinta. Namun, karena konflik keluarga mereka, perasaan mereka pun harus dibendung. \n",
      "group: series > indonesia\n",
      "genres: drama, comedy, drama, family, romance\n",
      "directors: lakonde\n",
      "actors: angga aldi yunanda, rebecca klopper\n",
      "country: indonesia\n",
      "\n",
      "title: suami-suami masa kini\n",
      "description: Persahabatan antara Yuda, Ical, Tobi dan Raka kembali diuji dengan bermacam masalah. Akankah mereka mengambil keputusan yang tepat agar hubungan pertemanan ini tetap bertahan?\n",
      "group: series > vidio original\n",
      "genres: comedy, comedy, drama, romance\n",
      "directors: ody c harahap\n",
      "actors: amanda rigby, aulia sarah, dwi sasono, marcell darwin, ringgo agus rahman, steffi zamora, tanta ginting, tarra budiman, wulan guritno\n",
      "country: indonesia\n",
      "\n",
      "title: istri istri akhir zaman\n",
      "description: Ramadhan (Dude Herlino) merupakan suami Atika (Alisya Soebandono). Ramadhan merupakan guru madrasah. Sedangkan, Atika bekerja di sebuah kantor besar.Kepada ustaz itu, ia meminta solusi. Ramadhan bertanya mengenai solusi menyikapi sikap istrinya. Sofie (Cut Meyriska) merupakan istri Edi (Roger Danuarta). Sifat dan karakter yang dimiliki Sofie serupa dengan sifat Atika. Sofie pun sibuk dengan pekerjaannya. Dan setiap hari, Sofie dan Atika pergi ke mal. Sementara, Ramadhan dan Edi selalu mengerjakan pekerjaan rumah. Bahkan, Edi harus menyetrika pakaian istrinya ketika sang istri hendak bekerja. Sementara di madrasah tempat Ramadhan bekerja, ada seorang ustazah cantik. Ustazah itu bernama Naima (Cut Syifa).\n",
      "group: series > indonesia\n",
      "genres: drama, comedy, drama, religi, romance\n",
      "directors: ucik supra\n",
      "actors: alisya soebandono, cut meyriska, cut syifa, dude herlino, muhammad rizky billar, roger danuarta\n",
      "country: indonesia\n",
      "\n"
     ]
    },
    {
     "data": {
      "text/plain": [
       "[None, None, None, None, None, None, None, None, None, None]"
      ]
     },
     "execution_count": 40,
     "metadata": {},
     "output_type": "execute_result"
    }
   ],
   "source": [
    "results = annoy_index.get_nns_by_item(4487, 10, -1)\n",
    "final_df[final_df['id'].isin(results)]\n",
    "\n",
    "[print(search_text + \"\\n\") for search_text in final_df[final_df['id'].isin(results)]['search_text'].values.tolist()]"
   ]
  },
  {
   "cell_type": "code",
   "execution_count": null,
   "id": "d4ee6e67",
   "metadata": {},
   "outputs": [],
   "source": []
  }
 ],
 "metadata": {
  "kernelspec": {
   "display_name": "Python 3 (ipykernel)",
   "language": "python",
   "name": "python3"
  },
  "language_info": {
   "codemirror_mode": {
    "name": "ipython",
    "version": 3
   },
   "file_extension": ".py",
   "mimetype": "text/x-python",
   "name": "python",
   "nbconvert_exporter": "python",
   "pygments_lexer": "ipython3",
   "version": "3.10.12"
  }
 },
 "nbformat": 4,
 "nbformat_minor": 5
}
