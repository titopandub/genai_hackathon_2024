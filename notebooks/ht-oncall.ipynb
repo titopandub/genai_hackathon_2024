{
 "cells": [
  {
   "cell_type": "code",
   "execution_count": 1,
   "metadata": {},
   "outputs": [],
   "source": [
    "import vertexai\n",
    "from vertexai.language_models import TextEmbeddingModel\n",
    "from annoy import AnnoyIndex\n",
    "import pandas as pd\n",
    "\n",
    "import requests\n",
    "import os\n",
    "from dotenv import load_dotenv\n",
    "import json\n",
    "from IPython.display import display, Markdown\n",
    "\n",
    "from langchain_google_vertexai import VertexAI\n",
    "from langchain_core.prompts import PromptTemplate\n",
    "from langchain_core.prompts import ChatPromptTemplate, PromptTemplate\n",
    "from langchain_core.output_parsers import StrOutputParser\n",
    "from langchain_core.prompts import ChatPromptTemplate\n",
    "from langchain_core.runnables import RunnableBranch\n",
    "\n",
    "load_dotenv()\n",
    "\n",
    "vertexai.init(project=\"vidio-quiz-prod\", location=\"asia-southeast1\")\n",
    "embedding_model = TextEmbeddingModel.from_pretrained(\"textembedding-gecko-multilingual\")"
   ]
  },
  {
   "cell_type": "code",
   "execution_count": 5,
   "metadata": {},
   "outputs": [
    {
     "name": "stdout",
     "output_type": "stream",
     "text": [
      "**Top Nginx referrer.keyword**\n",
      "\n",
      "\n",
      "| Rank | Keyword | Count |\n",
      "|---|---|---|\n",
      "| 1 | android-app://com.vidio.android | 265 |\n",
      "| 2 | androidtv-app://com.vidio.android.tv | 560 |\n",
      "| 3 | ios-app://com.kmk.vidio | 312 |\n",
      "| 4 | (empty) | 295 |\n",
      "| 5 | https://m.vidio.com/ | 122 |\n",
      "| 6 | https://www.vidio.com/ | 102 |\n",
      "| 7 | https://tv.vidio.com/ | 78 |\n",
      "| 8 | https://www.liputan6.com/ | 27 |\n",
      "| 9 | https://www.bola.com/ | 19 |\n",
      "| 10 | https://m.vidio.com/sw-moengage.js | 19 |\n"
     ]
    }
   ],
   "source": [
    "import csv\n",
    "csv_file_path = 'data/nginx_data.csv'\n",
    "data = \"\"\n",
    "\n",
    "with open(csv_file_path, 'r') as file:\n",
    "    # Create a CSV reader object\n",
    "    csv_reader = csv.DictReader(file)\n",
    "\n",
    "    headers = csv_reader.fieldnames\n",
    "    \n",
    "    data += ','.join(headers) + '\\n'\n",
    "    \n",
    "    i = 0\n",
    "    # Iterate over each row in the CSV file\n",
    "    # data too big, need sampling\n",
    "    for row in csv_reader:\n",
    "        if(i % 90 == 0):\n",
    "            row_str = ','.join(row.values())\n",
    "            data += row_str\n",
    "            data += \"\\n\"\n",
    "        \n",
    "        i += 1\n",
    "\n",
    "\n",
    "model = VertexAI(model_name=\"gemini-pro\")\n",
    "\n",
    "def tanya(query):\n",
    "    prompt = ChatPromptTemplate.from_template(\"\"\"\n",
    "You are an on call engineer expert at reading logs and getting summarize\n",
    "\n",
    "Here are the nginx logs:\n",
    "{data} \n",
    "\n",
    "this is the user question: {query}\n",
    "return the result as markdown\n",
    "    \"\"\")\n",
    "    output_parser = StrOutputParser()\n",
    "\n",
    "    chain = prompt | model | output_parser\n",
    "\n",
    "    result = chain.invoke({\"data\": data, \"query\": query})\n",
    "    print(result)\n",
    "\n",
    "count = (len(data))\n",
    "\n",
    "if count > 10000:\n",
    "    print(f\"TOO MANY CHARS, MAX 10.000, input: {count}\")\n",
    "else:\n",
    "    tanya(\"Summarize the data for me\")"
   ]
  }
 ],
 "metadata": {
  "kernelspec": {
   "display_name": "Python 3 (ipykernel)",
   "language": "python",
   "name": "python3"
  },
  "language_info": {
   "codemirror_mode": {
    "name": "ipython",
    "version": 3
   },
   "file_extension": ".py",
   "mimetype": "text/x-python",
   "name": "python",
   "nbconvert_exporter": "python",
   "pygments_lexer": "ipython3",
   "version": "3.11.6"
  }
 },
 "nbformat": 4,
 "nbformat_minor": 2
}
