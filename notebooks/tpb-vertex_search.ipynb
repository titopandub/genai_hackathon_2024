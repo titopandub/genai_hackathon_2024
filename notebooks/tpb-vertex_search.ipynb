{
 "cells": [
  {
   "cell_type": "code",
   "execution_count": 16,
   "metadata": {},
   "outputs": [],
   "source": [
    "import google.auth\n",
    "import google.auth.transport.requests\n",
    "import requests\n",
    "import json\n",
    "from google.cloud import aiplatform\n",
    "creds, project = google.auth.default()\n",
    "\n",
    "# creds.valid is False, and creds.token is None\n",
    "# Need to refresh credentials to populate those\n",
    "\n",
    "auth_req = google.auth.transport.requests.Request()\n",
    "creds.refresh(auth_req)\n",
    "token = creds.token\n",
    "\n",
    "aiplatform.init(\n",
    "    project='vidio-quiz-prod',\n",
    "    location='asia-southeast1',\n",
    "    staging_bucket='gs://genai_hackathon_2024',\n",
    ")\n",
    "\n",
    "model = aiplatform.Endpoint(\"7738653107357220864\")\n",
    "\n",
    "def embedding_text(model, text):\n",
    "    prediction = model.predict(instances=[{\n",
    "        \"content\": text,\n",
    "        \"task_type\": \"DEFAULT\",\n",
    "        \"title\": \"\"\n",
    "    }])\n",
    "    for embedding in prediction.predictions:\n",
    "        vector = embedding\n",
    "    return vector\n",
    "\n",
    "data_store = \"film-metadata-202403191330_1710829784824\"\n",
    "project_id = \"328583281153\"\n",
    "location = \"global\""
   ]
  },
  {
   "cell_type": "code",
   "execution_count": 54,
   "metadata": {},
   "outputs": [],
   "source": [
    "def vertex_search_http(query):\n",
    "    url = f\"https://discoveryengine.googleapis.com/v1alpha/projects/{project_id}/locations/{location}/collections/default_collection/dataStores/{data_store}/servingConfigs/default_search:search\"\n",
    "    data = {\n",
    "        \"query\": query, \n",
    "        \"pageSize\": 10,\n",
    "        # \"embeddingSpec\": {\n",
    "        #     \"embeddingVectors\": [{\n",
    "        #     \"fieldPath\": \"embedding_vector\",\n",
    "        #     \"vector\": embedding_text(model, query)\n",
    "        #     }]\n",
    "        # },\n",
    "        # \"ranking_expression\": \"1.0 * relevance_score + 0.0 * dotProduct(embedding_vector)\"\n",
    "    }\n",
    "    headers = {\"Authorization\": f\"Bearer {token}\"}\n",
    "    response = requests.post(url, json=data, headers=headers)\n",
    "    response_json = json.loads(response.text)\n",
    "    result = response_json\n",
    "    result = list(map(lambda x: x[\"document\"][\"structData\"], response_json[\"results\"]))\n",
    "    result = list(map(lambda x: {\"title\": x['title'], \"actors\": x['actors']}, result))\n",
    "\n",
    "    return result"
   ]
  },
  {
   "cell_type": "code",
   "execution_count": 55,
   "metadata": {},
   "outputs": [
    {
     "data": {
      "text/plain": [
       "[{'title': 'cinta badut cinta', 'actors': ['reza rahadian', 'sylvia fully']},\n",
       " {'title': 'terpana',\n",
       "  'actors': ['fachri albar', 'raline shah', 'reza rahadian']},\n",
       " {'title': 'jatuh cinta beneran', 'actors': ['aulia sarah', 'reza rahadian']},\n",
       " {'title': 'the gift',\n",
       "  'actors': ['ayushita', 'christine hakim', 'dion wiyoko', 'reza rahadian']},\n",
       " {'title': 'firegate',\n",
       "  'actors': ['julie estelle', 'ray sahetapy', 'reza rahadian']},\n",
       " {'title': 'saat kucing dan anjing jatuh cinta',\n",
       "  'actors': ['reza rahadian', 'sharena']},\n",
       " {'title': 'getar 2 cinta', 'actors': ['kimberly ryder', 'reza rahadian']},\n",
       " {'title': 'benyamin biang kerok',\n",
       "  'actors': ['aci resti',\n",
       "   'adjis doaibu',\n",
       "   'delia husein',\n",
       "   'meriam bellina',\n",
       "   'rano karno',\n",
       "   'reza rahadian']},\n",
       " {'title': 'kapan kawin?',\n",
       "  'actors': ['adinia wirasti',\n",
       "   'erwin cortez',\n",
       "   'feby febiola',\n",
       "   'ivanka suwandi',\n",
       "   'reza rahadian']},\n",
       " {'title': 'tenggelamnya kapal van der wijck',\n",
       "  'actors': ['gesya shandy',\n",
       "   'herjunot ali',\n",
       "   'jajang c noer',\n",
       "   'pevita pearce',\n",
       "   'reza rahadian']}]"
      ]
     },
     "execution_count": 55,
     "metadata": {},
     "output_type": "execute_result"
    }
   ],
   "source": [
    "vertex_search_http('reza rahadian')"
   ]
  },
  {
   "cell_type": "code",
   "execution_count": null,
   "metadata": {},
   "outputs": [],
   "source": []
  }
 ],
 "metadata": {
  "kernelspec": {
   "display_name": "genai_hackathon_2024",
   "language": "python",
   "name": "python3"
  },
  "language_info": {
   "codemirror_mode": {
    "name": "ipython",
    "version": 3
   },
   "file_extension": ".py",
   "mimetype": "text/x-python",
   "name": "python",
   "nbconvert_exporter": "python",
   "pygments_lexer": "ipython3",
   "version": "3.10.12"
  }
 },
 "nbformat": 4,
 "nbformat_minor": 2
}
