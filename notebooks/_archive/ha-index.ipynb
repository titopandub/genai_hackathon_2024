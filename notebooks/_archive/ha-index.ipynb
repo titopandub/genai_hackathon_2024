{
 "cells": [
  {
   "cell_type": "code",
   "execution_count": 2,
   "metadata": {},
   "outputs": [],
   "source": [
    "from google.cloud import aiplatform\n",
    "\n",
    "PROJECT_ID = \"vidio-quiz-prod\"\n",
    "REGION = \"asia-southeast1\"\n",
    "VPC_NETWORK = \"kmk-prod\"\n",
    "BUCKET_URI = \"gs://genai_hackathon_2024\"\n",
    "\n",
    "aiplatform.init(project=PROJECT_ID, location=REGION, staging_bucket=BUCKET_URI)"
   ]
  },
  {
   "cell_type": "code",
   "execution_count": 4,
   "metadata": {},
   "outputs": [
    {
     "name": "stdout",
     "output_type": "stream",
     "text": [
      "Deploying index MatchingEngineIndexEndpoint index_endpoint: projects/328583281153/locations/asia-southeast1/indexEndpoints/8923530817913749504\n",
      "Deploy index MatchingEngineIndexEndpoint index_endpoint backing LRO: projects/328583281153/locations/asia-southeast1/indexEndpoints/8923530817913749504/operations/5900589623599431680\n",
      "MatchingEngineIndexEndpoint index_endpoint Deployed index. Resource name: projects/328583281153/locations/asia-southeast1/indexEndpoints/8923530817913749504\n"
     ]
    },
    {
     "data": {
      "text/plain": [
       "<google.cloud.aiplatform.matching_engine.matching_engine_index_endpoint.MatchingEngineIndexEndpoint object at 0x7fd0f85d0250> \n",
       "resource name: projects/328583281153/locations/asia-southeast1/indexEndpoints/8923530817913749504"
      ]
     },
     "execution_count": 4,
     "metadata": {},
     "output_type": "execute_result"
    }
   ],
   "source": [
    "NEW_INDEX_NAME = \"2024_03_05\"\n",
    "DIMENSIONS = 768\n",
    "INDEX_DISPLAY_NAME = f\"film_metadata_{NEW_INDEX_NAME}\"\n",
    "EMBEDDING_DIR = f\"{BUCKET_URI}/data/film_metadata/{NEW_INDEX_NAME}/\"\n",
    "\n",
    "film_metadata_index = aiplatform.MatchingEngineIndex.create_tree_ah_index(\n",
    "    display_name=INDEX_DISPLAY_NAME,\n",
    "    contents_delta_uri=EMBEDDING_DIR,\n",
    "    dimensions=DIMENSIONS,\n",
    "    approximate_neighbors_count=10,\n",
    "    distance_measure_type=\"DOT_PRODUCT_DISTANCE\",\n",
    ")\n",
    "\n",
    "all_indexes = aiplatform.MatchingEngineIndex.list(project=PROJECT_ID, location=REGION)\n",
    "old_index = list(filter(lambda index: len(index.deployed_indexes) == 1,all_indexes))[0]\n",
    "deployed_index_endpoint = aiplatform.MatchingEngineIndexEndpoint(project=PROJECT_ID, location=REGION, index_endpoint_name=old_index.deployed_indexes[0].index_endpoint)\n",
    "\n",
    "# film_metadata_index = aiplatform.MatchingEngineIndex.list()[0]\n",
    "\n",
    "deployed_index_endpoint = aiplatform.MatchingEngineIndexEndpoint.list()[0]\n",
    "deployed_index_name = 'film_metadata'\n",
    "deployed_index_endpoint.undeploy_index(deployed_index_id=deployed_index_name)\n",
    "deployed_index_endpoint.deploy_index(deployed_index_id=deployed_index_name, index=film_metadata_index, display_name=deployed_index_name)"
   ]
  }
 ],
 "metadata": {
  "kernelspec": {
   "display_name": "genai_hackathon_2024",
   "language": "python",
   "name": "python3"
  },
  "language_info": {
   "codemirror_mode": {
    "name": "ipython",
    "version": 3
   },
   "file_extension": ".py",
   "mimetype": "text/x-python",
   "name": "python",
   "nbconvert_exporter": "python",
   "pygments_lexer": "ipython3",
   "version": "3.10.12"
  }
 },
 "nbformat": 4,
 "nbformat_minor": 2
}
