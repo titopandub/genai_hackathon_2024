{
 "cells": [
  {
   "cell_type": "code",
   "execution_count": null,
   "metadata": {},
   "outputs": [],
   "source": [
    "import vertexai\n",
    "from vertexai.language_models import TextGenerationModel, ChatModel, GroundingSource\n",
    "\n",
    "vertexai.init(project=\"vi\", location=\"us-central1\")"
   ]
  },
  {
   "cell_type": "code",
   "execution_count": null,
   "metadata": {},
   "outputs": [],
   "source": [
    "data_store_id = \"sascha-grounding\"\n",
    "vertex_location = \"global\"\n",
    "grounding_souce = GroundingSource.VertexAISearch(data_store_id=data_store_id, location=vertex_location)"
   ]
  },
  {
   "cell_type": "code",
   "execution_count": null,
   "metadata": {},
   "outputs": [],
   "source": [
    "chat_model = ChatModel.from_pretrained(\"chat-bison@001\")\n",
    "\n",
    "chat = chat_model.start_chat()\n",
    "\n",
    "response = chat.send_message(\"\"\"tell me all you know about sascha heyer\"\"\", grounding_source=grounding_souce)\n",
    "print(response.text)"
   ]
  }
 ],
 "metadata": {
  "kernelspec": {
   "display_name": "genai_hackathon_2024",
   "language": "python",
   "name": "python3"
  },
  "language_info": {
   "name": "python",
   "version": "3.10.12"
  }
 },
 "nbformat": 4,
 "nbformat_minor": 2
}
