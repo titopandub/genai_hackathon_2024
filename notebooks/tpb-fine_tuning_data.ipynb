{
 "cells": [
  {
   "cell_type": "code",
   "execution_count": 18,
   "metadata": {},
   "outputs": [],
   "source": [
    "from datetime import datetime\n",
    "import pandas as pd\n",
    "import numpy as np\n",
    "from tqdm._tqdm_notebook import tqdm_notebook\n",
    "\n",
    "tqdm_notebook.pandas()\n",
    "now = datetime.now()\n",
    "formatted_date_time = now.strftime('%Y%m%d_%H%M')"
   ]
  },
  {
   "cell_type": "code",
   "execution_count": 19,
   "metadata": {},
   "outputs": [],
   "source": [
    "def preprocess_film_metadata(df):\n",
    "    df.fillna('', inplace=True)\n",
    "    df['id'] = df['id'].astype(str)\n",
    "    df['title'] = df['film_title'].str.lower()\n",
    "    df['group_l1'] = df['group_name_l1'].str.lower()\n",
    "    df['group_l2'] = df['group_name_l2'].str.lower()\n",
    "    df['genres'] = df['film_genres'].apply(lambda x: ', '.join(x.split(',')))\n",
    "    df['actors'] = df['film_actors'].apply(lambda x: ', '.join(x.split(',')))\n",
    "    df['directors'] = df['film_directors'].apply(lambda x: ', '.join(x.split(',')))\n",
    "    df.loc[df['actors'] == \"various\", 'actors'] = \"\"\n",
    "    df['country'] = df['country_group'].str.lower()\n",
    "    df['total_watchers'] = df['total_watchers'].astype('int')\n",
    "    df['release_date'] = df['release_date'].str.replace(\" 00:00:00\", \"\")\n",
    "    df['release_year'] = df['release_date'].apply(lambda x: datetime.strptime(str(x), \"%Y-%m-%d\").year if x != '' else '')\n",
    "\n",
    "    def popularity(total_watchers):\n",
    "        if total_watchers >= 50000:\n",
    "            return \"trending\"\n",
    "        elif total_watchers < 50000 and total_watchers >= 500:\n",
    "            return \"average\"\n",
    "        else:\n",
    "            return \"below average\"\n",
    "\n",
    "    df['popularity'] = df['total_watchers'].apply(lambda x: popularity(x))\n",
    "    search_text_columns = ['title', 'description', 'group_l1', 'group_l2', 'film_main_genre', 'genres', 'directors', 'actors', 'country', 'release_year', 'age_rating', 'popularity']\n",
    "    df['search_text'] = df[search_text_columns].apply(lambda row: search_text(*row), axis=1)\n",
    "    df = df.loc[:,~df.columns.duplicated()]\n",
    "    df.drop(columns=['film_title', 'group_name_l1', 'group_name_l2', 'film_main_genre', 'film_genres', 'film_directors', 'film_actors', 'country_group'], inplace=True)\n",
    "    return df\n",
    "\n",
    "\n",
    "def search_text(title, description, group_l1, group_l2, main_genre, genres, directors, actors, country, release_year, age_rating, popularity):\n",
    "    return f\"\"\"title: {title}\n",
    "description: {description}\n",
    "group: {group_l1} > {group_l2}\n",
    "genres: {main_genre}, {genres}\n",
    "directors: {directors}\n",
    "actors: {actors}\n",
    "country: {country}\n",
    "release year: {release_year}\n",
    "age rating: {age_rating}\n",
    "popularity: {popularity}\"\"\""
   ]
  },
  {
   "cell_type": "code",
   "execution_count": 20,
   "metadata": {},
   "outputs": [
    {
     "name": "stderr",
     "output_type": "stream",
     "text": [
      "/home/tito/.venv/genai_hackathon_2024/lib/python3.10/site-packages/openpyxl/styles/stylesheet.py:226: UserWarning: Workbook contains no default style, apply openpyxl's default\n",
      "  warn(\"Workbook contains no default style, apply openpyxl's default\")\n",
      "/home/tito/.venv/genai_hackathon_2024/lib/python3.10/site-packages/openpyxl/styles/stylesheet.py:226: UserWarning: Workbook contains no default style, apply openpyxl's default\n",
      "  warn(\"Workbook contains no default style, apply openpyxl's default\")\n"
     ]
    }
   ],
   "source": [
    "search_df = pd.read_excel('data/search_ground_truth.xlsx')\n",
    "film_df = pd.read_excel('data/film_metadata.xlsx', converters={'release_date':str})"
   ]
  },
  {
   "cell_type": "code",
   "execution_count": 21,
   "metadata": {},
   "outputs": [],
   "source": [
    "film_df = preprocess_film_metadata(film_df)"
   ]
  },
  {
   "cell_type": "code",
   "execution_count": 22,
   "metadata": {},
   "outputs": [
    {
     "data": {
      "text/html": [
       "<div>\n",
       "<style scoped>\n",
       "    .dataframe tbody tr th:only-of-type {\n",
       "        vertical-align: middle;\n",
       "    }\n",
       "\n",
       "    .dataframe tbody tr th {\n",
       "        vertical-align: top;\n",
       "    }\n",
       "\n",
       "    .dataframe thead th {\n",
       "        text-align: right;\n",
       "    }\n",
       "</style>\n",
       "<table border=\"1\" class=\"dataframe\">\n",
       "  <thead>\n",
       "    <tr style=\"text-align: right;\">\n",
       "      <th></th>\n",
       "      <th>id</th>\n",
       "      <th>description</th>\n",
       "      <th>release_date</th>\n",
       "      <th>total_watchers</th>\n",
       "      <th>age_rating</th>\n",
       "      <th>image_portrait</th>\n",
       "      <th>content_url</th>\n",
       "      <th>image_url</th>\n",
       "      <th>title</th>\n",
       "      <th>group_l1</th>\n",
       "      <th>group_l2</th>\n",
       "      <th>genres</th>\n",
       "      <th>actors</th>\n",
       "      <th>directors</th>\n",
       "      <th>country</th>\n",
       "      <th>release_year</th>\n",
       "      <th>popularity</th>\n",
       "      <th>search_text</th>\n",
       "    </tr>\n",
       "  </thead>\n",
       "  <tbody>\n",
       "    <tr>\n",
       "      <th>0</th>\n",
       "      <td>7617</td>\n",
       "      <td>Menceritakan kisah seorang gadis bernama Sakin...</td>\n",
       "      <td>2023-03-13</td>\n",
       "      <td>294965</td>\n",
       "      <td>13 or more</td>\n",
       "      <td>bidadari-surgamu-2bbb68.jpg</td>\n",
       "      <td>https://www.vidio.com/premier/7617</td>\n",
       "      <td>https://thumbor.prod.vidiocdn.com/JxL1jUZmTFdc...</td>\n",
       "      <td>bidadari surgamu</td>\n",
       "      <td>series</td>\n",
       "      <td>tv sinetron</td>\n",
       "      <td>drama, family, religi, romance</td>\n",
       "      <td>josephine firmstone, michelle joan, rizky naza...</td>\n",
       "      <td>anurag vaishnav</td>\n",
       "      <td>indonesia</td>\n",
       "      <td>2023</td>\n",
       "      <td>trending</td>\n",
       "      <td>title: bidadari surgamu\\ndescription: Mencerit...</td>\n",
       "    </tr>\n",
       "    <tr>\n",
       "      <th>1</th>\n",
       "      <td>7576</td>\n",
       "      <td>Naura (Basmalah), Rahsya (Raden Rakha), Adara ...</td>\n",
       "      <td>2023-02-23</td>\n",
       "      <td>269774</td>\n",
       "      <td>13 or more</td>\n",
       "      <td>magic-5-def33f.jpg</td>\n",
       "      <td>https://www.vidio.com/premier/7576</td>\n",
       "      <td>https://thumbor.prod.vidiocdn.com/kha0tcadN-wD...</td>\n",
       "      <td>magic 5</td>\n",
       "      <td>series</td>\n",
       "      <td>tv sinetron</td>\n",
       "      <td>drama, fantasy, friendship</td>\n",
       "      <td>afan da5, basmalah, eby da 5, raden rakha, sri...</td>\n",
       "      <td>a. septian, bobby moeryawan, sondang pratama, ...</td>\n",
       "      <td>indonesia</td>\n",
       "      <td>2023</td>\n",
       "      <td>trending</td>\n",
       "      <td>title: magic 5\\ndescription: Naura (Basmalah),...</td>\n",
       "    </tr>\n",
       "  </tbody>\n",
       "</table>\n",
       "</div>"
      ],
      "text/plain": [
       "     id                                        description release_date  \\\n",
       "0  7617  Menceritakan kisah seorang gadis bernama Sakin...   2023-03-13   \n",
       "1  7576  Naura (Basmalah), Rahsya (Raden Rakha), Adara ...   2023-02-23   \n",
       "\n",
       "   total_watchers  age_rating               image_portrait  \\\n",
       "0          294965  13 or more  bidadari-surgamu-2bbb68.jpg   \n",
       "1          269774  13 or more           magic-5-def33f.jpg   \n",
       "\n",
       "                          content_url  \\\n",
       "0  https://www.vidio.com/premier/7617   \n",
       "1  https://www.vidio.com/premier/7576   \n",
       "\n",
       "                                           image_url             title  \\\n",
       "0  https://thumbor.prod.vidiocdn.com/JxL1jUZmTFdc...  bidadari surgamu   \n",
       "1  https://thumbor.prod.vidiocdn.com/kha0tcadN-wD...           magic 5   \n",
       "\n",
       "  group_l1     group_l2                          genres  \\\n",
       "0   series  tv sinetron  drama, family, religi, romance   \n",
       "1   series  tv sinetron      drama, fantasy, friendship   \n",
       "\n",
       "                                              actors  \\\n",
       "0  josephine firmstone, michelle joan, rizky naza...   \n",
       "1  afan da5, basmalah, eby da 5, raden rakha, sri...   \n",
       "\n",
       "                                           directors    country release_year  \\\n",
       "0                                    anurag vaishnav  indonesia         2023   \n",
       "1  a. septian, bobby moeryawan, sondang pratama, ...  indonesia         2023   \n",
       "\n",
       "  popularity                                        search_text  \n",
       "0   trending  title: bidadari surgamu\\ndescription: Mencerit...  \n",
       "1   trending  title: magic 5\\ndescription: Naura (Basmalah),...  "
      ]
     },
     "execution_count": 22,
     "metadata": {},
     "output_type": "execute_result"
    }
   ],
   "source": [
    "film_df.head(2)"
   ]
  },
  {
   "cell_type": "code",
   "execution_count": 23,
   "metadata": {},
   "outputs": [],
   "source": [
    "joined_df = search_df.merge(film_df[['id', 'search_text']], left_on='query', right_on='id', how='left')\n",
    "joined_df.drop(columns=['id'], inplace=True)\n",
    "joined_df['search_text'] = np.where(joined_df['query_type'] == 'search', joined_df['query'], joined_df['search_text'])\n",
    "joined_df['query'] = joined_df['query'].str.replace(' ', '_')\n",
    "joined_df = joined_df.dropna(subset=['search_text'])"
   ]
  },
  {
   "cell_type": "code",
   "execution_count": 24,
   "metadata": {},
   "outputs": [
    {
     "data": {
      "text/html": [
       "<div>\n",
       "<style scoped>\n",
       "    .dataframe tbody tr th:only-of-type {\n",
       "        vertical-align: middle;\n",
       "    }\n",
       "\n",
       "    .dataframe tbody tr th {\n",
       "        vertical-align: top;\n",
       "    }\n",
       "\n",
       "    .dataframe thead th {\n",
       "        text-align: right;\n",
       "    }\n",
       "</style>\n",
       "<table border=\"1\" class=\"dataframe\">\n",
       "  <thead>\n",
       "    <tr style=\"text-align: right;\">\n",
       "      <th></th>\n",
       "      <th>query</th>\n",
       "      <th>query_type</th>\n",
       "      <th>content_id</th>\n",
       "      <th>total_click</th>\n",
       "      <th>position</th>\n",
       "      <th>score</th>\n",
       "      <th>search_text</th>\n",
       "    </tr>\n",
       "  </thead>\n",
       "  <tbody>\n",
       "  </tbody>\n",
       "</table>\n",
       "</div>"
      ],
      "text/plain": [
       "Empty DataFrame\n",
       "Columns: [query, query_type, content_id, total_click, position, score, search_text]\n",
       "Index: []"
      ]
     },
     "execution_count": 24,
     "metadata": {},
     "output_type": "execute_result"
    }
   ],
   "source": [
    "joined_df[joined_df['search_text'].isna()]"
   ]
  },
  {
   "cell_type": "code",
   "execution_count": 25,
   "metadata": {},
   "outputs": [
    {
     "name": "stderr",
     "output_type": "stream",
     "text": [
      "/tmp/ipykernel_2075106/4128656897.py:2: SettingWithCopyWarning: \n",
      "A value is trying to be set on a copy of a slice from a DataFrame\n",
      "\n",
      "See the caveats in the documentation: https://pandas.pydata.org/pandas-docs/stable/user_guide/indexing.html#returning-a-view-versus-a-copy\n",
      "  corpus_df.rename(columns={'id': '_id', 'search_text': 'text'}, inplace=True)\n"
     ]
    },
    {
     "data": {
      "text/html": [
       "<div>\n",
       "<style scoped>\n",
       "    .dataframe tbody tr th:only-of-type {\n",
       "        vertical-align: middle;\n",
       "    }\n",
       "\n",
       "    .dataframe tbody tr th {\n",
       "        vertical-align: top;\n",
       "    }\n",
       "\n",
       "    .dataframe thead th {\n",
       "        text-align: right;\n",
       "    }\n",
       "</style>\n",
       "<table border=\"1\" class=\"dataframe\">\n",
       "  <thead>\n",
       "    <tr style=\"text-align: right;\">\n",
       "      <th></th>\n",
       "      <th>_id</th>\n",
       "      <th>title</th>\n",
       "      <th>text</th>\n",
       "    </tr>\n",
       "  </thead>\n",
       "  <tbody>\n",
       "    <tr>\n",
       "      <th>2705</th>\n",
       "      <td>5004</td>\n",
       "      <td>suami yang mudah berpaling dari istrinya</td>\n",
       "      <td>title: suami yang mudah berpaling dari istriny...</td>\n",
       "    </tr>\n",
       "    <tr>\n",
       "      <th>2633</th>\n",
       "      <td>2831</td>\n",
       "      <td>cinta nabrak tukang ketoprak</td>\n",
       "      <td>title: cinta nabrak tukang ketoprak\\ndescripti...</td>\n",
       "    </tr>\n",
       "  </tbody>\n",
       "</table>\n",
       "</div>"
      ],
      "text/plain": [
       "       _id                                     title  \\\n",
       "2705  5004  suami yang mudah berpaling dari istrinya   \n",
       "2633  2831              cinta nabrak tukang ketoprak   \n",
       "\n",
       "                                                   text  \n",
       "2705  title: suami yang mudah berpaling dari istriny...  \n",
       "2633  title: cinta nabrak tukang ketoprak\\ndescripti...  "
      ]
     },
     "execution_count": 25,
     "metadata": {},
     "output_type": "execute_result"
    }
   ],
   "source": [
    "corpus_df = film_df[['id', 'title', 'search_text']]\n",
    "corpus_df.rename(columns={'id': '_id', 'search_text': 'text'}, inplace=True)\n",
    "corpus_df.sample(2)"
   ]
  },
  {
   "cell_type": "code",
   "execution_count": 26,
   "metadata": {},
   "outputs": [
    {
     "name": "stderr",
     "output_type": "stream",
     "text": [
      "/tmp/ipykernel_2075106/131488296.py:2: SettingWithCopyWarning: \n",
      "A value is trying to be set on a copy of a slice from a DataFrame\n",
      "\n",
      "See the caveats in the documentation: https://pandas.pydata.org/pandas-docs/stable/user_guide/indexing.html#returning-a-view-versus-a-copy\n",
      "  query_df.rename(columns={'query': '_id', 'search_text': 'text'}, inplace=True)\n"
     ]
    },
    {
     "data": {
      "text/html": [
       "<div>\n",
       "<style scoped>\n",
       "    .dataframe tbody tr th:only-of-type {\n",
       "        vertical-align: middle;\n",
       "    }\n",
       "\n",
       "    .dataframe tbody tr th {\n",
       "        vertical-align: top;\n",
       "    }\n",
       "\n",
       "    .dataframe thead th {\n",
       "        text-align: right;\n",
       "    }\n",
       "</style>\n",
       "<table border=\"1\" class=\"dataframe\">\n",
       "  <thead>\n",
       "    <tr style=\"text-align: right;\">\n",
       "      <th></th>\n",
       "      <th>_id</th>\n",
       "      <th>text</th>\n",
       "    </tr>\n",
       "  </thead>\n",
       "  <tbody>\n",
       "    <tr>\n",
       "      <th>12562</th>\n",
       "      <td>pertaruhan</td>\n",
       "      <td>pertaruhan</td>\n",
       "    </tr>\n",
       "  </tbody>\n",
       "</table>\n",
       "</div>"
      ],
      "text/plain": [
       "              _id        text\n",
       "12562  pertaruhan  pertaruhan"
      ]
     },
     "execution_count": 26,
     "metadata": {},
     "output_type": "execute_result"
    }
   ],
   "source": [
    "query_df = joined_df[['query', 'search_text']]\n",
    "query_df.rename(columns={'query': '_id', 'search_text': 'text'}, inplace=True)\n",
    "query_df = query_df.drop_duplicates()\n",
    "query_df = query_df.dropna()\n",
    "query_df[query_df['_id'] == 'pertaruhan'].head()"
   ]
  },
  {
   "cell_type": "code",
   "execution_count": 27,
   "metadata": {},
   "outputs": [
    {
     "name": "stderr",
     "output_type": "stream",
     "text": [
      "/tmp/ipykernel_2075106/387614606.py:2: SettingWithCopyWarning: \n",
      "A value is trying to be set on a copy of a slice from a DataFrame\n",
      "\n",
      "See the caveats in the documentation: https://pandas.pydata.org/pandas-docs/stable/user_guide/indexing.html#returning-a-view-versus-a-copy\n",
      "  training_test_df.rename(columns={'query': 'query-id', 'content_id': 'corpus-id'}, inplace=True)\n",
      "/tmp/ipykernel_2075106/387614606.py:4: SettingWithCopyWarning: \n",
      "A value is trying to be set on a copy of a slice from a DataFrame.\n",
      "Try using .loc[row_indexer,col_indexer] = value instead\n",
      "\n",
      "See the caveats in the documentation: https://pandas.pydata.org/pandas-docs/stable/user_guide/indexing.html#returning-a-view-versus-a-copy\n",
      "  training_test_df['corpus-id'] = training_test_df['corpus-id'].astype(str)\n"
     ]
    },
    {
     "data": {
      "text/html": [
       "<div>\n",
       "<style scoped>\n",
       "    .dataframe tbody tr th:only-of-type {\n",
       "        vertical-align: middle;\n",
       "    }\n",
       "\n",
       "    .dataframe tbody tr th {\n",
       "        vertical-align: top;\n",
       "    }\n",
       "\n",
       "    .dataframe thead th {\n",
       "        text-align: right;\n",
       "    }\n",
       "</style>\n",
       "<table border=\"1\" class=\"dataframe\">\n",
       "  <thead>\n",
       "    <tr style=\"text-align: right;\">\n",
       "      <th></th>\n",
       "      <th>query-id</th>\n",
       "      <th>corpus-id</th>\n",
       "      <th>score</th>\n",
       "    </tr>\n",
       "  </thead>\n",
       "  <tbody>\n",
       "    <tr>\n",
       "      <th>11054</th>\n",
       "      <td>film_suster_el</td>\n",
       "      <td>4232</td>\n",
       "      <td>1</td>\n",
       "    </tr>\n",
       "    <tr>\n",
       "      <th>10999</th>\n",
       "      <td>film_kartun</td>\n",
       "      <td>5380</td>\n",
       "      <td>3</td>\n",
       "    </tr>\n",
       "    <tr>\n",
       "      <th>2436</th>\n",
       "      <td>319</td>\n",
       "      <td>710</td>\n",
       "      <td>5</td>\n",
       "    </tr>\n",
       "    <tr>\n",
       "      <th>4377</th>\n",
       "      <td>5342</td>\n",
       "      <td>4490</td>\n",
       "      <td>4</td>\n",
       "    </tr>\n",
       "    <tr>\n",
       "      <th>2976</th>\n",
       "      <td>3902</td>\n",
       "      <td>4073</td>\n",
       "      <td>4</td>\n",
       "    </tr>\n",
       "    <tr>\n",
       "      <th>1022</th>\n",
       "      <td>1967</td>\n",
       "      <td>519</td>\n",
       "      <td>2</td>\n",
       "    </tr>\n",
       "    <tr>\n",
       "      <th>3993</th>\n",
       "      <td>5026</td>\n",
       "      <td>4373</td>\n",
       "      <td>1</td>\n",
       "    </tr>\n",
       "    <tr>\n",
       "      <th>9830</th>\n",
       "      <td>anak_sekolahan</td>\n",
       "      <td>1397</td>\n",
       "      <td>2</td>\n",
       "    </tr>\n",
       "    <tr>\n",
       "      <th>13489</th>\n",
       "      <td>teuku_ryan</td>\n",
       "      <td>9607</td>\n",
       "      <td>1</td>\n",
       "    </tr>\n",
       "    <tr>\n",
       "      <th>4283</th>\n",
       "      <td>5270</td>\n",
       "      <td>5264</td>\n",
       "      <td>1</td>\n",
       "    </tr>\n",
       "  </tbody>\n",
       "</table>\n",
       "</div>"
      ],
      "text/plain": [
       "             query-id corpus-id  score\n",
       "11054  film_suster_el      4232      1\n",
       "10999     film_kartun      5380      3\n",
       "2436              319       710      5\n",
       "4377             5342      4490      4\n",
       "2976             3902      4073      4\n",
       "1022             1967       519      2\n",
       "3993             5026      4373      1\n",
       "9830   anak_sekolahan      1397      2\n",
       "13489      teuku_ryan      9607      1\n",
       "4283             5270      5264      1"
      ]
     },
     "execution_count": 27,
     "metadata": {},
     "output_type": "execute_result"
    }
   ],
   "source": [
    "training_test_df = joined_df[['query', 'content_id', 'score']]\n",
    "training_test_df.rename(columns={'query': 'query-id', 'content_id': 'corpus-id'}, inplace=True)\n",
    "training_test_df.dropna()\n",
    "training_test_df['corpus-id'] = training_test_df['corpus-id'].astype(str)\n",
    "training_test_df.sample(10)"
   ]
  },
  {
   "cell_type": "code",
   "execution_count": 28,
   "metadata": {},
   "outputs": [
    {
     "data": {
      "text/html": [
       "<div>\n",
       "<style scoped>\n",
       "    .dataframe tbody tr th:only-of-type {\n",
       "        vertical-align: middle;\n",
       "    }\n",
       "\n",
       "    .dataframe tbody tr th {\n",
       "        vertical-align: top;\n",
       "    }\n",
       "\n",
       "    .dataframe thead th {\n",
       "        text-align: right;\n",
       "    }\n",
       "</style>\n",
       "<table border=\"1\" class=\"dataframe\">\n",
       "  <thead>\n",
       "    <tr style=\"text-align: right;\">\n",
       "      <th></th>\n",
       "      <th>query-id</th>\n",
       "      <th>corpus-id</th>\n",
       "      <th>score</th>\n",
       "    </tr>\n",
       "  </thead>\n",
       "  <tbody>\n",
       "    <tr>\n",
       "      <th>0</th>\n",
       "      <td>1003</td>\n",
       "      <td>1027</td>\n",
       "      <td>5</td>\n",
       "    </tr>\n",
       "    <tr>\n",
       "      <th>1</th>\n",
       "      <td>1003</td>\n",
       "      <td>831</td>\n",
       "      <td>4</td>\n",
       "    </tr>\n",
       "    <tr>\n",
       "      <th>2</th>\n",
       "      <td>1003</td>\n",
       "      <td>1559</td>\n",
       "      <td>3</td>\n",
       "    </tr>\n",
       "    <tr>\n",
       "      <th>3</th>\n",
       "      <td>1003</td>\n",
       "      <td>2415</td>\n",
       "      <td>2</td>\n",
       "    </tr>\n",
       "    <tr>\n",
       "      <th>4</th>\n",
       "      <td>1003</td>\n",
       "      <td>1299</td>\n",
       "      <td>1</td>\n",
       "    </tr>\n",
       "  </tbody>\n",
       "</table>\n",
       "</div>"
      ],
      "text/plain": [
       "  query-id corpus-id  score\n",
       "0     1003      1027      5\n",
       "1     1003       831      4\n",
       "2     1003      1559      3\n",
       "3     1003      2415      2\n",
       "4     1003      1299      1"
      ]
     },
     "execution_count": 28,
     "metadata": {},
     "output_type": "execute_result"
    }
   ],
   "source": [
    "merged_df = pd.merge(training_test_df, corpus_df, left_on='corpus-id', right_on='_id', how='inner')\n",
    "merged_df.drop(columns=['_id', 'title', 'text'], inplace=True)\n",
    "merged_df.head()"
   ]
  },
  {
   "cell_type": "code",
   "execution_count": 29,
   "metadata": {},
   "outputs": [],
   "source": [
    "from sklearn.model_selection import train_test_split\n",
    "\n",
    "train_df, test_df = train_test_split(merged_df, test_size=0.2, random_state=42)"
   ]
  },
  {
   "cell_type": "code",
   "execution_count": 30,
   "metadata": {},
   "outputs": [
    {
     "data": {
      "text/html": [
       "<div>\n",
       "<style scoped>\n",
       "    .dataframe tbody tr th:only-of-type {\n",
       "        vertical-align: middle;\n",
       "    }\n",
       "\n",
       "    .dataframe tbody tr th {\n",
       "        vertical-align: top;\n",
       "    }\n",
       "\n",
       "    .dataframe thead th {\n",
       "        text-align: right;\n",
       "    }\n",
       "</style>\n",
       "<table border=\"1\" class=\"dataframe\">\n",
       "  <thead>\n",
       "    <tr style=\"text-align: right;\">\n",
       "      <th></th>\n",
       "      <th>query-id</th>\n",
       "      <th>corpus-id</th>\n",
       "      <th>score</th>\n",
       "    </tr>\n",
       "  </thead>\n",
       "  <tbody>\n",
       "    <tr>\n",
       "      <th>12936</th>\n",
       "      <td>siapa</td>\n",
       "      <td>479</td>\n",
       "      <td>1</td>\n",
       "    </tr>\n",
       "    <tr>\n",
       "      <th>10720</th>\n",
       "      <td>everest</td>\n",
       "      <td>7882</td>\n",
       "      <td>1</td>\n",
       "    </tr>\n",
       "    <tr>\n",
       "      <th>11567</th>\n",
       "      <td>ketos</td>\n",
       "      <td>3245</td>\n",
       "      <td>1</td>\n",
       "    </tr>\n",
       "    <tr>\n",
       "      <th>4159</th>\n",
       "      <td>5250</td>\n",
       "      <td>4003</td>\n",
       "      <td>5</td>\n",
       "    </tr>\n",
       "    <tr>\n",
       "      <th>6686</th>\n",
       "      <td>7647</td>\n",
       "      <td>1407</td>\n",
       "      <td>5</td>\n",
       "    </tr>\n",
       "  </tbody>\n",
       "</table>\n",
       "</div>"
      ],
      "text/plain": [
       "      query-id corpus-id  score\n",
       "12936    siapa       479      1\n",
       "10720  everest      7882      1\n",
       "11567    ketos      3245      1\n",
       "4159      5250      4003      5\n",
       "6686      7647      1407      5"
      ]
     },
     "execution_count": 30,
     "metadata": {},
     "output_type": "execute_result"
    }
   ],
   "source": [
    "train_df.sample(5)"
   ]
  },
  {
   "cell_type": "code",
   "execution_count": 31,
   "metadata": {},
   "outputs": [
    {
     "data": {
      "text/html": [
       "<div>\n",
       "<style scoped>\n",
       "    .dataframe tbody tr th:only-of-type {\n",
       "        vertical-align: middle;\n",
       "    }\n",
       "\n",
       "    .dataframe tbody tr th {\n",
       "        vertical-align: top;\n",
       "    }\n",
       "\n",
       "    .dataframe thead th {\n",
       "        text-align: right;\n",
       "    }\n",
       "</style>\n",
       "<table border=\"1\" class=\"dataframe\">\n",
       "  <thead>\n",
       "    <tr style=\"text-align: right;\">\n",
       "      <th></th>\n",
       "      <th>query-id</th>\n",
       "      <th>corpus-id</th>\n",
       "      <th>score</th>\n",
       "    </tr>\n",
       "  </thead>\n",
       "  <tbody>\n",
       "    <tr>\n",
       "      <th>3058</th>\n",
       "      <td>4021</td>\n",
       "      <td>1956</td>\n",
       "      <td>4</td>\n",
       "    </tr>\n",
       "    <tr>\n",
       "      <th>11921</th>\n",
       "      <td>majic_5</td>\n",
       "      <td>7576</td>\n",
       "      <td>2</td>\n",
       "    </tr>\n",
       "    <tr>\n",
       "      <th>10494</th>\n",
       "      <td>diantara_dua_cinta</td>\n",
       "      <td>8928</td>\n",
       "      <td>5</td>\n",
       "    </tr>\n",
       "    <tr>\n",
       "      <th>9081</th>\n",
       "      <td>9494</td>\n",
       "      <td>8264</td>\n",
       "      <td>3</td>\n",
       "    </tr>\n",
       "    <tr>\n",
       "      <th>884</th>\n",
       "      <td>1885</td>\n",
       "      <td>6640</td>\n",
       "      <td>2</td>\n",
       "    </tr>\n",
       "  </tbody>\n",
       "</table>\n",
       "</div>"
      ],
      "text/plain": [
       "                 query-id corpus-id  score\n",
       "3058                 4021      1956      4\n",
       "11921             majic_5      7576      2\n",
       "10494  diantara_dua_cinta      8928      5\n",
       "9081                 9494      8264      3\n",
       "884                  1885      6640      2"
      ]
     },
     "execution_count": 31,
     "metadata": {},
     "output_type": "execute_result"
    }
   ],
   "source": [
    "test_df.sample(5)"
   ]
  },
  {
   "cell_type": "code",
   "execution_count": 32,
   "metadata": {},
   "outputs": [],
   "source": [
    "corpus_df.to_json(f\"data/{formatted_date_time}_corpus.json\", orient='records', lines=True)\n",
    "query_df.to_json(f\"data/{formatted_date_time}_query.json\", orient='records', lines=True)\n",
    "train_df.to_csv(f\"data/{formatted_date_time}_train.tsv\", sep='\\t', index=False)\n",
    "test_df.to_csv(f\"data/{formatted_date_time}_test.tsv\", sep='\\t', index=False)"
   ]
  },
  {
   "cell_type": "code",
   "execution_count": 35,
   "metadata": {},
   "outputs": [
    {
     "data": {
      "application/vnd.jupyter.widget-view+json": {
       "model_id": "baacd961713449debfd04e8932a71843",
       "version_major": 2,
       "version_minor": 0
      },
      "text/plain": [
       "  0%|          | 0/13769 [00:00<?, ?it/s]"
      ]
     },
     "metadata": {},
     "output_type": "display_data"
    }
   ],
   "source": [
    "trial_df = joined_df\n",
    "trial_df.dropna(inplace=True)\n",
    "trial_df['token_count'] = trial_df['search_text'].str.split().progress_apply(len)"
   ]
  },
  {
   "cell_type": "code",
   "execution_count": 36,
   "metadata": {},
   "outputs": [
    {
     "data": {
      "text/plain": [
       "742697"
      ]
     },
     "execution_count": 36,
     "metadata": {},
     "output_type": "execute_result"
    }
   ],
   "source": [
    "trial_df['token_count'].sum()"
   ]
  }
 ],
 "metadata": {
  "kernelspec": {
   "display_name": "genai_hackathon_2024",
   "language": "python",
   "name": "python3"
  },
  "language_info": {
   "codemirror_mode": {
    "name": "ipython",
    "version": 3
   },
   "file_extension": ".py",
   "mimetype": "text/x-python",
   "name": "python",
   "nbconvert_exporter": "python",
   "pygments_lexer": "ipython3",
   "version": "3.10.12"
  }
 },
 "nbformat": 4,
 "nbformat_minor": 2
}
