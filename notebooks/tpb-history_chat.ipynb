{
 "cells": [
  {
   "cell_type": "code",
   "execution_count": 1,
   "id": "9fa5b397-d14f-4873-a0cd-4ebd8d1f3199",
   "metadata": {},
   "outputs": [
    {
     "name": "stderr",
     "output_type": "stream",
     "text": [
      "/tmp/ipykernel_2639685/697926753.py:3: TqdmDeprecationWarning: This function will be removed in tqdm==5.0.0\n",
      "Please use `tqdm.notebook.*` instead of `tqdm._tqdm_notebook.*`\n",
      "  from tqdm._tqdm_notebook import tqdm_notebook\n"
     ]
    }
   ],
   "source": [
    "import pandas as pd\n",
    "from google.cloud import aiplatform\n",
    "from tqdm._tqdm_notebook import tqdm_notebook\n",
    "\n",
    "aiplatform.init(\n",
    "    project='vidio-quiz-prod',\n",
    "    location='asia-southeast1',\n",
    "    staging_bucket='gs://genai_hackathon_2024',\n",
    ")\n",
    "model = aiplatform.Endpoint(\"7738653107357220864\")\n",
    "tqdm_notebook.pandas()\n",
    "\n",
    "def embedding_text(model, text):\n",
    "    prediction = model.predict(instances=[{\n",
    "        \"content\": text,\n",
    "        \"task_type\": \"DEFAULT\",\n",
    "        \"title\": \"\"\n",
    "    }])\n",
    "    for embedding in prediction.predictions:\n",
    "        vector = embedding\n",
    "    return vector"
   ]
  },
  {
   "cell_type": "code",
   "execution_count": 85,
   "id": "34ad9984",
   "metadata": {},
   "outputs": [],
   "source": [
    "from langchain_google_vertexai import VertexAI\n",
    "from langchain_core.output_parsers import StrOutputParser\n",
    "from langchain_core.prompts import PromptTemplate\n",
    "\n",
    "model = VertexAI(model_name=\"gemini-pro\")\n",
    "\n",
    "route_chain = (\n",
    "    PromptTemplate.from_template(\n",
    "        \"\"\"\n",
    "You are chatbot for Vidio OTT platform        \n",
    "Given the user question below, classify it as either being about `customer service`, recommendation`, or `other`.\n",
    "\n",
    "Do not respond with more than one word.\n",
    "\n",
    "<user_query>\n",
    "{user_query}\n",
    "</user_query>\n",
    "\n",
    "Classification:\n",
    "\"\"\"\n",
    "    ) | model | StrOutputParser() \n",
    ") \n",
    "\n",
    "def route(user_query):\n",
    "    return route_chain.invoke({\"user_query\": user_query})\n",
    "\n",
    "template_general = \"\"\"Given a user's query on any topic, use your extensive database and understanding of various subjects to provide a clear, accurate, and helpful answer.\n",
    "Prioritize directness and relevance in your response, ensuring it is informative and accessible to the user. If the question falls outside your expertise, offer guidance on where or how they might find the desired information.\n",
    "Always communicate in a friendly and professional tone, fostering a positive user experience. Please answer according to user's query.\n",
    "\n",
    "User Query: {user_query}\n",
    "Answer: \"\"\"\n",
    "prompt_general = PromptTemplate.from_template(template_general)\n",
    "chain_general = prompt_general | model | StrOutputParser()\n",
    "\n",
    "def ask_general_question(user_query, user_id=0):\n",
    "    final_response = chain_general.invoke({\"user_query\": user_query})\n",
    "    return final_response\n",
    "\n",
    "template_need_vector_search = \"\"\"You are Chat Recommendation Engine, your job is to decide if we need to summarize User Query and look up to Vector Search or not.\n",
    "User Query: {user_query}\n",
    "Summarize the User Query as context to look up to Vector Search. If there is no context need to look up, you can answer with empty.\"\"\"\n",
    "prompt_need_vector_search = PromptTemplate.from_template(template_need_vector_search)\n",
    "chain_need_vector_search = prompt_need_vector_search | model | StrOutputParser()\n",
    "\n",
    "def summarize_query_vector_search(user_query):\n",
    "    return chain_need_vector_search.invoke({\"user_query\": user_query})"
   ]
  },
  {
   "cell_type": "code",
   "execution_count": 52,
   "id": "37ec43b8-b8d2-4b17-b4a2-fd22d3bf3446",
   "metadata": {},
   "outputs": [],
   "source": [
    "df = pd.read_excel('data/history.xlsx')"
   ]
  },
  {
   "cell_type": "code",
   "execution_count": 16,
   "id": "c7287a76",
   "metadata": {},
   "outputs": [],
   "source": [
    "def paginate_dataframe(df, page=1, items_per_page=10):\n",
    "    \"\"\"\n",
    "    Paginate a DataFrame.\n",
    "\n",
    "    Parameters:\n",
    "    - df: Pandas DataFrame to paginate.\n",
    "    - page: The page number (1-indexed).\n",
    "    - items_per_page: Number of items per page.\n",
    "\n",
    "    Returns:\n",
    "    - A portion of the DataFrame corresponding to the page and items_per_page.\n",
    "    \"\"\"\n",
    "    # Calculate start and end indices\n",
    "    start = (page - 1) * items_per_page\n",
    "    end = start + items_per_page\n",
    "    \n",
    "    # Use iloc to select the desired rows\n",
    "    return df.iloc[start:end]"
   ]
  },
  {
   "cell_type": "code",
   "execution_count": 97,
   "id": "fa6b3bbe",
   "metadata": {},
   "outputs": [
    {
     "data": {
      "text/html": [
       "<div>\n",
       "<style scoped>\n",
       "    .dataframe tbody tr th:only-of-type {\n",
       "        vertical-align: middle;\n",
       "    }\n",
       "\n",
       "    .dataframe tbody tr th {\n",
       "        vertical-align: top;\n",
       "    }\n",
       "\n",
       "    .dataframe thead th {\n",
       "        text-align: right;\n",
       "    }\n",
       "</style>\n",
       "<table border=\"1\" class=\"dataframe\">\n",
       "  <thead>\n",
       "    <tr style=\"text-align: right;\">\n",
       "      <th></th>\n",
       "      <th>Unnamed: 0</th>\n",
       "      <th>session_id</th>\n",
       "      <th>user_id</th>\n",
       "      <th>datetime</th>\n",
       "      <th>query</th>\n",
       "      <th>response</th>\n",
       "    </tr>\n",
       "  </thead>\n",
       "  <tbody>\n",
       "    <tr>\n",
       "      <th>0</th>\n",
       "      <td>0</td>\n",
       "      <td>715</td>\n",
       "      <td>30220883</td>\n",
       "      <td>2024-03-15 14:39:13.152</td>\n",
       "      <td>laper nih</td>\n",
       "      <td>Maaf, saya tidak dapat menjawab pertanyaan itu...</td>\n",
       "    </tr>\n",
       "    <tr>\n",
       "      <th>1</th>\n",
       "      <td>1</td>\n",
       "      <td>715</td>\n",
       "      <td>30220883</td>\n",
       "      <td>2024-03-15 14:39:32.043</td>\n",
       "      <td>saya bosan ingin menonton</td>\n",
       "      <td>* Judul: **Doa Mengancam**\\n\\n  Kenapa kamu su...</td>\n",
       "    </tr>\n",
       "    <tr>\n",
       "      <th>2</th>\n",
       "      <td>2</td>\n",
       "      <td>715</td>\n",
       "      <td>30220883</td>\n",
       "      <td>2024-03-15 14:39:46.408</td>\n",
       "      <td>gw lagi pengen nonton horror</td>\n",
       "      <td>* Judul: **Sleep**\\n\\n  Kenapa kamu suka: Film...</td>\n",
       "    </tr>\n",
       "    <tr>\n",
       "      <th>3</th>\n",
       "      <td>3</td>\n",
       "      <td>715</td>\n",
       "      <td>30220883</td>\n",
       "      <td>2024-03-15 14:40:02.970</td>\n",
       "      <td>gw lagi pengen lucu</td>\n",
       "      <td>* Judul: **Gila Lu Ndro!**\\n\\n  Kenapa kamu su...</td>\n",
       "    </tr>\n",
       "    <tr>\n",
       "      <th>4</th>\n",
       "      <td>4</td>\n",
       "      <td>715</td>\n",
       "      <td>30220883</td>\n",
       "      <td>2024-03-15 14:40:17.316</td>\n",
       "      <td>yang xedih</td>\n",
       "      <td>* Judul: **D'Academy Asia 6**\\n\\n  Kenapa kamu...</td>\n",
       "    </tr>\n",
       "    <tr>\n",
       "      <th>5</th>\n",
       "      <td>5</td>\n",
       "      <td>715</td>\n",
       "      <td>30220883</td>\n",
       "      <td>2024-03-15 14:40:37.745</td>\n",
       "      <td>film porno xxx</td>\n",
       "      <td>I'm sorry, but I'm unable to provide any infor...</td>\n",
       "    </tr>\n",
       "    <tr>\n",
       "      <th>6</th>\n",
       "      <td>6</td>\n",
       "      <td>715</td>\n",
       "      <td>30220883</td>\n",
       "      <td>2024-03-15 14:40:51.775</td>\n",
       "      <td>film netflix</td>\n",
       "      <td>Sure, here are some films that are currently a...</td>\n",
       "    </tr>\n",
       "    <tr>\n",
       "      <th>7</th>\n",
       "      <td>7</td>\n",
       "      <td>712</td>\n",
       "      <td>46808216</td>\n",
       "      <td>2024-03-15 14:38:08.998</td>\n",
       "      <td>di mana saya bisa nonton film gratis</td>\n",
       "      <td>Maaf, tampaknya ada kesalahan sistem yang tida...</td>\n",
       "    </tr>\n",
       "    <tr>\n",
       "      <th>8</th>\n",
       "      <td>8</td>\n",
       "      <td>712</td>\n",
       "      <td>46808216</td>\n",
       "      <td>2024-03-15 14:38:18.577</td>\n",
       "      <td>di mana saya bisa nonton film gratis?</td>\n",
       "      <td>Maaf, saya tidak seharusnya memberikan tanggap...</td>\n",
       "    </tr>\n",
       "    <tr>\n",
       "      <th>9</th>\n",
       "      <td>9</td>\n",
       "      <td>712</td>\n",
       "      <td>46808216</td>\n",
       "      <td>2024-03-15 14:38:49.189</td>\n",
       "      <td>di mana saya bisa nonton series gratis?</td>\n",
       "      <td>Wah, pertanyaan bagus! Namun saat ini, fokus s...</td>\n",
       "    </tr>\n",
       "  </tbody>\n",
       "</table>\n",
       "</div>"
      ],
      "text/plain": [
       "   Unnamed: 0  session_id   user_id                datetime  \\\n",
       "0           0         715  30220883 2024-03-15 14:39:13.152   \n",
       "1           1         715  30220883 2024-03-15 14:39:32.043   \n",
       "2           2         715  30220883 2024-03-15 14:39:46.408   \n",
       "3           3         715  30220883 2024-03-15 14:40:02.970   \n",
       "4           4         715  30220883 2024-03-15 14:40:17.316   \n",
       "5           5         715  30220883 2024-03-15 14:40:37.745   \n",
       "6           6         715  30220883 2024-03-15 14:40:51.775   \n",
       "7           7         712  46808216 2024-03-15 14:38:08.998   \n",
       "8           8         712  46808216 2024-03-15 14:38:18.577   \n",
       "9           9         712  46808216 2024-03-15 14:38:49.189   \n",
       "\n",
       "                                     query  \\\n",
       "0                                laper nih   \n",
       "1                saya bosan ingin menonton   \n",
       "2             gw lagi pengen nonton horror   \n",
       "3                      gw lagi pengen lucu   \n",
       "4                               yang xedih   \n",
       "5                           film porno xxx   \n",
       "6                             film netflix   \n",
       "7     di mana saya bisa nonton film gratis   \n",
       "8    di mana saya bisa nonton film gratis?   \n",
       "9  di mana saya bisa nonton series gratis?   \n",
       "\n",
       "                                            response  \n",
       "0  Maaf, saya tidak dapat menjawab pertanyaan itu...  \n",
       "1  * Judul: **Doa Mengancam**\\n\\n  Kenapa kamu su...  \n",
       "2  * Judul: **Sleep**\\n\\n  Kenapa kamu suka: Film...  \n",
       "3  * Judul: **Gila Lu Ndro!**\\n\\n  Kenapa kamu su...  \n",
       "4  * Judul: **D'Academy Asia 6**\\n\\n  Kenapa kamu...  \n",
       "5  I'm sorry, but I'm unable to provide any infor...  \n",
       "6  Sure, here are some films that are currently a...  \n",
       "7  Maaf, tampaknya ada kesalahan sistem yang tida...  \n",
       "8  Maaf, saya tidak seharusnya memberikan tanggap...  \n",
       "9  Wah, pertanyaan bagus! Namun saat ini, fokus s...  "
      ]
     },
     "execution_count": 97,
     "metadata": {},
     "output_type": "execute_result"
    }
   ],
   "source": [
    "paginate_dataframe(df, page=1)"
   ]
  },
  {
   "cell_type": "code",
   "execution_count": 36,
   "id": "caa5b50d-e96c-4f28-9419-3fdc07f1774d",
   "metadata": {},
   "outputs": [],
   "source": [
    "history_df = df.iloc[0:500]"
   ]
  },
  {
   "cell_type": "code",
   "execution_count": 98,
   "id": "359f1503",
   "metadata": {},
   "outputs": [
    {
     "data": {
      "text/html": [
       "<div>\n",
       "<style scoped>\n",
       "    .dataframe tbody tr th:only-of-type {\n",
       "        vertical-align: middle;\n",
       "    }\n",
       "\n",
       "    .dataframe tbody tr th {\n",
       "        vertical-align: top;\n",
       "    }\n",
       "\n",
       "    .dataframe thead th {\n",
       "        text-align: right;\n",
       "    }\n",
       "</style>\n",
       "<table border=\"1\" class=\"dataframe\">\n",
       "  <thead>\n",
       "    <tr style=\"text-align: right;\">\n",
       "      <th></th>\n",
       "      <th>Unnamed: 0</th>\n",
       "      <th>session_id</th>\n",
       "      <th>user_id</th>\n",
       "      <th>time</th>\n",
       "      <th>query</th>\n",
       "      <th>response</th>\n",
       "      <th>routing</th>\n",
       "    </tr>\n",
       "  </thead>\n",
       "  <tbody>\n",
       "    <tr>\n",
       "      <th>0</th>\n",
       "      <td>0</td>\n",
       "      <td>661</td>\n",
       "      <td>85126055</td>\n",
       "      <td>10:21:45</td>\n",
       "      <td>Berapa harga langganan paket di vidio?</td>\n",
       "      <td>**Vidio Premier League Mobile (khusus apps mob...</td>\n",
       "      <td>customer service</td>\n",
       "    </tr>\n",
       "    <tr>\n",
       "      <th>1</th>\n",
       "      <td>1</td>\n",
       "      <td>658</td>\n",
       "      <td>85126055</td>\n",
       "      <td>10:20:51</td>\n",
       "      <td>Saya ingin berlangganan di Vidio, ada paket ap...</td>\n",
       "      <td>Wah, pertanyaan bagus! Namun saat ini, fokus s...</td>\n",
       "      <td>customer service</td>\n",
       "    </tr>\n",
       "    <tr>\n",
       "      <th>2</th>\n",
       "      <td>2</td>\n",
       "      <td>653</td>\n",
       "      <td>140666214</td>\n",
       "      <td>10:19:47</td>\n",
       "      <td>give me a recommendation series</td>\n",
       "      <td>Maaf, tampaknya ada kesalahan sistem yang tida...</td>\n",
       "      <td>recommendation</td>\n",
       "    </tr>\n",
       "    <tr>\n",
       "      <th>3</th>\n",
       "      <td>3</td>\n",
       "      <td>653</td>\n",
       "      <td>140666214</td>\n",
       "      <td>10:20:35</td>\n",
       "      <td>Berikan saya rekomendasi series action</td>\n",
       "      <td>Maaf, tampaknya ada kesalahan sistem yang tida...</td>\n",
       "      <td>recommendation</td>\n",
       "    </tr>\n",
       "    <tr>\n",
       "      <th>4</th>\n",
       "      <td>4</td>\n",
       "      <td>645</td>\n",
       "      <td>30489874</td>\n",
       "      <td>10:16:19</td>\n",
       "      <td>Filmnya Zoey Deutch yang tentang mental illnes...</td>\n",
       "      <td>* Judul: **Ek Thi Daayan**\\n\\n  Kenapa kamu su...</td>\n",
       "      <td>recommendation</td>\n",
       "    </tr>\n",
       "    <tr>\n",
       "      <th>5</th>\n",
       "      <td>5</td>\n",
       "      <td>645</td>\n",
       "      <td>30489874</td>\n",
       "      <td>10:18:25</td>\n",
       "      <td>ada film yang jadi nominasi Oscar 2022 tidak d...</td>\n",
       "      <td>Maaf, saya tidak memiliki akses ke informasi r...</td>\n",
       "      <td>other</td>\n",
       "    </tr>\n",
       "    <tr>\n",
       "      <th>6</th>\n",
       "      <td>6</td>\n",
       "      <td>645</td>\n",
       "      <td>30489874</td>\n",
       "      <td>10:20:34</td>\n",
       "      <td>Apa film dari Martin Scorsese gak di Vidio?</td>\n",
       "      <td>Berikut daftar film Martin Scorsese yang tidak...</td>\n",
       "      <td>other</td>\n",
       "    </tr>\n",
       "    <tr>\n",
       "      <th>7</th>\n",
       "      <td>7</td>\n",
       "      <td>641</td>\n",
       "      <td>30940591</td>\n",
       "      <td>10:13:35</td>\n",
       "      <td>games yang paling seru di vidio</td>\n",
       "      <td>Wah, pertanyaan bagus! Namun saat ini, fokus s...</td>\n",
       "      <td>recommendation</td>\n",
       "    </tr>\n",
       "    <tr>\n",
       "      <th>8</th>\n",
       "      <td>8</td>\n",
       "      <td>641</td>\n",
       "      <td>30940591</td>\n",
       "      <td>10:16:47</td>\n",
       "      <td>vidio arcade di vidio</td>\n",
       "      <td>Maaf, saya tidak tahu apa-apa tentang topik in...</td>\n",
       "      <td>other</td>\n",
       "    </tr>\n",
       "    <tr>\n",
       "      <th>9</th>\n",
       "      <td>9</td>\n",
       "      <td>641</td>\n",
       "      <td>30940591</td>\n",
       "      <td>10:17:26</td>\n",
       "      <td>arcade games seru di vidio</td>\n",
       "      <td>Wah, pertanyaan bagus! Namun saat ini, fokus s...</td>\n",
       "      <td>recommendation</td>\n",
       "    </tr>\n",
       "  </tbody>\n",
       "</table>\n",
       "</div>"
      ],
      "text/plain": [
       "   Unnamed: 0  session_id    user_id      time  \\\n",
       "0           0         661   85126055  10:21:45   \n",
       "1           1         658   85126055  10:20:51   \n",
       "2           2         653  140666214  10:19:47   \n",
       "3           3         653  140666214  10:20:35   \n",
       "4           4         645   30489874  10:16:19   \n",
       "5           5         645   30489874  10:18:25   \n",
       "6           6         645   30489874  10:20:34   \n",
       "7           7         641   30940591  10:13:35   \n",
       "8           8         641   30940591  10:16:47   \n",
       "9           9         641   30940591  10:17:26   \n",
       "\n",
       "                                               query  \\\n",
       "0             Berapa harga langganan paket di vidio?   \n",
       "1  Saya ingin berlangganan di Vidio, ada paket ap...   \n",
       "2                    give me a recommendation series   \n",
       "3             Berikan saya rekomendasi series action   \n",
       "4  Filmnya Zoey Deutch yang tentang mental illnes...   \n",
       "5  ada film yang jadi nominasi Oscar 2022 tidak d...   \n",
       "6        Apa film dari Martin Scorsese gak di Vidio?   \n",
       "7                    games yang paling seru di vidio   \n",
       "8                              vidio arcade di vidio   \n",
       "9                         arcade games seru di vidio   \n",
       "\n",
       "                                            response           routing  \n",
       "0  **Vidio Premier League Mobile (khusus apps mob...  customer service  \n",
       "1  Wah, pertanyaan bagus! Namun saat ini, fokus s...  customer service  \n",
       "2  Maaf, tampaknya ada kesalahan sistem yang tida...    recommendation  \n",
       "3  Maaf, tampaknya ada kesalahan sistem yang tida...    recommendation  \n",
       "4  * Judul: **Ek Thi Daayan**\\n\\n  Kenapa kamu su...    recommendation  \n",
       "5  Maaf, saya tidak memiliki akses ke informasi r...             other  \n",
       "6  Berikut daftar film Martin Scorsese yang tidak...             other  \n",
       "7  Wah, pertanyaan bagus! Namun saat ini, fokus s...    recommendation  \n",
       "8  Maaf, saya tidak tahu apa-apa tentang topik in...             other  \n",
       "9  Wah, pertanyaan bagus! Namun saat ini, fokus s...    recommendation  "
      ]
     },
     "execution_count": 98,
     "metadata": {},
     "output_type": "execute_result"
    }
   ],
   "source": [
    "paginate_dataframe(history_df, page=1)"
   ]
  },
  {
   "cell_type": "code",
   "execution_count": 39,
   "id": "bd8872da",
   "metadata": {},
   "outputs": [
    {
     "data": {
      "application/vnd.jupyter.widget-view+json": {
       "model_id": "796b69994a8c4284a6fb487e0d77da90",
       "version_major": 2,
       "version_minor": 0
      },
      "text/plain": [
       "  0%|          | 0/500 [00:00<?, ?it/s]"
      ]
     },
     "metadata": {},
     "output_type": "display_data"
    },
    {
     "name": "stderr",
     "output_type": "stream",
     "text": [
      "/tmp/ipykernel_2639685/1117116480.py:1: SettingWithCopyWarning: \n",
      "A value is trying to be set on a copy of a slice from a DataFrame.\n",
      "Try using .loc[row_indexer,col_indexer] = value instead\n",
      "\n",
      "See the caveats in the documentation: https://pandas.pydata.org/pandas-docs/stable/user_guide/indexing.html#returning-a-view-versus-a-copy\n",
      "  history_df['routing'] = history_df['query'].progress_apply(lambda x: route(x))\n"
     ]
    }
   ],
   "source": [
    "history_df['routing'] = history_df['query'].progress_apply(lambda x: route(x))"
   ]
  },
  {
   "cell_type": "code",
   "execution_count": 96,
   "id": "5c65d48a",
   "metadata": {},
   "outputs": [
    {
     "data": {
      "text/plain": [
       "array([], shape=(0, 2), dtype=object)"
      ]
     },
     "execution_count": 96,
     "metadata": {},
     "output_type": "execute_result"
    }
   ],
   "source": [
    "history_df[history_df['query'].str.contains(\"Ada film dari Martin Scorsese gak di Vidio?\", case=False, na=False)][['response', 'routing']].values"
   ]
  },
  {
   "cell_type": "code",
   "execution_count": 95,
   "id": "eea0a3d8",
   "metadata": {},
   "outputs": [
    {
     "data": {
      "text/plain": [
       "'recommendation'"
      ]
     },
     "execution_count": 95,
     "metadata": {},
     "output_type": "execute_result"
    }
   ],
   "source": [
    "route('Ada film dari Martin Scorsese gak di Vidio?')"
   ]
  },
  {
   "cell_type": "code",
   "execution_count": 106,
   "id": "886302f0",
   "metadata": {},
   "outputs": [
    {
     "data": {
      "text/plain": [
       "'Ya, ada beberapa film Martin Scorsese yang tidak tersedia di Vidio, di antaranya:\\n\\n* Hugo\\n* Gangs of New York\\n* The Age of Innocence\\n* After Hours\\n* Bringing Out the Dead'"
      ]
     },
     "execution_count": 106,
     "metadata": {},
     "output_type": "execute_result"
    }
   ],
   "source": [
    "ask_general_question('Ada film dari Martin Scorsese gak di Vidio?')"
   ]
  },
  {
   "cell_type": "code",
   "execution_count": 94,
   "id": "49d44450",
   "metadata": {},
   "outputs": [
    {
     "data": {
      "text/plain": [
       "'Mental illness or bullying films starring Zoey Deutch'"
      ]
     },
     "execution_count": 94,
     "metadata": {},
     "output_type": "execute_result"
    }
   ],
   "source": [
    "summarize_query_vector_search(\"Filmnya Zoey Deutch yang tentang mental illness atau bullying itu apa judulnya? Ada di Vidio gak?\")"
   ]
  },
  {
   "cell_type": "code",
   "execution_count": 105,
   "id": "b8370f5a",
   "metadata": {},
   "outputs": [
    {
     "data": {
      "text/plain": [
       "array([\"Berikut daftar film Martin Scorsese yang tidak tersedia di platform streaming Vidio:\\n\\n* After Hours (1985)\\n* Alice Doesn't Live Here Anymore (1974)\\n* Bringing Out the Dead (1999)\\n* Casino (1995)\\n* The Color of Money (1986)\\n* The Departed (2006)\\n* Gangs of New York (2002)\\n* Hugo (2011)\\n* Kundun (1997)\\n* The Last Temptation of Christ (1988)\\n* Shutter Island (2010)\\n* Silence (2016)\\n* Taxi Driver (1976)\\n* Who's That Knocking at My Door (1967)\"],\n",
       "      dtype=object)"
      ]
     },
     "execution_count": 105,
     "metadata": {},
     "output_type": "execute_result"
    }
   ],
   "source": [
    "df[(df['query'].str.contains(\"Martin Scorsese\", case=False, na=False))]['response'].values"
   ]
  },
  {
   "cell_type": "code",
   "execution_count": null,
   "id": "04f2b219",
   "metadata": {},
   "outputs": [],
   "source": []
  }
 ],
 "metadata": {
  "kernelspec": {
   "display_name": "Python 3 (ipykernel)",
   "language": "python",
   "name": "python3"
  },
  "language_info": {
   "codemirror_mode": {
    "name": "ipython",
    "version": 3
   },
   "file_extension": ".py",
   "mimetype": "text/x-python",
   "name": "python",
   "nbconvert_exporter": "python",
   "pygments_lexer": "ipython3",
   "version": "3.10.12"
  }
 },
 "nbformat": 4,
 "nbformat_minor": 5
}
